{
 "cells": [
  {
   "cell_type": "code",
   "execution_count": null,
   "id": "a3fa8a0e",
   "metadata": {},
   "outputs": [],
   "source": [
    "def solution(answers):\n",
    "    answer = []\n",
    "    return answer"
   ]
  },
  {
   "cell_type": "code",
   "execution_count": 40,
   "id": "eedf3892",
   "metadata": {},
   "outputs": [],
   "source": [
    "def solution(answers):\n",
    "    answer = []\n",
    "    return answer\n",
    "\n",
    "## 답안의 길이를 정해놓는 경우\n",
    "# answer의 길이 = 답변의 길이\n",
    "answers = [1,2,3,4,5]\n",
    "len_ans = len(answers)\n",
    "fif_len = int(len(answers)/5)\n",
    "\n",
    "# 1번\n",
    "# 12345....\n",
    "st = [1,2,3,4,5] * fif_len\n",
    "\n",
    "\n",
    "# 2번\n",
    "# 21232425...\n",
    "l = [2,1,2,3,2,4,2,5]\n",
    "nd = [l[i] for i in range(len_ans)]\n",
    "\n",
    "\n",
    "# 3번\n",
    "# 3311224455...\n",
    "m = [3,3,1,1,2,2,4,4,5,5]\n",
    "rd =[m[i] for i in range(len_ans)]"
   ]
  },
  {
   "cell_type": "code",
   "execution_count": 41,
   "id": "e8f9c901",
   "metadata": {},
   "outputs": [
    {
     "data": {
      "text/plain": [
       "4"
      ]
     },
     "execution_count": 41,
     "metadata": {},
     "output_type": "execute_result"
    }
   ],
   "source": [
    "# answer와 비교하기\n",
    "answers = [1,2,3,4,5]\n",
    "def st_test(answers):\n",
    "    count_st = 0\n",
    "    for i in range(len_ans-1):\n",
    "        if st[i] == answer[i]:\n",
    "            count_st += 1\n",
    "    return count_st\n",
    "\n",
    "st_test(answers)"
   ]
  },
  {
   "cell_type": "code",
   "execution_count": 42,
   "id": "02ed0715",
   "metadata": {},
   "outputs": [
    {
     "data": {
      "text/plain": [
       "0"
      ]
     },
     "execution_count": 42,
     "metadata": {},
     "output_type": "execute_result"
    }
   ],
   "source": [
    "answers = [1,2,3,4,5]\n",
    "def nd_test(answers):\n",
    "    count_nd = 0\n",
    "    for i in range(len_ans-1):\n",
    "        if nd[i] == answer[i]:\n",
    "            count_nd += 1\n",
    "    return count_nd\n",
    "\n",
    "nd_test(answers)"
   ]
  },
  {
   "cell_type": "code",
   "execution_count": 43,
   "id": "10b5cc57",
   "metadata": {},
   "outputs": [
    {
     "data": {
      "text/plain": [
       "0"
      ]
     },
     "execution_count": 43,
     "metadata": {},
     "output_type": "execute_result"
    }
   ],
   "source": [
    "answers = [1,2,3,4,5]\n",
    "def rd_test(answers):\n",
    "    count_rd = 0\n",
    "    for i in range(len_ans-1):\n",
    "        if rd[i] == answer[i]:\n",
    "            count_rd += 1\n",
    "    return count_rd\n",
    "\n",
    "rd_test(answers)"
   ]
  },
  {
   "cell_type": "code",
   "execution_count": 52,
   "id": "89651055",
   "metadata": {},
   "outputs": [
    {
     "data": {
      "text/plain": [
       "[1]"
      ]
     },
     "execution_count": 52,
     "metadata": {},
     "output_type": "execute_result"
    }
   ],
   "source": [
    "# 합치기\n",
    "answers = [1,2,3,4,5]\n",
    "\n",
    "def solution(answers):\n",
    "    answer = [] \n",
    "    count_st = 0\n",
    "    for i in range(len_ans-1):\n",
    "        if st[i] == answers[i]:\n",
    "            count_st += 1\n",
    "\n",
    "    count_nd = 0\n",
    "    for i in range(len_ans-1):\n",
    "        if nd[i] == answers[i]:\n",
    "            count_nd += 1\n",
    "            \n",
    "    count_rd = 0\n",
    "    for i in range(len_ans-1):\n",
    "        if rd[i] == answers[i]:\n",
    "            count_rd += 1\n",
    "    # 가장 큰 count를 출력. 단, 같으면 모두 출력\n",
    "    if max([count_st, count_nd, count_rd]) == count_st:\n",
    "        answer.append(1)\n",
    "    elif max([count_st, count_nd, count_rd]) == count_nd:\n",
    "        answer.append(2)\n",
    "    elif max([count_st, count_nd, count_rd]) == count_rd:\n",
    "        answer.append(3)\n",
    "    \n",
    "    return answer\n",
    "\n",
    "solution(answers)"
   ]
  },
  {
   "cell_type": "code",
   "execution_count": 72,
   "id": "04b1ce31",
   "metadata": {},
   "outputs": [
    {
     "data": {
      "text/plain": [
       "[1, 2, 3]"
      ]
     },
     "execution_count": 72,
     "metadata": {},
     "output_type": "execute_result"
    }
   ],
   "source": [
    "# 필요한거 가져와서 합치기\n",
    "# 첫번째 답안 -> 런타임 에러\n",
    "answers = [1,3,2,4,2]\n",
    "\n",
    "def solution(answers):\n",
    "    answer = []\n",
    "    len_ans = len(answers)\n",
    "    fif_len = int(len(answers)/5)\n",
    "    l = [2,1,2,3,2,4,2,5]\n",
    "    m = [3,3,1,1,2,2,4,4,5,5]\n",
    "    st = [1,2,3,4,5] * fif_len\n",
    "    nd = [l[i] for i in range(len_ans)]\n",
    "    rd =[m[i] for i in range(len_ans)]\n",
    "    \n",
    "    count_st = 0\n",
    "    for i in range(len_ans):\n",
    "        if st[i] == answers[i]:\n",
    "            count_st += 1\n",
    "    count_nd = 0\n",
    "    for i in range(len_ans):\n",
    "        if nd[i] == answers[i]:\n",
    "            count_nd += 1\n",
    "    count_rd = 0\n",
    "    for i in range(len_ans):\n",
    "        if rd[i] == answers[i]:\n",
    "            count_rd += 1\n",
    "            \n",
    "    # 가장 큰 count를 출력. 단, 같으면 모두 출력\n",
    "    if max([count_st, count_nd, count_rd]) == count_st:\n",
    "        answer.append(1)\n",
    "\n",
    "    if max([count_st, count_nd, count_rd]) == count_nd:\n",
    "        answer.append(2)\n",
    "\n",
    "    if max([count_st, count_nd, count_rd]) == count_rd:\n",
    "        answer.append(3)\n",
    "    \n",
    "    return answer\n",
    "\n",
    "solution(answers)"
   ]
  },
  {
   "cell_type": "code",
   "execution_count": 75,
   "id": "a2d47023",
   "metadata": {},
   "outputs": [
    {
     "data": {
      "text/plain": [
       "[1, 2, 3]"
      ]
     },
     "execution_count": 75,
     "metadata": {},
     "output_type": "execute_result"
    }
   ],
   "source": [
    "## 수정하기\n",
    "# for문 합치기\n",
    "# if문 for + enumerate로 합치기 -> 그래도 런타임 에러\n",
    "answers = [1,3,2,4,2]\n",
    "\n",
    "def solution(answers):\n",
    "    answer = []\n",
    "    len_ans = len(answers)\n",
    "    l = [2,1,2,3,2,4,2,5]\n",
    "    m = [3,3,1,1,2,2,4,4,5,5]\n",
    "    st = [1,2,3,4,5] * int(len(answers)/5)\n",
    "    nd = [l[i] for i in range(len_ans)]\n",
    "    rd =[m[i] for i in range(len_ans)]\n",
    "    \n",
    "    count_st = 0\n",
    "    count_nd = 0\n",
    "    count_rd = 0\n",
    "    for i in range(len_ans):\n",
    "        if st[i] == answers[i]:\n",
    "            count_st += 1\n",
    "        if nd[i] == answers[i]:\n",
    "            count_nd += 1\n",
    "        if rd[i] == answers[i]:\n",
    "            count_rd += 1\n",
    "\n",
    "    for i, count in enumerate([count_st,count_nd,count_rd]):\n",
    "        if max([count_st, count_nd, count_rd]) == count:\n",
    "            answer.append(i+1)\n",
    "    \n",
    "    return answer\n",
    "\n",
    "solution(answers)"
   ]
  },
  {
   "cell_type": "code",
   "execution_count": 88,
   "id": "225b9fec",
   "metadata": {},
   "outputs": [
    {
     "data": {
      "text/plain": [
       "[1, 2, 3]"
      ]
     },
     "execution_count": 88,
     "metadata": {},
     "output_type": "execute_result"
    }
   ],
   "source": [
    "## 수정하기\n",
    "# 오류 해결 : 각 찍기 패턴의 길이가 작아서 런타임 에러가 났던 것이다(인덱스 오류)\n",
    "# answers가 길이 5짜리면 상관없었지만 그 이상이면 에러가 났던것.\n",
    "# 따라서 각 찍기 패턴의 길이를 문제의 길이보다 충분히 늘려주기만 하면 해결됨. \n",
    "# 문제가 10000개면 과하게 길어지긴 할 것이다.\n",
    "\n",
    "answers = [1,3,2,4,2]\n",
    "\n",
    "def solution(answers):\n",
    "    answer = []\n",
    "    len_ans = len(answers)\n",
    "    n = [1,2,3,4,5] * len(answers)\n",
    "    l = [2,1,2,3,2,4,2,5] * len(answers)\n",
    "    m = [3,3,1,1,2,2,4,4,5,5] * len(answers)\n",
    "    st = [n[i] for i in range(len_ans)]\n",
    "    nd = [l[i] for i in range(len_ans)]\n",
    "    rd =[m[i] for i in range(len_ans)]\n",
    "    \n",
    "    count_st = 0\n",
    "    count_nd = 0\n",
    "    count_rd = 0\n",
    "    for i in range(len_ans):\n",
    "        if st[i] == answers[i]:\n",
    "            count_st += 1\n",
    "        if nd[i] == answers[i]:\n",
    "            count_nd += 1\n",
    "        if rd[i] == answers[i]:\n",
    "            count_rd += 1\n",
    "\n",
    "    for i, count in enumerate([count_st,count_nd,count_rd]):\n",
    "        if max([count_st, count_nd, count_rd]) == count:\n",
    "            answer.append(i+1)\n",
    "    \n",
    "    return answer\n",
    "\n",
    "solution(answers)"
   ]
  },
  {
   "cell_type": "code",
   "execution_count": 87,
   "id": "9a6c4c70",
   "metadata": {},
   "outputs": [
    {
     "data": {
      "text/plain": [
       "[2, 1, 2, 3, 2, 4, 2, 5, 2, 1, 2, 3, 2, 4, 2, 5, 2, 1, 2, 3, 2, 4, 2, 5]"
      ]
     },
     "execution_count": 87,
     "metadata": {},
     "output_type": "execute_result"
    }
   ],
   "source": []
  },
  {
   "cell_type": "code",
   "execution_count": 83,
   "id": "d19cb011",
   "metadata": {},
   "outputs": [
    {
     "data": {
      "text/plain": [
       "[1, 2, 3]"
      ]
     },
     "execution_count": 83,
     "metadata": {},
     "output_type": "execute_result"
    }
   ],
   "source": [
    "## 수정하기 02\n",
    "# 한번만 쓴 변수 바로 넣기\n",
    "answers = [1,3,2,4,2]\n",
    "\n",
    "def solution(answers):\n",
    "    answer = []\n",
    "    len_ans = len(answers)\n",
    "    \n",
    "    count_st = 0\n",
    "    count_nd = 0\n",
    "    count_rd = 0\n",
    "    for i in range(len_ans):\n",
    "        if ([1,2,3,4,5] * int(len_ans/5))[i] == answers[i]:\n",
    "            count_st += 1\n",
    "        if [[2,1,2,3,2,4,2,5][i] for i in range(len_ans)][i] == answers[i]:\n",
    "            count_nd += 1\n",
    "        if [[3,3,1,1,2,2,4,4,5,5][i] for i in range(len_ans)][i] == answers[i]:\n",
    "            count_rd += 1\n",
    "\n",
    "    for i, count in enumerate([count_st,count_nd,count_rd]):\n",
    "        if max([count_st, count_nd, count_rd]) == count:\n",
    "            answer.append(i+1)\n",
    "    \n",
    "    return answer\n",
    "\n",
    "solution(answers)"
   ]
  },
  {
   "cell_type": "code",
   "execution_count": 81,
   "id": "c4c24ba4",
   "metadata": {},
   "outputs": [
    {
     "ename": "AttributeError",
     "evalue": "'int' object has no attribute 'append'",
     "output_type": "error",
     "traceback": [
      "\u001b[0;31m---------------------------------------------------------------------------\u001b[0m",
      "\u001b[0;31mAttributeError\u001b[0m                            Traceback (most recent call last)",
      "\u001b[0;32m<ipython-input-81-4cbd7b4c9e5e>\u001b[0m in \u001b[0;36m<module>\u001b[0;34m\u001b[0m\n\u001b[1;32m      1\u001b[0m \u001b[0ma\u001b[0m \u001b[0;34m=\u001b[0m \u001b[0;36m1\u001b[0m\u001b[0;34m\u001b[0m\u001b[0;34m\u001b[0m\u001b[0m\n\u001b[0;32m----> 2\u001b[0;31m \u001b[0ma\u001b[0m\u001b[0;34m.\u001b[0m\u001b[0mappend\u001b[0m\u001b[0;34m(\u001b[0m\u001b[0;36m1\u001b[0m\u001b[0;34m)\u001b[0m\u001b[0;34m\u001b[0m\u001b[0;34m\u001b[0m\u001b[0m\n\u001b[0m",
      "\u001b[0;31mAttributeError\u001b[0m: 'int' object has no attribute 'append'"
     ]
    }
   ],
   "source": [
    "a = 1"
   ]
  },
  {
   "cell_type": "code",
   "execution_count": null,
   "id": "7a1c80fd",
   "metadata": {},
   "outputs": [],
   "source": [
    "# answer의 마지막 원소가 나오면 행렬을 끝내는 반복문으로 구현"
   ]
  }
 ],
 "metadata": {
  "kernelspec": {
   "display_name": "Python 3",
   "language": "python",
   "name": "python3"
  },
  "language_info": {
   "codemirror_mode": {
    "name": "ipython",
    "version": 3
   },
   "file_extension": ".py",
   "mimetype": "text/x-python",
   "name": "python",
   "nbconvert_exporter": "python",
   "pygments_lexer": "ipython3",
   "version": "3.8.2"
  }
 },
 "nbformat": 4,
 "nbformat_minor": 5
}
