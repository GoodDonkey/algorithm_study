{
 "cells": [
  {
   "cell_type": "code",
   "execution_count": 1,
   "id": "81538da8",
   "metadata": {},
   "outputs": [],
   "source": [
    "# 수열 만들기\n",
    "# 트럭은 [7,4,5,6]\n",
    "# bridge_length = 2 -> [ ][ ]\n",
    "# limit_weight = 10\n",
    "\n",
    "time = [0,1,2,3,4,5,6,7,8]\n",
    "OnBridge = [0,7,0,4,5,0,6,0]\n"
   ]
  },
  {
   "cell_type": "markdown",
   "id": "a8e0aaac",
   "metadata": {},
   "source": [
    "큐를 만든다."
   ]
  },
  {
   "cell_type": "code",
   "execution_count": null,
   "id": "9a60519e",
   "metadata": {},
   "outputs": [],
   "source": [
    "# 큐를 만든다\n",
    "queue = []\n",
    "# [7,4,5,6] 을 차례로 하나씩 넣는다.\n",
    "queue.append(7)\n",
    "# 다음 수와 첫번째 수의 합이 10이 넘으면 0을 넣는다.\n",
    "queue.append(0)\n",
    "# 3번째 시행이 일어나기 전, 맨 처음 값을 빼낸다. 다음 시행 부터는 pop을 반복한다.\n",
    "queue.pop(0)\n",
    "# 3번째 수를 넣는데 이 때 다음 넣는 수와 이전 수의 합이 10 이상이면 0을 넣는다\n",
    "queue.append(0)\n",
    "# 이렇게 모든 수를 위와같이 수행한다.\n",
    "\n",
    "# queue = [0,0]이 되면 종료한다. ([0]*len(bridge_length))"
   ]
  },
  {
   "cell_type": "code",
   "execution_count": null,
   "id": "2a22a77b",
   "metadata": {},
   "outputs": [],
   "source": [
    "# 큐를 만든다\n",
    "queue = []\n",
    "# truck = [7,4,5,6] 을 차례로 하나씩 넣는다.\n",
    "queue.append(truck[0])\n",
    "# 다음 수와 첫번째 수의 합이 10이 넘으면 0을 넣는다.\n",
    "queue.append(0)\n",
    "# 3번째 시행이 일어나기 전, 맨 처음 값을 빼낸다. 다음 시행 부터는 pop을 반복한다.\n",
    "queue.pop(0)\n",
    "# 3번째 수를 넣는데 이 때 다음 넣는 수와 이전 수의 합이 10 이상이면 0을 넣는다\n",
    "queue.append(0)\n",
    "# 이렇게 모든 수를 위와같이 수행한다.\n",
    "\n",
    "# queue = [0,0]이 되면 종료한다. ([0]*len(bridge_length))\n",
    "\n",
    "# 맨처음 수행은 append만, 세번째부터는 pop()사용\n"
   ]
  },
  {
   "cell_type": "code",
   "execution_count": 7,
   "id": "f96bd8d4",
   "metadata": {},
   "outputs": [],
   "source": [
    "def solution(bridge_length, weight, truck_weights):\n",
    "    answer = 0\n",
    "    queue = []\n",
    "    truck_weights = [7,4,5,6]\n",
    "    index = 0\n",
    "    \n",
    "    # 1초\n",
    "    queue.append(truck_weights[0])\n",
    "    \n",
    "    # 2초\n",
    "    if truck_weights[index] + truck_weights[index+1] > 10:\n",
    "        queue.append(0)\n",
    "    else:\n",
    "        index += 1\n",
    "        truck_weights.append(truck_weights[index])\n",
    "    \n",
    "    # 3초 (2초에서 0넣었을 경우)\n",
    "    queue.pop(0)\n",
    "    if queue[0] + truck_weights[1] > 10:\n",
    "        queue.append(0)\n",
    "    else:\n",
    "        truck_weights.append(truck_weights[1])\n",
    "    \n",
    "    # 3초 (2초에서 truck_weights[1]넣었을 경우)\n",
    "    queue.pop(0)\n",
    "    if queue[0] + truck_weights[1] > 10:\n",
    "        queue.append(0)\n",
    "    else:\n",
    "        truck_weights.append(truck_weights[2])\n",
    "        \n",
    "    # 4초\n",
    "    queue.pop(0)\n",
    "    if truck_weights[2] + truck_weights[3] > 10:\n",
    "        queue.append(0)\n",
    "    else:\n",
    "        truck_weights.append(truck_weights[3])\n",
    "\n",
    "    return answer\n"
   ]
  },
  {
   "cell_type": "code",
   "execution_count": 21,
   "id": "7d652d4b",
   "metadata": {},
   "outputs": [],
   "source": [
    "# 답안 1\n",
    "\n",
    "def solution(bridge_length, weight, truck_weights):\n",
    "    answer = 0\n",
    "    queue = [0]*bridge_length\n",
    "    index = 0\n",
    "    counter = 0\n",
    "    \n",
    "    # 1초\n",
    "    counter += 1\n",
    "    queue.pop(0)\n",
    "    queue.append(truck_weights[index]) # 7 추가\n",
    "    \n",
    "    # 2초부터\n",
    "    while index < len(truck_weights)-1:\n",
    "        counter += 1 # 시간\n",
    "        if queue[1] + truck_weights[index+1] > weight:\n",
    "            queue.pop(0)\n",
    "            queue.append(0)\n",
    "        else:\n",
    "            index += 1\n",
    "            queue.pop(0)\n",
    "            queue.append(truck_weights[index])\n",
    "    answer = counter + bridge_length\n",
    "    print(counter)\n",
    "    print(index)\n",
    "    return answer\n"
   ]
  },
  {
   "cell_type": "code",
   "execution_count": 22,
   "id": "2184eb21",
   "metadata": {},
   "outputs": [
    {
     "name": "stdout",
     "output_type": "stream",
     "text": [
      "6\n",
      "3\n"
     ]
    },
    {
     "data": {
      "text/plain": [
       "8"
      ]
     },
     "execution_count": 22,
     "metadata": {},
     "output_type": "execute_result"
    }
   ],
   "source": [
    "solution(2,10,[7,4,5,6])"
   ]
  },
  {
   "cell_type": "code",
   "execution_count": 13,
   "id": "9e8662b2",
   "metadata": {},
   "outputs": [
    {
     "name": "stdout",
     "output_type": "stream",
     "text": [
      "1\n"
     ]
    }
   ],
   "source": [
    "index, counter, queue\n",
    "\n",
    "0초,0,0,[0,0]\n",
    "1초,0,1,[0,7]\n",
    "2초,0,2,[7,0]\n",
    "3초,0,3,[0,4]\n",
    "4초,1,4,[4,5]\n",
    "5초,2,5,[5,0]\n",
    "6초,2,6,[0,6]\n",
    "7초,3\n",
    "[5,0]\n"
   ]
  },
  {
   "cell_type": "code",
   "execution_count": 18,
   "id": "c5df067c",
   "metadata": {},
   "outputs": [],
   "source": [
    "# 답안 2\n",
    "\n",
    "def solution(bridge_length, weight, truck_weights):\n",
    "    answer = 0\n",
    "    queue = [0,0]\n",
    "    index = 0\n",
    "    counter = 0\n",
    "    \n",
    "    # 1초\n",
    "    counter += 1\n",
    "    queue.pop(0)\n",
    "    queue.append(truck_weights[index]) # 7 추가\n",
    "    \n",
    "    # 2초부터\n",
    "    while index < len(truck_weights)-1:\n",
    "        counter += 1 # 시간\n",
    "        if queue[1] + truck_weights[index+1] > weight:\n",
    "            queue.pop(0)\n",
    "            queue.append(0)\n",
    "        else:\n",
    "            index += 1\n",
    "            queue.pop(0)\n",
    "            queue.append(truck_weights[index])\n",
    "    answer = counter + bridge_length\n",
    "    return answer"
   ]
  },
  {
   "cell_type": "markdown",
   "id": "58224f23",
   "metadata": {},
   "source": [
    "## 모범답안"
   ]
  },
  {
   "cell_type": "code",
   "execution_count": 23,
   "id": "3106c9c8",
   "metadata": {},
   "outputs": [],
   "source": [
    "def solution(bridge_length, weight, truck_weights):\n",
    "    time = 0\n",
    "    q = [0] * bridge_length\n",
    "    \n",
    "    while q:\n",
    "        time += 1\n",
    "        q.pop(0)\n",
    "        if truck_weights:\n",
    "            if sum(q) + truck_weights[0] <= weight:\n",
    "                q.append(truck_weights.pop(0))\n",
    "            else:\n",
    "                q.append(0)\n",
    "    \n",
    "    return time"
   ]
  },
  {
   "cell_type": "code",
   "execution_count": null,
   "id": "9af2a740",
   "metadata": {},
   "outputs": [],
   "source": [
    "'''\n",
    "\n",
    "q,      time      \n",
    "[0,0]     0      \n",
    "[0,7]     1\n",
    "[7,0]     2\n",
    "[0,4]     3\n",
    "[4,5]     4\n",
    "[5,0]     5\n",
    "[0,6]     6\n",
    "[6,0]     7\n",
    "[0]    8     --> while문 끝\n",
    "while q:  라는 것은 while q != 0을 의미한다.\n",
    "\n",
    "\n",
    "'''"
   ]
  }
 ],
 "metadata": {
  "kernelspec": {
   "display_name": "Python 3",
   "language": "python",
   "name": "python3"
  },
  "language_info": {
   "codemirror_mode": {
    "name": "ipython",
    "version": 3
   },
   "file_extension": ".py",
   "mimetype": "text/x-python",
   "name": "python",
   "nbconvert_exporter": "python",
   "pygments_lexer": "ipython3",
   "version": "3.8.2"
  }
 },
 "nbformat": 4,
 "nbformat_minor": 5
}
