{
 "cells": [
  {
   "cell_type": "code",
   "execution_count": 1,
   "id": "dc37c362",
   "metadata": {},
   "outputs": [],
   "source": [
    "# 정답은 맞으나 효율성이 부족하다\n",
    "\n",
    "def solution(prices):\n",
    "    answer = []\n",
    "    index = range(len(prices)-1) # [0,1,2,3]\n",
    "    for i in index:\n",
    "        answer.append(1) # [1]\n",
    "        j = 1\n",
    "        while i + j < len(prices)-1: # i+j <= 3\n",
    "            if prices[i+j] - prices[i] >= 0:\n",
    "                answer[i] = answer[i] + 1\n",
    "                j += 1\n",
    "            else:\n",
    "                break\n",
    "    answer.append(0)\n",
    "    return answer"
   ]
  },
  {
   "cell_type": "code",
   "execution_count": 2,
   "id": "297f74c1",
   "metadata": {},
   "outputs": [
    {
     "data": {
      "text/plain": [
       "[4, 3, 1, 1, 0]"
      ]
     },
     "execution_count": 2,
     "metadata": {},
     "output_type": "execute_result"
    }
   ],
   "source": [
    "solution([1,2,3,2,3])"
   ]
  },
  {
   "cell_type": "code",
   "execution_count": 3,
   "id": "1625d167",
   "metadata": {},
   "outputs": [
    {
     "ename": "SyntaxError",
     "evalue": "invalid syntax (<ipython-input-3-1397d61ce1e5>, line 26)",
     "output_type": "error",
     "traceback": [
      "\u001b[0;36m  File \u001b[0;32m\"<ipython-input-3-1397d61ce1e5>\"\u001b[0;36m, line \u001b[0;32m26\u001b[0m\n\u001b[0;31m    (4, 3) 인데,\u001b[0m\n\u001b[0m           ^\u001b[0m\n\u001b[0;31mSyntaxError\u001b[0m\u001b[0;31m:\u001b[0m invalid syntax\n"
     ]
    }
   ],
   "source": [
    "# 퍼온 스택 답안\n",
    "\n",
    "def solution(prices):\n",
    "    answer = [0]*len(prices)\n",
    "    stack = []\n",
    " \n",
    "    for i, price in enumerate(prices):\n",
    "        #stack이 비었이면 false\n",
    "        while stack and price < prices[stack[-1]]:\n",
    "            j = stack.pop()\n",
    "            answer[j] = i - j\n",
    "        stack.append(i)\n",
    " \n",
    "    # for문 다 돌고 Stack에 남아있는 값들 pop\n",
    "    while stack:\n",
    "        j = stack.pop()\n",
    "        answer[j] = len(prices) - 1 - j\n",
    " \n",
    "    return answer\n",
    "\n",
    "\n",
    "\n",
    "'''\n",
    "\n",
    "\n",
    "\n",
    "\n",
    "(i,price)\n",
    "(0, 1)\n",
    "(1, 2)\n",
    "(2, 3)\n",
    "(3, 2)\n",
    "(4, 3) 인데,\n",
    "따라서 i는 for문 안에서 인덱스 번호를 의미, price는 i에 해당하는 가격 값을 의미.\n",
    "\n",
    "# while stack and price < prices[stack[-1]]:\n",
    "이라는 건 첫번째는 빈 리스트인 stack이 정의되고, prices의 stack상 마지막값과 현재 price를 비교함.\n",
    "\n",
    "i = 0\n",
    "이때 j는 stack의 마지막 값. 하지만 이때는 false.\n",
    "stack에 0을 넣는다. # stack = [0]\n",
    "\n",
    "i = 1, price = 2, stack = [0]\n",
    "while에서 2 < 1 이므로 false\n",
    "price = 2, prices[stack[-1]] =  1\n",
    "answer[j]에 1-1을 넣는다. # answer = [0,0,0,0,0]\n",
    "stack에 1을 넣는다. # stack = [0,1]\n",
    "\n",
    "i = 2\n",
    "이때 j = 2이고\n",
    "\n",
    "i = 4 price 3\n",
    "j = 1\n",
    "\n",
    "\n",
    "\n",
    "\n",
    "\n",
    "'''\n",
    "\n",
    "\n"
   ]
  },
  {
   "cell_type": "code",
   "execution_count": 1,
   "id": "940bfd66",
   "metadata": {},
   "outputs": [],
   "source": [
    "from flask import Flask"
   ]
  },
  {
   "cell_type": "code",
   "execution_count": 5,
   "id": "d81f5533",
   "metadata": {},
   "outputs": [],
   "source": [
    "import cx_Oracle as cx"
   ]
  },
  {
   "cell_type": "code",
   "execution_count": null,
   "id": "01244560",
   "metadata": {},
   "outputs": [],
   "source": []
  }
 ],
 "metadata": {
  "kernelspec": {
   "display_name": "Python 3",
   "language": "python",
   "name": "python3"
  },
  "language_info": {
   "codemirror_mode": {
    "name": "ipython",
    "version": 3
   },
   "file_extension": ".py",
   "mimetype": "text/x-python",
   "name": "python",
   "nbconvert_exporter": "python",
   "pygments_lexer": "ipython3",
   "version": "3.8.2"
  }
 },
 "nbformat": 4,
 "nbformat_minor": 5
}
