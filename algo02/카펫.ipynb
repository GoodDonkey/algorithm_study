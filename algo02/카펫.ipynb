{
 "cells": [
  {
   "cell_type": "code",
   "execution_count": 1,
   "id": "b8ad72b6",
   "metadata": {},
   "outputs": [
    {
     "name": "stdout",
     "output_type": "stream",
     "text": [
      "time : 5.507469177246094e-05\n"
     ]
    }
   ],
   "source": [
    "import time\n",
    "start = time.time()\n",
    "print(\"time :\", time.time() - start)"
   ]
  },
  {
   "cell_type": "markdown",
   "id": "2f5f99cf",
   "metadata": {},
   "source": [
    "# 내 답안"
   ]
  },
  {
   "cell_type": "markdown",
   "id": "1fdd3b9d",
   "metadata": {},
   "source": [
    "yellow기준\n",
    "1개 -> 0개의 면 공유 -> 4-0*2=4면\n",
    "2개 -> 1개의 면 공유 -> 4*2-1*2=6면\n",
    "3개 -> 2개 공유 -> 4*3 - 2*2 = 8면\n",
    "4개 -> 3개 or 4개 공유 -> 4*4 - 3*2 = 10면 or 4*4 - 4*2 = 8면\n",
    "5개 -> 4개 or 5개 공유 -> ...\n",
    "brown + yellow 의 값이 곱으로 표현되는것이 1원칙인데,\n",
    "yellow가 조금 더 많으면 ?\n",
    "y:4*3이면 b:4*2+3*2+4=18개만 있으면 되는데,\n",
    "y:6*2이면 b:6*2+2*2+4=20개,\n",
    "y:12*1이면 b:12*2 + 4 = 28개\n",
    "\n",
    "y:6*4이면 b:6*2+4*2+4=24개만 있으면 되는데,\n",
    "y:12*2이면 b:12*2+2*2+4=32개,\n",
    "y:24*1이면 b:24*2 + 1*2 + 4 = 54개\n",
    "\n",
    "24+24 = 8*6 인데 12*4일 수도 있고, 24*2일 수도 있음.\n",
    "기본적으로 24*2는 아닐 것. 테두리 1줄씩은 있으니까 적어도 세로는 3이상임.\n",
    "\n",
    "전체가 직사각형이라고 가정하면,\n",
    "전체 넓이: brown + yellow\n",
    "yellow의 넓이: (return[0]-2)*(return[1]-2)\n",
    "brown의 넓이: return[0] * 2 + (return[1] -2)*2 = 2(return[0]+return[1]-2)\n",
    "\n",
    "에 맞는 return값을 찾으면 된다.\n",
    "\n",
    "세로는 3이상, "
   ]
  },
  {
   "cell_type": "code",
   "execution_count": 37,
   "id": "a73a03ec",
   "metadata": {},
   "outputs": [],
   "source": [
    "def solution(brown, yellow):\n",
    "    answer = []\n",
    "    for i in range(3, brown):\n",
    "        for j in range(3, brown):\n",
    "            if (i-2)*(j-2)==yellow:\n",
    "                if 2*(i+j-2) == brown:\n",
    "                    answer.append(i)\n",
    "                    answer.append(j)\n",
    "                    answer.sort(reverse=True)\n",
    "            if answer:\n",
    "                break\n",
    "        if answer:\n",
    "            break\n",
    "    return answer"
   ]
  },
  {
   "cell_type": "code",
   "execution_count": 38,
   "id": "fbc95bda",
   "metadata": {},
   "outputs": [
    {
     "data": {
      "text/plain": [
       "[4, 3]"
      ]
     },
     "execution_count": 38,
     "metadata": {},
     "output_type": "execute_result"
    }
   ],
   "source": [
    "solution(10,2)"
   ]
  },
  {
   "cell_type": "code",
   "execution_count": 39,
   "id": "00c33377",
   "metadata": {},
   "outputs": [
    {
     "data": {
      "text/plain": [
       "[3, 3]"
      ]
     },
     "execution_count": 39,
     "metadata": {},
     "output_type": "execute_result"
    }
   ],
   "source": [
    "solution(8,1)"
   ]
  },
  {
   "cell_type": "code",
   "execution_count": 36,
   "id": "9382c75f",
   "metadata": {},
   "outputs": [
    {
     "data": {
      "text/plain": [
       "[8, 6]"
      ]
     },
     "execution_count": 36,
     "metadata": {},
     "output_type": "execute_result"
    }
   ],
   "source": [
    "solution(24,24)"
   ]
  },
  {
   "cell_type": "code",
   "execution_count": null,
   "id": "8e4d8b81",
   "metadata": {},
   "outputs": [],
   "source": []
  },
  {
   "cell_type": "code",
   "execution_count": null,
   "id": "4abd3490",
   "metadata": {},
   "outputs": [],
   "source": []
  },
  {
   "cell_type": "code",
   "execution_count": null,
   "id": "36c07a9a",
   "metadata": {},
   "outputs": [],
   "source": []
  },
  {
   "cell_type": "code",
   "execution_count": null,
   "id": "eaa083ba",
   "metadata": {},
   "outputs": [],
   "source": []
  },
  {
   "cell_type": "markdown",
   "id": "f4f9e4e0",
   "metadata": {},
   "source": [
    "# 모범답안"
   ]
  },
  {
   "cell_type": "code",
   "execution_count": null,
   "id": "5bbd3a05",
   "metadata": {},
   "outputs": [],
   "source": []
  },
  {
   "cell_type": "code",
   "execution_count": null,
   "id": "def3f188",
   "metadata": {},
   "outputs": [],
   "source": []
  },
  {
   "cell_type": "code",
   "execution_count": null,
   "id": "36669434",
   "metadata": {},
   "outputs": [],
   "source": []
  },
  {
   "cell_type": "code",
   "execution_count": null,
   "id": "8b385fb3",
   "metadata": {},
   "outputs": [],
   "source": []
  },
  {
   "cell_type": "code",
   "execution_count": null,
   "id": "868c99bb",
   "metadata": {},
   "outputs": [],
   "source": []
  },
  {
   "cell_type": "code",
   "execution_count": null,
   "id": "e3c4b43c",
   "metadata": {},
   "outputs": [],
   "source": []
  },
  {
   "cell_type": "code",
   "execution_count": null,
   "id": "afc07815",
   "metadata": {},
   "outputs": [],
   "source": []
  },
  {
   "cell_type": "code",
   "execution_count": null,
   "id": "9d5354bb",
   "metadata": {},
   "outputs": [],
   "source": []
  }
 ],
 "metadata": {
  "kernelspec": {
   "display_name": "Python 3",
   "language": "python",
   "name": "python3"
  },
  "language_info": {
   "codemirror_mode": {
    "name": "ipython",
    "version": 3
   },
   "file_extension": ".py",
   "mimetype": "text/x-python",
   "name": "python",
   "nbconvert_exporter": "python",
   "pygments_lexer": "ipython3",
   "version": "3.8.2"
  },
  "toc": {
   "base_numbering": 1,
   "nav_menu": {},
   "number_sections": true,
   "sideBar": true,
   "skip_h1_title": false,
   "title_cell": "Table of Contents",
   "title_sidebar": "Contents",
   "toc_cell": false,
   "toc_position": {},
   "toc_section_display": true,
   "toc_window_display": false
  },
  "varInspector": {
   "cols": {
    "lenName": 16,
    "lenType": 16,
    "lenVar": 40
   },
   "kernels_config": {
    "python": {
     "delete_cmd_postfix": "",
     "delete_cmd_prefix": "del ",
     "library": "var_list.py",
     "varRefreshCmd": "print(var_dic_list())"
    },
    "r": {
     "delete_cmd_postfix": ") ",
     "delete_cmd_prefix": "rm(",
     "library": "var_list.r",
     "varRefreshCmd": "cat(var_dic_list()) "
    }
   },
   "types_to_exclude": [
    "module",
    "function",
    "builtin_function_or_method",
    "instance",
    "_Feature"
   ],
   "window_display": true
  }
 },
 "nbformat": 4,
 "nbformat_minor": 5
}
