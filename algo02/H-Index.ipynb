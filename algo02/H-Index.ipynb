{
 "cells": [
  {
   "cell_type": "code",
   "execution_count": 35,
   "id": "0b615c1f",
   "metadata": {},
   "outputs": [],
   "source": [
    "def solution(citations):\n",
    "    len_list=[]\n",
    "    for h in citations:\n",
    "        list_k = []\n",
    "        for k in citations:\n",
    "            if h<=k:\n",
    "                list_k.append(k)\n",
    "        if len(list_k) >= h:\n",
    "            len_list.append(h)\n",
    "    answer = max(len_list)\n",
    "    return answer"
   ]
  },
  {
   "cell_type": "code",
   "execution_count": 36,
   "id": "9aa3c7a9",
   "metadata": {},
   "outputs": [
    {
     "name": "stdout",
     "output_type": "stream",
     "text": [
      "3\n"
     ]
    }
   ],
   "source": [
    "print(solution([3, 0, 6, 1, 5]))"
   ]
  },
  {
   "cell_type": "markdown",
   "id": "19b865f9",
   "metadata": {},
   "source": [
    "1) 리스트 원소 중에 하나가 h이상인 것의 개수가 h인것을 찾으면 된다. 그 중 최대값인 것을 찾기.\n",
    "\n",
    "\n",
    "2) 정렬 -> 큰것부터 len 구하는 반복 -> len과 i가 같으면 i가 답이다.\n",
    "[4,5,6,2,1]\n",
    "5000회 이상 인용된 논문이 5000개 있어야 함."
   ]
  },
  {
   "cell_type": "code",
   "execution_count": 33,
   "id": "60a0b02a",
   "metadata": {},
   "outputs": [],
   "source": [
    "def solution(citations):\n",
    "    citations.sort()\n",
    "    return [i for i in range(1, len(citations)) if len(citations[-i:])>=citations[-i]][0]"
   ]
  },
  {
   "cell_type": "code",
   "execution_count": 34,
   "id": "f97d7e7d",
   "metadata": {},
   "outputs": [
    {
     "name": "stdout",
     "output_type": "stream",
     "text": [
      "3\n"
     ]
    }
   ],
   "source": [
    "print(solution([3, 0, 6, 1, 5]))"
   ]
  },
  {
   "cell_type": "code",
   "execution_count": null,
   "id": "0eae1630",
   "metadata": {},
   "outputs": [],
   "source": []
  }
 ],
 "metadata": {
  "kernelspec": {
   "display_name": "Python 3",
   "language": "python",
   "name": "python3"
  },
  "language_info": {
   "codemirror_mode": {
    "name": "ipython",
    "version": 3
   },
   "file_extension": ".py",
   "mimetype": "text/x-python",
   "name": "python",
   "nbconvert_exporter": "python",
   "pygments_lexer": "ipython3",
   "version": "3.8.2"
  },
  "toc": {
   "base_numbering": 1,
   "nav_menu": {},
   "number_sections": true,
   "sideBar": true,
   "skip_h1_title": false,
   "title_cell": "Table of Contents",
   "title_sidebar": "Contents",
   "toc_cell": false,
   "toc_position": {},
   "toc_section_display": true,
   "toc_window_display": false
  },
  "varInspector": {
   "cols": {
    "lenName": 16,
    "lenType": 16,
    "lenVar": 40
   },
   "kernels_config": {
    "python": {
     "delete_cmd_postfix": "",
     "delete_cmd_prefix": "del ",
     "library": "var_list.py",
     "varRefreshCmd": "print(var_dic_list())"
    },
    "r": {
     "delete_cmd_postfix": ") ",
     "delete_cmd_prefix": "rm(",
     "library": "var_list.r",
     "varRefreshCmd": "cat(var_dic_list()) "
    }
   },
   "types_to_exclude": [
    "module",
    "function",
    "builtin_function_or_method",
    "instance",
    "_Feature"
   ],
   "window_display": false
  }
 },
 "nbformat": 4,
 "nbformat_minor": 5
}
