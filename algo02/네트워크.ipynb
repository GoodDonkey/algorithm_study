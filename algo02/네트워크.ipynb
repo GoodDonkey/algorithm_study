{
 "cells": [
  {
   "cell_type": "code",
   "execution_count": 1,
   "id": "b8ad72b6",
   "metadata": {},
   "outputs": [
    {
     "name": "stdout",
     "output_type": "stream",
     "text": [
      "time : 5.507469177246094e-05\n"
     ]
    }
   ],
   "source": [
    "import time\n",
    "start = time.time()\n",
    "print(\"time :\", time.time() - start)"
   ]
  },
  {
   "cell_type": "markdown",
   "id": "2f5f99cf",
   "metadata": {},
   "source": [
    "# 내 답안"
   ]
  },
  {
   "cell_type": "code",
   "execution_count": 11,
   "id": "a73a03ec",
   "metadata": {},
   "outputs": [],
   "source": [
    "def solution(array, commands):\n",
    "    answer = []\n",
    "    for command in commands:\n",
    "        [i, j, k] = command\n",
    "        answer.append(sorted(array[i-1:j])[k-1])\n",
    "    return answer"
   ]
  },
  {
   "cell_type": "code",
   "execution_count": 12,
   "id": "cd6350b0",
   "metadata": {},
   "outputs": [
    {
     "name": "stdout",
     "output_type": "stream",
     "text": [
      "2 5 3\n",
      "[2, 3, 5, 6]\n",
      "4 4 1\n",
      "[6]\n",
      "1 7 3\n",
      "[1, 2, 3, 4, 5, 6, 7]\n"
     ]
    },
    {
     "data": {
      "text/plain": [
       "[5, 6, 3]"
      ]
     },
     "execution_count": 12,
     "metadata": {},
     "output_type": "execute_result"
    }
   ],
   "source": [
    "solution([1, 5, 2, 6, 3, 7, 4], [[2, 5, 3], [4, 4, 1], [1, 7, 3]])"
   ]
  },
  {
   "cell_type": "code",
   "execution_count": 73,
   "id": "fbc95bda",
   "metadata": {},
   "outputs": [],
   "source": [
    "def solution(n, computers):\n",
    "    \"\"\" 네트워크가 뭔지 아직 모르겠음. 그냥 예제에 따라 적절한 리턴값을 뽑도록 함수를 짜고자 함.\"\"\"\n",
    "    answer = n\n",
    "    \n",
    "    j_list = []\n",
    "    for k in range(n-1):  # 검사해야할 j값을 찾는 루프\n",
    "        [j_list.append(i) for i in range(1+k,n)]\n",
    "\n",
    "    i_list = []\n",
    "    for h in range(n-1):  # 검사해야할 i값을 찾는 루프\n",
    "        i_list += [0+h]*(n-1-h)\n",
    "    \n",
    "    # i, j 를 한번에 사용할 수 있도록 튜플로 묶어줌\n",
    "    ij_list = list(zip(i_list, j_list))\n",
    "    \n",
    "    print(ij_list)\n",
    "    dic = {}\n",
    "    # 여기에 해당되면 연결되어있는것.\n",
    "    for (i, j) in ij_list:\n",
    "        print(i, j)\n",
    "        if computers[i][j]==1:\n",
    "            answer -= 1\n",
    "            dic[f\"{i}{j}\"] = True\n",
    "        else:\n",
    "            dic[f\"{i}{j}\"] = False\n",
    "    print(dic)\n",
    "    return answer"
   ]
  },
  {
   "cell_type": "code",
   "execution_count": 74,
   "id": "00c33377",
   "metadata": {
    "scrolled": true
   },
   "outputs": [
    {
     "name": "stdout",
     "output_type": "stream",
     "text": [
      "[(0, 1), (0, 2), (1, 2)]\n",
      "0 1\n",
      "0 2\n",
      "1 2\n",
      "{'01': True, '02': False, '12': False}\n"
     ]
    },
    {
     "data": {
      "text/plain": [
       "2"
      ]
     },
     "execution_count": 74,
     "metadata": {},
     "output_type": "execute_result"
    }
   ],
   "source": [
    "solution(3, [[1, 1, 0], [1, 1, 0], [0, 0, 1]])"
   ]
  },
  {
   "cell_type": "code",
   "execution_count": 77,
   "id": "996d1a1f",
   "metadata": {
    "scrolled": true
   },
   "outputs": [
    {
     "name": "stdout",
     "output_type": "stream",
     "text": [
      "[(0, 1), (0, 2), (0, 3), (1, 2), (1, 3), (2, 3)]\n",
      "0 1\n",
      "0 2\n",
      "0 3\n",
      "1 2\n",
      "1 3\n",
      "2 3\n",
      "{'01': True, '02': False, '03': True, '12': False, '13': False, '23': True}\n",
      "1 1\n"
     ]
    }
   ],
   "source": [
    "print(solution(4, [[1, 1, 0, 1], [1, 1, 0, 0], [0, 0, 1, 1], [1, 0, 1, 1]]),1)"
   ]
  },
  {
   "cell_type": "code",
   "execution_count": 76,
   "id": "a4be37c7",
   "metadata": {},
   "outputs": [
    {
     "name": "stdout",
     "output_type": "stream",
     "text": [
      "[(0, 1), (0, 2), (0, 3), (1, 2), (1, 3), (2, 3)]\n",
      "0 1\n",
      "0 2\n",
      "0 3\n",
      "1 2\n",
      "1 3\n",
      "2 3\n",
      "{'01': False, '02': False, '03': False, '12': False, '13': False, '23': False}\n",
      "4 4\n"
     ]
    }
   ],
   "source": [
    "print(solution(4, [[1, 0, 0, 0], [0, 1, 0, 0], [0, 0, 1, 0], [0, 0, 0, 1]]), 4)"
   ]
  },
  {
   "cell_type": "markdown",
   "id": "adcca852",
   "metadata": {},
   "source": [
    "1) 연결상태를 파악함  \n",
    "2) 연결 상태에 따른 네트워크의 개수를 계산함.\n",
    "\n",
    "    - 100개의노드라면\n",
    "        - 1개의 연결일 때 네트워크는 98 + 1개 = 99\n",
    "        - 2개의 연결일 때 네트워크는 97+1개 또는 96+2개 = 98\n",
    "        - 3개의 연결일 때 네트워크는 96+1개 또는 95+2개, 94+3개 = 97 \n",
    "        -> 결국 똑같음. 노드개수 - 연결개수이다."
   ]
  },
  {
   "cell_type": "code",
   "execution_count": null,
   "id": "80a9488d",
   "metadata": {},
   "outputs": [],
   "source": [
    "def solution(n, computers):\n",
    "    \"\"\" 네트워크가 뭔지 아직 모르겠음. 그냥 예제에 따라 적절한 리턴값을 뽑도록 함수를 짜고자 함.\"\"\"\n",
    "    answer = n\n",
    "    \n",
    "    j_list = []\n",
    "    for k in range(n-1):  # 검사해야할 j값을 찾는 루프\n",
    "        [j_list.append(i) for i in range(1+k,n)]\n",
    "\n",
    "    i_list = []\n",
    "    for m in range(n-1, 0, -1):\n",
    "        i_list += [i]*m\n",
    "        \n",
    "    # i, j 를 한번에 사용할 수 있도록 튜플로 묶어줌\n",
    "    ij_list = list(zip(i_list, j_list))\n",
    "    \n",
    "    print(ij_list)\n",
    "    dic = {}\n",
    "    # 여기에 해당되면 연결되어있는것.\n",
    "    for (i, j) in ij_list:\n",
    "        print(i, j)\n",
    "        if computers[i][j]==1:\n",
    "            answer -= 1\n",
    "            dic[f\"{i}{j}\"] = True\n",
    "        else:\n",
    "            dic[f\"{i}{j}\"] = False\n",
    "    print(dic)\n",
    "    return answer"
   ]
  },
  {
   "cell_type": "code",
   "execution_count": null,
   "id": "f731043e",
   "metadata": {},
   "outputs": [],
   "source": []
  },
  {
   "cell_type": "markdown",
   "id": "f4f9e4e0",
   "metadata": {},
   "source": [
    "# 모범답안"
   ]
  },
  {
   "cell_type": "code",
   "execution_count": 3,
   "id": "5bbd3a05",
   "metadata": {},
   "outputs": [
    {
     "name": "stdout",
     "output_type": "stream",
     "text": [
      "[0, 3, 6, 0, 2, 4, 0, 1, 2]\n"
     ]
    }
   ],
   "source": [
    "jlist = []\n",
    "for m in range(3, 0, -1):\n",
    "    [jlist.append(i*m) for i in range(0,3)]\n",
    "print(jlist)\n",
    "             "
   ]
  },
  {
   "cell_type": "code",
   "execution_count": 10,
   "id": "def3f188",
   "metadata": {},
   "outputs": [],
   "source": [
    "def solution(n, computers):\n",
    "    \"\"\" 네트워크가 뭔지 아직 모르겠음. 그냥 예제에 따라 적절한 리턴값을 뽑도록 함수를 짜고자 함.\"\"\"\n",
    "    answer = n\n",
    "    \n",
    "    j_list = []\n",
    "    for k in range(n-1):  # 검사해야할 j값을 찾는 루프\n",
    "        [j_list.append(i) for i in range(1+k,n)]\n",
    "    print(j_list)\n",
    "    \n",
    "    i_list = []\n",
    "    for h in range(n-1):  # 검사해야할 i값을 찾는 루프\n",
    "        i_list += [0+h]*(n-h-1)\n",
    "    print(i_list)\n",
    "    \n",
    "    # i, j 를 한번에 사용할 수 있도록 튜플로 묶어줌\n",
    "    ij_list = list(zip(i_list, j_list))\n",
    "    \n",
    "    # 여기에 해당되면 연결되어있는것.\n",
    "    for i, j in ij_list:\n",
    "        print(i, j)\n",
    "        if computers[i][j]==1:\n",
    "             answer -= 1\n",
    "    return answer"
   ]
  },
  {
   "cell_type": "code",
   "execution_count": 11,
   "id": "36669434",
   "metadata": {},
   "outputs": [
    {
     "name": "stdout",
     "output_type": "stream",
     "text": [
      "[1, 2, 3, 2, 3, 3]\n",
      "[0, 0, 0, 1, 1, 2]\n",
      "0 1\n",
      "0 2\n",
      "0 3\n",
      "1 2\n",
      "1 3\n",
      "2 3\n",
      "4 4\n"
     ]
    }
   ],
   "source": [
    "print(solution(4, [[1, 0, 0, 0], [0, 1, 0, 0], [0, 0, 1, 0], [0, 0, 0, 1]]), 4)"
   ]
  },
  {
   "cell_type": "code",
   "execution_count": 12,
   "id": "8b385fb3",
   "metadata": {},
   "outputs": [
    {
     "data": {
      "text/plain": [
       "[1, 0]"
      ]
     },
     "execution_count": 12,
     "metadata": {},
     "output_type": "execute_result"
    }
   ],
   "source": [
    "[1]+[0]"
   ]
  },
  {
   "cell_type": "code",
   "execution_count": null,
   "id": "868c99bb",
   "metadata": {},
   "outputs": [],
   "source": []
  },
  {
   "cell_type": "code",
   "execution_count": null,
   "id": "e3c4b43c",
   "metadata": {},
   "outputs": [],
   "source": []
  },
  {
   "cell_type": "code",
   "execution_count": null,
   "id": "afc07815",
   "metadata": {},
   "outputs": [],
   "source": []
  },
  {
   "cell_type": "code",
   "execution_count": null,
   "id": "9d5354bb",
   "metadata": {},
   "outputs": [],
   "source": []
  }
 ],
 "metadata": {
  "kernelspec": {
   "display_name": "Python 3 (ipykernel)",
   "language": "python",
   "name": "python3"
  },
  "language_info": {
   "codemirror_mode": {
    "name": "ipython",
    "version": 3
   },
   "file_extension": ".py",
   "mimetype": "text/x-python",
   "name": "python",
   "nbconvert_exporter": "python",
   "pygments_lexer": "ipython3",
   "version": "3.8.11"
  },
  "toc": {
   "base_numbering": 1,
   "nav_menu": {},
   "number_sections": true,
   "sideBar": true,
   "skip_h1_title": false,
   "title_cell": "Table of Contents",
   "title_sidebar": "Contents",
   "toc_cell": false,
   "toc_position": {},
   "toc_section_display": true,
   "toc_window_display": false
  },
  "varInspector": {
   "cols": {
    "lenName": 16,
    "lenType": 16,
    "lenVar": 40
   },
   "kernels_config": {
    "python": {
     "delete_cmd_postfix": "",
     "delete_cmd_prefix": "del ",
     "library": "var_list.py",
     "varRefreshCmd": "print(var_dic_list())"
    },
    "r": {
     "delete_cmd_postfix": ") ",
     "delete_cmd_prefix": "rm(",
     "library": "var_list.r",
     "varRefreshCmd": "cat(var_dic_list()) "
    }
   },
   "types_to_exclude": [
    "module",
    "function",
    "builtin_function_or_method",
    "instance",
    "_Feature"
   ],
   "window_display": true
  }
 },
 "nbformat": 4,
 "nbformat_minor": 5
}
