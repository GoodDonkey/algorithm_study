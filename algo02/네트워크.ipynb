{
 "cells": [
  {
   "cell_type": "code",
   "execution_count": 1,
   "id": "b8ad72b6",
   "metadata": {},
   "outputs": [
    {
     "name": "stdout",
     "output_type": "stream",
     "text": [
      "time : 5.507469177246094e-05\n"
     ]
    }
   ],
   "source": [
    "import time\n",
    "start = time.time()\n",
    "print(\"time :\", time.time() - start)"
   ]
  },
  {
   "cell_type": "markdown",
   "id": "2f5f99cf",
   "metadata": {},
   "source": [
    "# 내 답안"
   ]
  },
  {
   "cell_type": "code",
   "execution_count": 11,
   "id": "a73a03ec",
   "metadata": {},
   "outputs": [],
   "source": [
    "def solution(array, commands):\n",
    "    answer = []\n",
    "    for command in commands:\n",
    "        [i, j, k] = command\n",
    "        answer.append(sorted(array[i-1:j])[k-1])\n",
    "    return answer"
   ]
  },
  {
   "cell_type": "code",
   "execution_count": 12,
   "id": "cd6350b0",
   "metadata": {},
   "outputs": [
    {
     "name": "stdout",
     "output_type": "stream",
     "text": [
      "2 5 3\n",
      "[2, 3, 5, 6]\n",
      "4 4 1\n",
      "[6]\n",
      "1 7 3\n",
      "[1, 2, 3, 4, 5, 6, 7]\n"
     ]
    },
    {
     "data": {
      "text/plain": [
       "[5, 6, 3]"
      ]
     },
     "execution_count": 12,
     "metadata": {},
     "output_type": "execute_result"
    }
   ],
   "source": [
    "solution([1, 5, 2, 6, 3, 7, 4], [[2, 5, 3], [4, 4, 1], [1, 7, 3]])"
   ]
  },
  {
   "cell_type": "code",
   "execution_count": 73,
   "id": "fbc95bda",
   "metadata": {},
   "outputs": [],
   "source": [
    "def solution(n, computers):\n",
    "    \"\"\" 네트워크가 뭔지 아직 모르겠음. 그냥 예제에 따라 적절한 리턴값을 뽑도록 함수를 짜고자 함.\"\"\"\n",
    "    answer = n\n",
    "    \n",
    "    j_list = []\n",
    "    for k in range(n-1):  # 검사해야할 j값을 찾는 루프\n",
    "        [j_list.append(i) for i in range(1+k,n)]\n",
    "\n",
    "    i_list = []\n",
    "    for h in range(n-1):  # 검사해야할 i값을 찾는 루프\n",
    "        i_list += [0+h]*(n-1-h)\n",
    "    \n",
    "    # i, j 를 한번에 사용할 수 있도록 튜플로 묶어줌\n",
    "    ij_list = list(zip(i_list, j_list))\n",
    "    \n",
    "    print(ij_list)\n",
    "    dic = {}\n",
    "    # 여기에 해당되면 연결되어있는것.\n",
    "    for (i, j) in ij_list:\n",
    "        print(i, j)\n",
    "        if computers[i][j]==1:\n",
    "            answer -= 1\n",
    "            dic[f\"{i}{j}\"] = True\n",
    "        else:\n",
    "            dic[f\"{i}{j}\"] = False\n",
    "    print(dic)\n",
    "    return answer"
   ]
  },
  {
   "cell_type": "code",
   "execution_count": 74,
   "id": "00c33377",
   "metadata": {
    "scrolled": true
   },
   "outputs": [
    {
     "name": "stdout",
     "output_type": "stream",
     "text": [
      "[(0, 1), (0, 2), (1, 2)]\n",
      "0 1\n",
      "0 2\n",
      "1 2\n",
      "{'01': True, '02': False, '12': False}\n"
     ]
    },
    {
     "data": {
      "text/plain": [
       "2"
      ]
     },
     "execution_count": 74,
     "metadata": {},
     "output_type": "execute_result"
    }
   ],
   "source": [
    "solution(3, [[1, 1, 0], [1, 1, 0], [0, 0, 1]])"
   ]
  },
  {
   "cell_type": "code",
   "execution_count": 77,
   "id": "996d1a1f",
   "metadata": {
    "scrolled": true
   },
   "outputs": [
    {
     "name": "stdout",
     "output_type": "stream",
     "text": [
      "[(0, 1), (0, 2), (0, 3), (1, 2), (1, 3), (2, 3)]\n",
      "0 1\n",
      "0 2\n",
      "0 3\n",
      "1 2\n",
      "1 3\n",
      "2 3\n",
      "{'01': True, '02': False, '03': True, '12': False, '13': False, '23': True}\n",
      "1 1\n"
     ]
    }
   ],
   "source": [
    "print(solution(4, [[1, 1, 0, 1], [1, 1, 0, 0], [0, 0, 1, 1], [1, 0, 1, 1]]),1)"
   ]
  },
  {
   "cell_type": "code",
   "execution_count": 76,
   "id": "a4be37c7",
   "metadata": {},
   "outputs": [
    {
     "name": "stdout",
     "output_type": "stream",
     "text": [
      "[(0, 1), (0, 2), (0, 3), (1, 2), (1, 3), (2, 3)]\n",
      "0 1\n",
      "0 2\n",
      "0 3\n",
      "1 2\n",
      "1 3\n",
      "2 3\n",
      "{'01': False, '02': False, '03': False, '12': False, '13': False, '23': False}\n",
      "4 4\n"
     ]
    }
   ],
   "source": [
    "print(solution(4, [[1, 0, 0, 0], [0, 1, 0, 0], [0, 0, 1, 0], [0, 0, 0, 1]]), 4)"
   ]
  },
  {
   "cell_type": "code",
   "execution_count": 72,
   "id": "9382c75f",
   "metadata": {},
   "outputs": [
    {
     "ename": "SyntaxError",
     "evalue": "invalid syntax (635441761.py, line 1)",
     "output_type": "error",
     "traceback": [
      "\u001b[0;36m  File \u001b[0;32m\"/var/folders/8k/35h4wcjj4rn12hqgyh1fwr7m0000gn/T/ipykernel_18201/635441761.py\"\u001b[0;36m, line \u001b[0;32m1\u001b[0m\n\u001b[0;31m    0,1  0,2  1,2\u001b[0m\n\u001b[0m         ^\u001b[0m\n\u001b[0;31mSyntaxError\u001b[0m\u001b[0;31m:\u001b[0m invalid syntax\n"
     ]
    }
   ],
   "source": [
    "0,1  0,2  1,2"
   ]
  },
  {
   "cell_type": "code",
   "execution_count": 27,
   "id": "8e4d8b81",
   "metadata": {},
   "outputs": [
    {
     "data": {
      "text/plain": [
       "[0]"
      ]
     },
     "execution_count": 27,
     "metadata": {},
     "output_type": "execute_result"
    }
   ],
   "source": [
    "l = []\n",
    "l.append(0)\n",
    "l"
   ]
  },
  {
   "cell_type": "code",
   "execution_count": 29,
   "id": "4abd3490",
   "metadata": {},
   "outputs": [
    {
     "data": {
      "text/plain": [
       "[0, 0, 0, 1, 1]"
      ]
     },
     "execution_count": 29,
     "metadata": {},
     "output_type": "execute_result"
    }
   ],
   "source": [
    "[0]*3+[1]*2"
   ]
  },
  {
   "cell_type": "code",
   "execution_count": null,
   "id": "36c07a9a",
   "metadata": {},
   "outputs": [],
   "source": [
    "i_list = [0+k]*(n-k) for k in range(n-1)"
   ]
  },
  {
   "cell_type": "code",
   "execution_count": null,
   "id": "eaa083ba",
   "metadata": {},
   "outputs": [],
   "source": []
  },
  {
   "cell_type": "code",
   "execution_count": null,
   "id": "55f4505b",
   "metadata": {},
   "outputs": [],
   "source": []
  },
  {
   "cell_type": "code",
   "execution_count": null,
   "id": "f9a1b26c",
   "metadata": {},
   "outputs": [],
   "source": []
  },
  {
   "cell_type": "code",
   "execution_count": null,
   "id": "80a9488d",
   "metadata": {},
   "outputs": [],
   "source": []
  },
  {
   "cell_type": "code",
   "execution_count": 88,
   "id": "2bcb316b",
   "metadata": {
    "scrolled": true
   },
   "outputs": [
    {
     "name": "stdout",
     "output_type": "stream",
     "text": [
      "{'a': '01', 'b': '02', 'c': '03', 'd': '04', 'e': '05', 'f': '06', 'g': '07', 'h': '08', 'i': '09', 'j': '10', 'k': '11', 'l': '12', 'm': '13', 'n': '14', 'o': '15', 'p': '16', 'q': '17', 'r': '18', 's': '19', 't': '20', 'u': '21', 'v': '22', 'w': '23', 'x': '24', 'y': '25', 'z': '26'}\n",
      "{'01': 'a', '02': 'b', '03': 'c', '04': 'd', '05': 'e', '06': 'f', '07': 'g', '08': 'h', '09': 'i', '10': 'j', '11': 'k', '12': 'l', '13': 'm', '14': 'n', '15': 'o', '16': 'p', '17': 'q', '18': 'r', '19': 's', '20': 't', '21': 'u', '22': 'v', '23': 'w', '24': 'x', '25': 'y', '26': 'z'}\n"
     ]
    }
   ],
   "source": [
    "code = \"abcdefghijklmnopqrstuvwxyz\"\n",
    "message = \"test\"\n",
    "\n",
    "dictionary_s = {}\n",
    "dictionary_d = {}\n",
    "numbers = []\n",
    "for i  in range(1, 27):\n",
    "    numbers.append('%02d' % (i))\n",
    "# print(numbers)\n",
    "\n",
    "# code는 무조건 26개. 바로 매치 가능. num도 26개이므로.\n",
    "for i, num in enumerate(numbers):\n",
    "    dictionary_s[code[i]] = num\n",
    "    dictionary_d[num] = code[i]\n",
    "print(dictionary_s)\n",
    "print(dictionary_d)"
   ]
  },
  {
   "cell_type": "code",
   "execution_count": 93,
   "id": "b3e82630",
   "metadata": {},
   "outputs": [
    {
     "name": "stdout",
     "output_type": "stream",
     "text": [
      "20051920\n"
     ]
    }
   ],
   "source": [
    "answer = ''.join(dictionary_s[m] for m in message)\n",
    "print(answer)"
   ]
  },
  {
   "cell_type": "code",
   "execution_count": 108,
   "id": "a58995fb",
   "metadata": {},
   "outputs": [
    {
     "name": "stdout",
     "output_type": "stream",
     "text": [
      "01070507\n"
     ]
    }
   ],
   "source": [
    "message = 'ageg'\n",
    "answer = ''\n",
    "try:\n",
    "    int(message) # 오류나면 문자, 오류 안나면 숫자\n",
    "    # 숫자임 - 2개씩 읽기\n",
    "    decimal_message = [''.join([message[i],message[i+1]]) for i in range(0,len(message),2)]\n",
    "    answer = ''.join(dictionary_d[m] for m in decimal_message)\n",
    "    \n",
    "except:\n",
    "    # 문자임\n",
    "    answer = ''.join(dictionary_s[m] for m in message)\n",
    "print(answer)"
   ]
  },
  {
   "cell_type": "code",
   "execution_count": 113,
   "id": "4202fb0e",
   "metadata": {},
   "outputs": [],
   "source": [
    "#핵심 소스코드의 설명을 주석으로 작성하면 평가에 큰 도움이 됩니다.\n",
    "class Solution:\n",
    "    def solution(self, code, message):\n",
    "        # 숫자 26개 포매팅 (문자열로 처리하면 됨)\n",
    "        dictionary_s = {}\n",
    "        dictionary_d = {}\n",
    "        numbers = []\n",
    "        for i  in range(1, 27):\n",
    "            numbers.append('%02d' % (i))\n",
    "        \n",
    "        \n",
    "        # code 문자를 숫자에 매치시키기(딕셔너리로 만들어두기)\n",
    "        for i, num in enumerate(numbers):\n",
    "            dictionary_s[code[i]] = num\n",
    "            dictionary_d[num] = code[i]\n",
    "        \n",
    "        # message가 문자이면 각 문자에 대응하는 숫자를 가져오기 \n",
    "        try:\n",
    "            int(message) # 오류나면 문자, 오류 안나면 숫자\n",
    "            # 숫자임 - 2개씩 읽기\n",
    "            decimal_message = [''.join([message[i],message[i+1]]) for i in range(0,len(message),2)]\n",
    "            answer = ''.join(dictionary_d[m] for m in decimal_message)\n",
    "\n",
    "        except:\n",
    "            # 문자임\n",
    "            answer = ''.join(dictionary_s[m] for m in message)\n",
    "        \n",
    "        \n",
    "        # message가 숫자(str)이면 이 숫자에 대응하는 문자를 가져오기\n",
    "        return answer"
   ]
  },
  {
   "cell_type": "code",
   "execution_count": 114,
   "id": "85ed2c6a",
   "metadata": {},
   "outputs": [
    {
     "data": {
      "text/plain": [
       "'20051920'"
      ]
     },
     "execution_count": 114,
     "metadata": {},
     "output_type": "execute_result"
    }
   ],
   "source": [
    "code = \"abcdefghijklmnopqrstuvwxyz\"\n",
    "message = \"test\"\n",
    "s = Solution()\n",
    "s.solution(code, message)"
   ]
  },
  {
   "cell_type": "code",
   "execution_count": 115,
   "id": "fb6bb242",
   "metadata": {},
   "outputs": [
    {
     "data": {
      "text/plain": [
       "'test'"
      ]
     },
     "execution_count": 115,
     "metadata": {},
     "output_type": "execute_result"
    }
   ],
   "source": [
    "code = \"abcdefghijklmnopqrstuvwxyz\"\n",
    "message = \"20051920\"\n",
    "s = Solution()\n",
    "s.solution(code, message)"
   ]
  },
  {
   "cell_type": "code",
   "execution_count": null,
   "id": "16ddeb5b",
   "metadata": {},
   "outputs": [],
   "source": []
  },
  {
   "cell_type": "code",
   "execution_count": 127,
   "id": "61d9de6e",
   "metadata": {},
   "outputs": [
    {
     "name": "stdout",
     "output_type": "stream",
     "text": [
      "-180\n"
     ]
    }
   ],
   "source": [
    "answer = 0\n",
    "answer -= 180\n",
    "print(answer)"
   ]
  },
  {
   "cell_type": "code",
   "execution_count": 219,
   "id": "5eb998a0",
   "metadata": {},
   "outputs": [],
   "source": [
    "#핵심 소스코드의 설명을 주석으로 작성하면 평가에 큰 도움이 됩니다.\n",
    "class Solution:\n",
    "    def solution(self, instructions):\n",
    "        answer = 0\n",
    "        \n",
    "        # 1 -- 첫번째 \"HALT\" 를 찾아서 그 다음 명령은 모두 배제함.\n",
    "        if \"HALT\" in instructions:\n",
    "            i_halt = instructions.index(\"HALT\")\n",
    "            commands = instructions[:i_halt]\n",
    "        else:\n",
    "            commands = instructions\n",
    "        \n",
    "        # 지울 명령을 임시로 담아둔다. 바로 지우면 for문 멈춤\n",
    "        commands_temp = []\n",
    "        \n",
    "        # 2 -- 앞의 명령들로 각도를 계산. 명령을 숫자로 대응시킴.\n",
    "        for command in commands:\n",
    "            if command == \"LEFT\":\n",
    "                answer -= 90\n",
    "                commands_temp.append(\"LEFT\")\n",
    "                \n",
    "            elif command == \"RIGHT\":\n",
    "                answer += 90\n",
    "                commands_temp.append(\"RIGHT\")\n",
    "                \n",
    "            elif command == \"TURN AROUND\":\n",
    "                answer += 180\n",
    "                commands_temp.append(\"TURN AROUND\")\n",
    "            else:\n",
    "                print(\"error\", command)\n",
    "        \n",
    "        # 지우기\n",
    "        [commands.remove(temp) for temp in commands_temp]\n",
    "\n",
    "        # 3 -- 여기부턴 모든 명령이 \"방향 숫자\"이므로 split해서 숫자만큼 answer에 더하기\n",
    "        for com in commands:\n",
    "            direction = com.split(\" \")[0]\n",
    "            degree = int(com.split(\" \")[1])\n",
    "            if direction == \"LEFT\":\n",
    "                answer -= degree\n",
    "            elif direction == \"RIGHT\":\n",
    "                answer += degree\n",
    "            else:\n",
    "                print(\"error\", com)\n",
    "        \n",
    "        # 4 -- 각도 구하기\n",
    "        if answer<0:\n",
    "            answer = 360-(abs(answer)%360)\n",
    "        elif answer>=0:\n",
    "            answer = (answer%360)\n",
    "        \n",
    "        if answer == 360:\n",
    "            answer = 0\n",
    "        \n",
    "        return answer"
   ]
  },
  {
   "cell_type": "code",
   "execution_count": 220,
   "id": "d445562e",
   "metadata": {},
   "outputs": [
    {
     "name": "stdout",
     "output_type": "stream",
     "text": [
      "error LEFT 70\n",
      "error LEFT 90\n"
     ]
    },
    {
     "data": {
      "text/plain": [
       "290"
      ]
     },
     "execution_count": 220,
     "metadata": {},
     "output_type": "execute_result"
    }
   ],
   "source": [
    "instructions = [\"RIGHT\", \"LEFT 70\", \"RIGHT\", \"LEFT\", \"LEFT 90\", \"HALT\", \"RIGHT\", \"HALT\"]\n",
    "s = Solution()\n",
    "s.solution(instructions)"
   ]
  },
  {
   "cell_type": "code",
   "execution_count": 217,
   "id": "1195c1c8",
   "metadata": {},
   "outputs": [
    {
     "data": {
      "text/plain": [
       "360"
      ]
     },
     "execution_count": 217,
     "metadata": {},
     "output_type": "execute_result"
    }
   ],
   "source": [
    "360-abs(-360)%360"
   ]
  },
  {
   "cell_type": "code",
   "execution_count": null,
   "id": "d654704f",
   "metadata": {},
   "outputs": [],
   "source": []
  },
  {
   "cell_type": "code",
   "execution_count": 228,
   "id": "0a0e8a1d",
   "metadata": {},
   "outputs": [],
   "source": [
    "#핵심 소스코드의 설명을 주석으로 작성하면 평가에 큰 도움이 됩니다.\n",
    "class Solution:\n",
    "    def solution(self, candles):\n",
    "        # 전략 1)\n",
    "        #   정렬 -> 앞1개-1 -> 정렬 -> 앞2개 -1 ...\n",
    "        # 최대 일수: len(candles) 인데 최대값<len(candles) 이면 최대 일수 = 최대값\n",
    "        # 0이 있으면 멈춤\n",
    "        for i in range(1, len(candles)):\n",
    "            print(i)\n",
    "            candles = sorted(candles)[:i] - [1]*i\n",
    "            if 0 in candles:\n",
    "                answer = i\n",
    "                break\n",
    "        \n",
    "        return answer"
   ]
  },
  {
   "cell_type": "code",
   "execution_count": 229,
   "id": "114fd009",
   "metadata": {},
   "outputs": [
    {
     "name": "stdout",
     "output_type": "stream",
     "text": [
      "[2]\n",
      "1\n"
     ]
    },
    {
     "ename": "TypeError",
     "evalue": "unsupported operand type(s) for -: 'list' and 'list'",
     "output_type": "error",
     "traceback": [
      "\u001b[0;31m---------------------------------------------------------------------------\u001b[0m",
      "\u001b[0;31mTypeError\u001b[0m                                 Traceback (most recent call last)",
      "\u001b[0;32m/var/folders/8k/35h4wcjj4rn12hqgyh1fwr7m0000gn/T/ipykernel_18201/2886232935.py\u001b[0m in \u001b[0;36m<module>\u001b[0;34m\u001b[0m\n\u001b[1;32m      2\u001b[0m \u001b[0mprint\u001b[0m\u001b[0;34m(\u001b[0m\u001b[0msorted\u001b[0m\u001b[0;34m(\u001b[0m\u001b[0mcandles\u001b[0m\u001b[0;34m)\u001b[0m\u001b[0;34m[\u001b[0m\u001b[0;34m:\u001b[0m\u001b[0;36m1\u001b[0m\u001b[0;34m]\u001b[0m\u001b[0;34m)\u001b[0m\u001b[0;34m\u001b[0m\u001b[0;34m\u001b[0m\u001b[0m\n\u001b[1;32m      3\u001b[0m \u001b[0ms\u001b[0m \u001b[0;34m=\u001b[0m \u001b[0mSolution\u001b[0m\u001b[0;34m(\u001b[0m\u001b[0;34m)\u001b[0m\u001b[0;34m\u001b[0m\u001b[0;34m\u001b[0m\u001b[0m\n\u001b[0;32m----> 4\u001b[0;31m \u001b[0ms\u001b[0m\u001b[0;34m.\u001b[0m\u001b[0msolution\u001b[0m\u001b[0;34m(\u001b[0m\u001b[0mcandles\u001b[0m\u001b[0;34m)\u001b[0m\u001b[0;34m\u001b[0m\u001b[0;34m\u001b[0m\u001b[0m\n\u001b[0m",
      "\u001b[0;32m/var/folders/8k/35h4wcjj4rn12hqgyh1fwr7m0000gn/T/ipykernel_18201/2978565523.py\u001b[0m in \u001b[0;36msolution\u001b[0;34m(self, candles)\u001b[0m\n\u001b[1;32m      8\u001b[0m         \u001b[0;32mfor\u001b[0m \u001b[0mi\u001b[0m \u001b[0;32min\u001b[0m \u001b[0mrange\u001b[0m\u001b[0;34m(\u001b[0m\u001b[0;36m1\u001b[0m\u001b[0;34m,\u001b[0m \u001b[0mlen\u001b[0m\u001b[0;34m(\u001b[0m\u001b[0mcandles\u001b[0m\u001b[0;34m)\u001b[0m\u001b[0;34m)\u001b[0m\u001b[0;34m:\u001b[0m\u001b[0;34m\u001b[0m\u001b[0;34m\u001b[0m\u001b[0m\n\u001b[1;32m      9\u001b[0m             \u001b[0mprint\u001b[0m\u001b[0;34m(\u001b[0m\u001b[0mi\u001b[0m\u001b[0;34m)\u001b[0m\u001b[0;34m\u001b[0m\u001b[0;34m\u001b[0m\u001b[0m\n\u001b[0;32m---> 10\u001b[0;31m             \u001b[0mcandles\u001b[0m \u001b[0;34m=\u001b[0m \u001b[0msorted\u001b[0m\u001b[0;34m(\u001b[0m\u001b[0mcandles\u001b[0m\u001b[0;34m)\u001b[0m\u001b[0;34m[\u001b[0m\u001b[0;34m:\u001b[0m\u001b[0mi\u001b[0m\u001b[0;34m]\u001b[0m \u001b[0;34m-\u001b[0m \u001b[0;34m[\u001b[0m\u001b[0;36m1\u001b[0m\u001b[0;34m]\u001b[0m\u001b[0;34m*\u001b[0m\u001b[0mi\u001b[0m\u001b[0;34m\u001b[0m\u001b[0;34m\u001b[0m\u001b[0m\n\u001b[0m\u001b[1;32m     11\u001b[0m             \u001b[0;32mif\u001b[0m \u001b[0;36m0\u001b[0m \u001b[0;32min\u001b[0m \u001b[0mcandles\u001b[0m\u001b[0;34m:\u001b[0m\u001b[0;34m\u001b[0m\u001b[0;34m\u001b[0m\u001b[0m\n\u001b[1;32m     12\u001b[0m                 \u001b[0manswer\u001b[0m \u001b[0;34m=\u001b[0m \u001b[0mi\u001b[0m\u001b[0;34m\u001b[0m\u001b[0;34m\u001b[0m\u001b[0m\n",
      "\u001b[0;31mTypeError\u001b[0m: unsupported operand type(s) for -: 'list' and 'list'"
     ]
    }
   ],
   "source": [
    "candles = [2,2,2,4]\n",
    "print(sorted(candles)[:1])\n",
    "s = Solution()\n",
    "s.solution(candles)"
   ]
  },
  {
   "cell_type": "code",
   "execution_count": null,
   "id": "c2b939d9",
   "metadata": {},
   "outputs": [],
   "source": [
    "candles.sort() = [1]*i"
   ]
  },
  {
   "cell_type": "code",
   "execution_count": 237,
   "id": "49122638",
   "metadata": {},
   "outputs": [
    {
     "data": {
      "text/plain": [
       "array([1, 1, 1, 3])"
      ]
     },
     "execution_count": 237,
     "metadata": {},
     "output_type": "execute_result"
    }
   ],
   "source": [
    "import numpy as np\n",
    "ar_candles = np.array(candles)\n",
    "ar_candles - np.array([1]*4)"
   ]
  },
  {
   "cell_type": "code",
   "execution_count": 265,
   "id": "6dacf142",
   "metadata": {},
   "outputs": [
    {
     "data": {
      "text/plain": [
       "array([3, 1, 1, 1])"
      ]
     },
     "execution_count": 265,
     "metadata": {},
     "output_type": "execute_result"
    }
   ],
   "source": [
    "np.sort(ar_candles)[::-1] - np.array([1]*4)"
   ]
  },
  {
   "cell_type": "code",
   "execution_count": 254,
   "id": "84b18398",
   "metadata": {},
   "outputs": [
    {
     "data": {
      "text/plain": [
       "array([2, 2, 2, 4])"
      ]
     },
     "execution_count": 254,
     "metadata": {},
     "output_type": "execute_result"
    }
   ],
   "source": [
    "ar_candles"
   ]
  },
  {
   "cell_type": "code",
   "execution_count": 304,
   "id": "08d1a4b0",
   "metadata": {},
   "outputs": [
    {
     "data": {
      "text/plain": [
       "[2, 2, 2, 4]"
      ]
     },
     "execution_count": 304,
     "metadata": {},
     "output_type": "execute_result"
    }
   ],
   "source": [
    "candles"
   ]
  },
  {
   "cell_type": "code",
   "execution_count": 309,
   "id": "70b836f2",
   "metadata": {},
   "outputs": [],
   "source": [
    "#핵심 소스코드의 설명을 주석으로 작성하면 평가에 큰 도움이 됩니다.\n",
    "import numpy as np\n",
    "\n",
    "class Solution:\n",
    "    def solution(self, candles):\n",
    "        # 전략 1)\n",
    "        #   정렬 -> 앞1개-1 -> 정렬 -> 앞2개 -1 ...\n",
    "        # 최대 일수: len(candles) 인데 최대값<len(candles) 이면 최대 일수 = 최대값\n",
    "        # 0이 있으면 멈춤\n",
    "        answer = 0\n",
    "        for i in range(1, len(candles)+1):\n",
    "            print(i)\n",
    "            ar_candles = np.array(sorted(candles, reverse=True)[:i])\n",
    "            print(ar_candles)\n",
    "            ar_candles = np.sort(ar_candles)[::-1] - np.array([1]*i)\n",
    "\n",
    "            candles = sorted(candles, reverse=True)\n",
    "            candles[:i] = ar_candles.tolist()\n",
    "\n",
    "            print(candles)\n",
    "\n",
    "            if 0 in candles:\n",
    "                answer = i\n",
    "                break\n",
    "        else:\n",
    "            answer = i\n",
    "        return answer"
   ]
  },
  {
   "cell_type": "code",
   "execution_count": 310,
   "id": "c30aa695",
   "metadata": {
    "scrolled": true
   },
   "outputs": [
    {
     "name": "stdout",
     "output_type": "stream",
     "text": [
      "1\n",
      "[4]\n",
      "[3, 2, 2, 2]\n",
      "2\n",
      "[3 2]\n",
      "[2, 1, 2, 2]\n",
      "3\n",
      "[2 2 2]\n",
      "[1, 1, 1, 1]\n",
      "4\n",
      "[1 1 1 1]\n",
      "[0, 0, 0, 0]\n"
     ]
    },
    {
     "data": {
      "text/plain": [
       "4"
      ]
     },
     "execution_count": 310,
     "metadata": {},
     "output_type": "execute_result"
    }
   ],
   "source": [
    "candles = [2,2,2,4]\n",
    "s = Solution()\n",
    "s.solution(candles)"
   ]
  },
  {
   "cell_type": "code",
   "execution_count": 312,
   "id": "7dc2d370",
   "metadata": {},
   "outputs": [
    {
     "name": "stdout",
     "output_type": "stream",
     "text": [
      "1\n",
      "[6]\n",
      "[5, 5, 4, 3, 2, 1]\n",
      "2\n",
      "[5 5]\n",
      "[4, 4, 4, 3, 2, 1]\n",
      "3\n",
      "[4 4 4]\n",
      "[3, 3, 3, 3, 2, 1]\n",
      "4\n",
      "[3 3 3 3]\n",
      "[2, 2, 2, 2, 2, 1]\n",
      "5\n",
      "[2 2 2 2 2]\n",
      "[1, 1, 1, 1, 1, 1]\n",
      "6\n",
      "[1 1 1 1 1 1]\n",
      "[0, 0, 0, 0, 0, 0]\n"
     ]
    },
    {
     "data": {
      "text/plain": [
       "6"
      ]
     },
     "execution_count": 312,
     "metadata": {},
     "output_type": "execute_result"
    }
   ],
   "source": [
    "candles = [1,2,3,4,5,6]\n",
    "s = Solution()\n",
    "s.solution(candles)"
   ]
  },
  {
   "cell_type": "code",
   "execution_count": null,
   "id": "f731043e",
   "metadata": {},
   "outputs": [],
   "source": []
  },
  {
   "cell_type": "markdown",
   "id": "f4f9e4e0",
   "metadata": {},
   "source": [
    "# 모범답안"
   ]
  },
  {
   "cell_type": "code",
   "execution_count": null,
   "id": "5bbd3a05",
   "metadata": {},
   "outputs": [],
   "source": []
  },
  {
   "cell_type": "code",
   "execution_count": null,
   "id": "def3f188",
   "metadata": {},
   "outputs": [],
   "source": []
  },
  {
   "cell_type": "code",
   "execution_count": null,
   "id": "36669434",
   "metadata": {},
   "outputs": [],
   "source": []
  },
  {
   "cell_type": "code",
   "execution_count": null,
   "id": "8b385fb3",
   "metadata": {},
   "outputs": [],
   "source": []
  },
  {
   "cell_type": "code",
   "execution_count": null,
   "id": "868c99bb",
   "metadata": {},
   "outputs": [],
   "source": []
  },
  {
   "cell_type": "code",
   "execution_count": null,
   "id": "e3c4b43c",
   "metadata": {},
   "outputs": [],
   "source": []
  },
  {
   "cell_type": "code",
   "execution_count": null,
   "id": "afc07815",
   "metadata": {},
   "outputs": [],
   "source": []
  },
  {
   "cell_type": "code",
   "execution_count": null,
   "id": "9d5354bb",
   "metadata": {},
   "outputs": [],
   "source": []
  }
 ],
 "metadata": {
  "kernelspec": {
   "display_name": "Python 3 (ipykernel)",
   "language": "python",
   "name": "python3"
  },
  "language_info": {
   "codemirror_mode": {
    "name": "ipython",
    "version": 3
   },
   "file_extension": ".py",
   "mimetype": "text/x-python",
   "name": "python",
   "nbconvert_exporter": "python",
   "pygments_lexer": "ipython3",
   "version": "3.8.11"
  },
  "toc": {
   "base_numbering": 1,
   "nav_menu": {},
   "number_sections": true,
   "sideBar": true,
   "skip_h1_title": false,
   "title_cell": "Table of Contents",
   "title_sidebar": "Contents",
   "toc_cell": false,
   "toc_position": {},
   "toc_section_display": true,
   "toc_window_display": false
  },
  "varInspector": {
   "cols": {
    "lenName": 16,
    "lenType": 16,
    "lenVar": 40
   },
   "kernels_config": {
    "python": {
     "delete_cmd_postfix": "",
     "delete_cmd_prefix": "del ",
     "library": "var_list.py",
     "varRefreshCmd": "print(var_dic_list())"
    },
    "r": {
     "delete_cmd_postfix": ") ",
     "delete_cmd_prefix": "rm(",
     "library": "var_list.r",
     "varRefreshCmd": "cat(var_dic_list()) "
    }
   },
   "types_to_exclude": [
    "module",
    "function",
    "builtin_function_or_method",
    "instance",
    "_Feature"
   ],
   "window_display": true
  }
 },
 "nbformat": 4,
 "nbformat_minor": 5
}
