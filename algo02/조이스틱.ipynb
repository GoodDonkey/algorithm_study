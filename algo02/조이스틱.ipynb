{
 "cells": [
  {
   "cell_type": "code",
   "execution_count": 1,
   "id": "b8ad72b6",
   "metadata": {},
   "outputs": [
    {
     "name": "stdout",
     "output_type": "stream",
     "text": [
      "time : 5.507469177246094e-05\n"
     ]
    }
   ],
   "source": [
    "import time\n",
    "start = time.time()\n",
    "print(\"time :\", time.time() - start)"
   ]
  },
  {
   "cell_type": "markdown",
   "id": "2f5f99cf",
   "metadata": {},
   "source": [
    "# 내 답안"
   ]
  },
  {
   "cell_type": "code",
   "execution_count": 23,
   "id": "cd6350b0",
   "metadata": {},
   "outputs": [
    {
     "data": {
      "text/plain": [
       "{'A': 0,\n",
       " 'B': 1,\n",
       " 'C': 2,\n",
       " 'D': 3,\n",
       " 'E': 4,\n",
       " 'F': 5,\n",
       " 'G': 6,\n",
       " 'H': 7,\n",
       " 'I': 8,\n",
       " 'J': 9,\n",
       " 'K': 10,\n",
       " 'L': 11,\n",
       " 'M': 12,\n",
       " 'N': 13,\n",
       " 'O': 14,\n",
       " 'P': 15,\n",
       " 'Q': 16,\n",
       " 'R': 17,\n",
       " 'S': 18,\n",
       " 'T': 19,\n",
       " 'U': 20,\n",
       " 'V': 21,\n",
       " 'W': 22,\n",
       " 'X': 23,\n",
       " 'Y': 24,\n",
       " 'Z': 25}"
      ]
     },
     "execution_count": 23,
     "metadata": {},
     "output_type": "execute_result"
    }
   ],
   "source": [
    "from string import ascii_uppercase\n",
    "alphabet = dict(zip(list(ascii_uppercase), list(range(26))))\n",
    "alphabet\n",
    "# N은 위로, 아래로 똑같다."
   ]
  },
  {
   "cell_type": "markdown",
   "id": "a4325dde",
   "metadata": {},
   "source": [
    "## 정답"
   ]
  },
  {
   "cell_type": "code",
   "execution_count": 103,
   "id": "fbc95bda",
   "metadata": {},
   "outputs": [],
   "source": [
    "from string import ascii_uppercase\n",
    "def solution(name):\n",
    "    alphabet = dict(zip(list(ascii_uppercase), list(range(26))))\n",
    "    answer = 0\n",
    "    \n",
    "    ### 알파벳 만들기\n",
    "    for n in name:\n",
    "        if alphabet[n] <= 13:\n",
    "            answer += alphabet[n]\n",
    "            print(alphabet[n])\n",
    "        else:\n",
    "            answer += 26-alphabet[n]\n",
    "            print(26-alphabet[n])\n",
    "    \n",
    "    ### 움직이기\n",
    "    # A가 아닌 것들의 인덱스(원점으로부터의 거리)\n",
    "    s = [i for i, a in enumerate(name) if not a==\"A\"]\n",
    "    print(\"s: \", s)\n",
    "    \n",
    "    \n",
    "    # 정방향\n",
    "    move_forward = s[-1]\n",
    "    \n",
    "    # 역방향\n",
    "    move_backward = len(name)-s[0]\n",
    "    \n",
    "    # 섞어가기(최대1번 턴)\n",
    "    mix_temp = []\n",
    "    for i, _ in enumerate(s):\n",
    "        if i == len(s)-1:\n",
    "            break\n",
    "        mix_temp.append(s[i]*2 + len(name)-s[i+1])\n",
    "    mix_min = min(mix_temp)  \n",
    "    \n",
    "    print(move_forward, move_backward, mix_min)\n",
    "    best_move = min(move_forward, move_backward, mix_min)\n",
    "    answer += best_move\n",
    "    return answer"
   ]
  },
  {
   "cell_type": "code",
   "execution_count": 104,
   "id": "00c33377",
   "metadata": {
    "scrolled": true
   },
   "outputs": [
    {
     "name": "stdout",
     "output_type": "stream",
     "text": [
      "9\n",
      "4\n",
      "9\n",
      "12\n",
      "4\n",
      "13\n",
      "s:  [0, 1, 2, 3, 4, 5]\n",
      "5 6 5\n",
      "56\n"
     ]
    }
   ],
   "source": [
    "print(solution(\"JEROEN\"))"
   ]
  },
  {
   "cell_type": "code",
   "execution_count": 105,
   "id": "b86a6181",
   "metadata": {},
   "outputs": [
    {
     "name": "stdout",
     "output_type": "stream",
     "text": [
      "9\n",
      "0\n",
      "13\n",
      "s:  [0, 2]\n",
      "2 3 1\n",
      "23\n"
     ]
    }
   ],
   "source": [
    "print(solution(\"JAN\"))"
   ]
  },
  {
   "cell_type": "markdown",
   "id": "89cf4737",
   "metadata": {},
   "source": [
    "A가 한개있다면? A가 여러개 있다면?\n",
    "A가 있으면 안가도 된다.\n",
    "한쪽으로만 끝까지 갈때 -> len(name)-1\n",
    "한쪽으로만 중간까지 갈때 -> string.index(not_A)\n",
    "\n",
    "0,1,2,3 은 0,-3,-2,-1과 같다.\n",
    "\n",
    "- 왕복 전략: A가 아닌 알파벳의 인덱스(원점으로부터의 거리) * 2\n",
    "- 이어가기 전략: sum(n 거리 - n-1 거리) = sum(n인덱스-(n-1)인덱스) = 가장 먼점의 인덱스 = len(st)-1\n",
    "- 반대 이어가기 전략: 가장가까운점의 반대거리 = len(st)-인덱스\n",
    "- 섞어가기 전략(최대 1번만 바꿔야 가장 경제적): \n",
    "    - 반대거리는 len(st)-인덱스\n",
    "    - 이어갈때: sum(n 거리 - n-1 거리) = sum(st.index[i])\n",
    "    - 반대로갈때: + n-1거리 + n 반대거리 + n+1 반대거리...\n",
    "             = + n-1거리 + len(st) ( - sum(인덱스) )"
   ]
  },
  {
   "cell_type": "code",
   "execution_count": 42,
   "id": "4abd3490",
   "metadata": {},
   "outputs": [
    {
     "name": "stdout",
     "output_type": "stream",
     "text": [
      "0\n",
      "0\n",
      "0\n",
      "1\n",
      "4\n"
     ]
    }
   ],
   "source": [
    "print(solution(\"AAABA\"))"
   ]
  },
  {
   "cell_type": "code",
   "execution_count": 88,
   "id": "36c07a9a",
   "metadata": {},
   "outputs": [
    {
     "data": {
      "text/plain": [
       "[3, 5, 9]"
      ]
     },
     "execution_count": 88,
     "metadata": {},
     "output_type": "execute_result"
    }
   ],
   "source": [
    "st = \"AAABABAAACAA\"\n",
    "# A가 아닌것의 인덱스 (원점에서 거리)\n",
    "s = [i for i, a in enumerate(st) if not a==\"A\"]\n",
    "s\n"
   ]
  },
  {
   "cell_type": "code",
   "execution_count": 89,
   "id": "eaa083ba",
   "metadata": {},
   "outputs": [
    {
     "data": {
      "text/plain": [
       "(11, 9)"
      ]
     },
     "execution_count": 89,
     "metadata": {},
     "output_type": "execute_result"
    }
   ],
   "source": [
    "# 한쪽으로 가기\n",
    "len(st)-1, len(st)-3"
   ]
  },
  {
   "cell_type": "code",
   "execution_count": 87,
   "id": "e40710a8",
   "metadata": {},
   "outputs": [
    {
     "name": "stdout",
     "output_type": "stream",
     "text": [
      "14\n",
      "14\n",
      "19\n"
     ]
    }
   ],
   "source": [
    "# 섞어가기\n",
    "tsum = 0\n",
    "# s[0]*2 + len(st)-s[1]\n",
    "for i, _ in enumerate(s):\n",
    "    if i == len(s)-1:\n",
    "        break\n",
    "    print(s[i]*2 + len(st)-s[i+1])"
   ]
  },
  {
   "cell_type": "markdown",
   "id": "f4f9e4e0",
   "metadata": {},
   "source": [
    "# 모범답안"
   ]
  },
  {
   "cell_type": "code",
   "execution_count": null,
   "id": "5bbd3a05",
   "metadata": {},
   "outputs": [],
   "source": []
  },
  {
   "cell_type": "code",
   "execution_count": null,
   "id": "def3f188",
   "metadata": {},
   "outputs": [],
   "source": []
  },
  {
   "cell_type": "code",
   "execution_count": null,
   "id": "36669434",
   "metadata": {},
   "outputs": [],
   "source": []
  },
  {
   "cell_type": "code",
   "execution_count": null,
   "id": "8b385fb3",
   "metadata": {},
   "outputs": [],
   "source": []
  },
  {
   "cell_type": "code",
   "execution_count": null,
   "id": "868c99bb",
   "metadata": {},
   "outputs": [],
   "source": []
  },
  {
   "cell_type": "code",
   "execution_count": null,
   "id": "e3c4b43c",
   "metadata": {},
   "outputs": [],
   "source": []
  },
  {
   "cell_type": "code",
   "execution_count": null,
   "id": "afc07815",
   "metadata": {},
   "outputs": [],
   "source": []
  },
  {
   "cell_type": "code",
   "execution_count": null,
   "id": "9d5354bb",
   "metadata": {},
   "outputs": [],
   "source": []
  }
 ],
 "metadata": {
  "kernelspec": {
   "display_name": "Python 3 (ipykernel)",
   "language": "python",
   "name": "python3"
  },
  "language_info": {
   "codemirror_mode": {
    "name": "ipython",
    "version": 3
   },
   "file_extension": ".py",
   "mimetype": "text/x-python",
   "name": "python",
   "nbconvert_exporter": "python",
   "pygments_lexer": "ipython3",
   "version": "3.8.11"
  },
  "toc": {
   "base_numbering": 1,
   "nav_menu": {},
   "number_sections": true,
   "sideBar": true,
   "skip_h1_title": false,
   "title_cell": "Table of Contents",
   "title_sidebar": "Contents",
   "toc_cell": false,
   "toc_position": {},
   "toc_section_display": true,
   "toc_window_display": false
  },
  "varInspector": {
   "cols": {
    "lenName": 16,
    "lenType": 16,
    "lenVar": 40
   },
   "kernels_config": {
    "python": {
     "delete_cmd_postfix": "",
     "delete_cmd_prefix": "del ",
     "library": "var_list.py",
     "varRefreshCmd": "print(var_dic_list())"
    },
    "r": {
     "delete_cmd_postfix": ") ",
     "delete_cmd_prefix": "rm(",
     "library": "var_list.r",
     "varRefreshCmd": "cat(var_dic_list()) "
    }
   },
   "types_to_exclude": [
    "module",
    "function",
    "builtin_function_or_method",
    "instance",
    "_Feature"
   ],
   "window_display": true
  }
 },
 "nbformat": 4,
 "nbformat_minor": 5
}
