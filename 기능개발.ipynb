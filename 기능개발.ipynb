{
 "cells": [
  {
   "cell_type": "markdown",
   "id": "b2c105d0",
   "metadata": {},
   "source": [
    "# 문제\n",
    "\n",
    "### 제한 사항\n",
    "작업의 개수(progresses, speeds배열의 길이)는 100개 이하입니다.  \n",
    "작업 진도는 100 미만의 자연수입니다.  \n",
    "작업 속도는 100 이하의 자연수입니다.  \n",
    "배포는 하루에 한 번만 할 수 있으며, 하루의 끝에 이루어진다고 가정합니다.  \n",
    "예를 들어 진도율이 95%인 작업의 개발 속도가 하루에 4%라면 배포는 2일 뒤에 이루어집니다.  \n",
    "\n",
    "### 입출력 예\n",
    "progresses\tspeeds\treturn  \n",
    "[93, 30, 55]\t[1, 30, 5]\t[2, 1]  \n",
    "[95, 90, 99, 99, 80, 99]\t[1, 1, 1, 1, 1, 1]\t[1, 3, 2]  \n",
    "\n",
    "\n",
    "### 입출력 예 #1\n",
    "첫 번째 기능은 93% 완료되어 있고 하루에 1%씩 작업이 가능하므로 7일간 작업 후 배포가 가능합니다.\n",
    "두 번째 기능은 30%가 완료되어 있고 하루에 30%씩 작업이 가능하므로 3일간 작업 후 배포가 가능합니다. 하지만 이전 첫 번째 기능이 아직 완성된 상태가 아니기 때문에 첫 번째 기능이 배포되는 7일째 배포됩니다.\n",
    "세 번째 기능은 55%가 완료되어 있고 하루에 5%씩 작업이 가능하므로 9일간 작업 후 배포가 가능합니다.\n",
    "\n",
    "따라서 7일째에 2개의 기능, 9일째에 1개의 기능이 배포됩니다.\n",
    "\n",
    "\n",
    "### 입출력 예 #2\n",
    "모든 기능이 하루에 1%씩 작업이 가능하므로, 작업이 끝나기까지 남은 일수는 각각 5일, 10일, 1일, 1일, 20일, 1일입니다. 어떤 기능이 먼저 완성되었더라도 앞에 있는 모든 기능이 완성되지 않으면 배포가 불가능합니다.\n",
    "\n",
    "따라서 5일째에 1개의 기능, 10일째에 3개의 기능, 20일째에 2개의 기능이 배포됩니다."
   ]
  },
  {
   "cell_type": "code",
   "execution_count": null,
   "id": "ecd5eb78",
   "metadata": {},
   "outputs": [],
   "source": [
    "# 기본 템플릿\n",
    "def solution(progresses, speeds):\n",
    "    answer = []\n",
    "    return answer"
   ]
  },
  {
   "cell_type": "code",
   "execution_count": null,
   "id": "94417fb3",
   "metadata": {},
   "outputs": [],
   "source": [
    "'''\n",
    "생각 1\n",
    "progresses와 speeds는 길이가 같은 리스트이다.\n",
    "리턴값의 길이를 구하기 위해서는\n",
    "progresses의 각 원소들이 완성되기까지 필요한 일수를 알아야 한다.\n",
    "필요한 일수가 i번째보다 i+1, i+2... 번째가 더 작다면 전체 길이는 progresses의 길이보다 작아진다.\n",
    "작아지는 정도는 연속적으로 작아지는 횟수만큼 작아진다.\n",
    "예를 들어서 필요한 일수가 1번째보다 1+2번째 기능까지 작았다면 전체길이가 5라고 가정했을때 5-2=3이 되고\n",
    "그 이후엔 계속 커졌다면 리턴값의 길이는 3이 된다.\n",
    "\n",
    "생각 2\n",
    "speed를 2배, 3배, 4배... 한 값들을 만든다.\n",
    "위 값들을 progresses에 차례로 더하여 각각 리스트를 만든다.\n",
    "더한 값들의 리스트에서 100이 넘는 값이 나올 때마다 저장한다.\n",
    "\n",
    "생각 3\n",
    "속도가 같은 경우:\n",
    "남은 일수가 5보다 작은 수들 배포\n",
    "남은 일수가 10보다 작은 수들 배포\n",
    "남은 일수가 20보다 작은 수들 배포\n",
    "필요한 일수[5,10,1,1,20,1]\n",
    "\n",
    "속도가 다를 경우:\n",
    "남은일수 - 속도 * x > 100 인 x의 리스트를 만든다.\n",
    "가장 큰값부터 \n",
    "\n",
    "필요한 일수[7,3,9]\n",
    "-> 마지막 원소부터 차례로 체크. 마지막 > 앞의 값들 비교\n",
    "-> 크면 pass, 작으면 정답+1\n",
    "-> 정답 리스트 리버스\n",
    "\n",
    "필요한 일수 target\n",
    "인덱스 index\n",
    "스택 stack\n",
    "정답 answer\n",
    "\n",
    "\n",
    "\n",
    "\n",
    "'''\n",
    "\n",
    "\n",
    "def solution(progresses, speeds):\n",
    "    answer = []\n",
    "    return answer"
   ]
  },
  {
   "cell_type": "code",
   "execution_count": 31,
   "id": "1518bab1",
   "metadata": {},
   "outputs": [],
   "source": [
    "# 길이 3짜리\n",
    "def solution(progresses, speeds):\n",
    "    answer = []\n",
    "    stack = []\n",
    "    com = [100]*len(progresses)\n",
    "    target = [com[i] - progresses[i] for i in range(len(progresses))]\n",
    "    index = list(range(len(progresses)))\n",
    "    index.reverse() # [2,1,0]\n",
    "    \n",
    "    for i in index:\n",
    "        j = 1\n",
    "        while j < len(progresses) and progresses[i] <= progresses[i-j]:\n",
    "            stack.append(1)\n",
    "            j += 1\n",
    "    \n",
    "    stack.reverse()\n",
    "                \n",
    "    return stack"
   ]
  },
  {
   "cell_type": "code",
   "execution_count": 32,
   "id": "b912f5f1",
   "metadata": {
    "scrolled": false
   },
   "outputs": [
    {
     "data": {
      "text/plain": [
       "[1, 1]"
      ]
     },
     "execution_count": 32,
     "metadata": {},
     "output_type": "execute_result"
    }
   ],
   "source": [
    "solution([93, 30, 55], [1, 30, 5])\n"
   ]
  },
  {
   "cell_type": "code",
   "execution_count": 33,
   "id": "69a31262",
   "metadata": {},
   "outputs": [
    {
     "data": {
      "text/plain": [
       "[1, 1, 1, 1, 1, 1, 1, 1, 1]"
      ]
     },
     "execution_count": 33,
     "metadata": {},
     "output_type": "execute_result"
    }
   ],
   "source": [
    "solution([95, 90, 99, 99, 80, 99], [1, 1, 1, 1, 1, 1])"
   ]
  },
  {
   "cell_type": "code",
   "execution_count": 5,
   "id": "37c46ab7",
   "metadata": {},
   "outputs": [
    {
     "name": "stdout",
     "output_type": "stream",
     "text": [
      "[2, 1, 0]\n",
      "\n",
      "\n",
      "[0, 1, 2]\n",
      "\n",
      "\n"
     ]
    }
   ],
   "source": [
    "progresses = [93, 30, 55]\n",
    "com = [100]*len(progresses)\n",
    "target = [com[i] - progresses[i] for i in range(len(progresses))]\n",
    "index = list(range(len(progresses))) # [0,1,2]\n",
    "index.reverse() # [2,1,0]\n",
    "\n",
    "print(index)\n",
    "print(\"\\n\")"
   ]
  },
  {
   "cell_type": "code",
   "execution_count": null,
   "id": "a2945f9a",
   "metadata": {},
   "outputs": [],
   "source": [
    "# index i -> 5,4,3,2,1,0...\n",
    "# index j -> 1,2,3,4,5...len()"
   ]
  },
  {
   "cell_type": "code",
   "execution_count": null,
   "id": "9675e627",
   "metadata": {},
   "outputs": [],
   "source": [
    "# 빼기 연산\n",
    "progresses = [93, 30, 55]\n",
    "com = [100]*len(progresses)\n",
    "print(com)\n",
    "[com[i] - progresses[i] for i in range(len(progresses))]"
   ]
  },
  {
   "cell_type": "code",
   "execution_count": 16,
   "id": "3b6c7a15",
   "metadata": {},
   "outputs": [
    {
     "data": {
      "text/plain": [
       "[1, 2]"
      ]
     },
     "execution_count": 16,
     "metadata": {},
     "output_type": "execute_result"
    }
   ],
   "source": [
    "list(range(1,len(progresses)))"
   ]
  },
  {
   "cell_type": "markdown",
   "id": "d226d21a",
   "metadata": {},
   "source": [
    "## 모범답안"
   ]
  },
  {
   "cell_type": "code",
   "execution_count": 1,
   "id": "1d9d3f77",
   "metadata": {},
   "outputs": [],
   "source": [
    "def solution(progresses, speeds):\n",
    "    answer = []\n",
    "    while progresses:\n",
    "        for i in range(len(progresses)):\n",
    "            progresses[i] += speeds[i]\n",
    "        cnt = 0\n",
    "        while progresses and progresses[0] >= 100:       \n",
    "            progresses.pop(0)\n",
    "            speeds.pop(0)\n",
    "            cnt += 1\n",
    "\n",
    "        if cnt:\n",
    "            answer.append(cnt)\n",
    "    return answer\n",
    "\n",
    "# [93, 30, 55], [1, 30, 5]"
   ]
  },
  {
   "cell_type": "code",
   "execution_count": null,
   "id": "cc509fdf",
   "metadata": {},
   "outputs": [],
   "source": [
    "'''\n",
    "i는 0,1,2 차례로\n",
    "answer    i    cnt      prog[0]   prog[1]   prog[2]   prog[3]\n",
    "[]        0      0         94        30        55                      \n",
    "          1                          60                          \n",
    "          2                                    60                \n",
    "          0                95                                    \n",
    "          1                          90                          \n",
    "          2                                    65                \n",
    "          0                96                                     \n",
    "          1                          120                           \n",
    "          2                                    70                 \n",
    "          ...                                                     \n",
    "          0                100pop                                     \n",
    "[]       1      1                   100+pop                         \n",
    "[2]             2                              100-               \n",
    "                                                ...             \n",
    "[2,1]                                           100             \n",
    "                                                            \n",
    "                                                            \n",
    "                                                            \n",
    "                                                            \n",
    "                                                               \n",
    "                                                              \n",
    "                                                              \n",
    "                                                              \n",
    "                                                              \n",
    "                                                              \n",
    "                           \n",
    "'''"
   ]
  }
 ],
 "metadata": {
  "kernelspec": {
   "display_name": "Python 3",
   "language": "python",
   "name": "python3"
  },
  "language_info": {
   "codemirror_mode": {
    "name": "ipython",
    "version": 3
   },
   "file_extension": ".py",
   "mimetype": "text/x-python",
   "name": "python",
   "nbconvert_exporter": "python",
   "pygments_lexer": "ipython3",
   "version": "3.8.2"
  }
 },
 "nbformat": 4,
 "nbformat_minor": 5
}
