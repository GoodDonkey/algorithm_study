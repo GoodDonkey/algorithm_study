{
 "cells": [
  {
   "cell_type": "code",
   "execution_count": null,
   "id": "3e7f730d",
   "metadata": {},
   "outputs": [],
   "source": [
    "def solution(numbers):\n",
    "    answer = 0\n",
    "    return answer"
   ]
  },
  {
   "cell_type": "code",
   "execution_count": null,
   "id": "dd1021b3",
   "metadata": {},
   "outputs": [],
   "source": [
    "'''\n",
    "numbers = \"17\"\n",
    "01. 문자열이 주어진다. 길이는 1이상 7이하. 이것을 잘라서 써야한다.\n",
    "    list() 쓰면 잘라서 리스트에 담아줌\n",
    "\n",
    "02. 소수를 만드는 규칙은 없다. 단, 정의는 자기자신과 1 이외의 수로 나누어질 수 없는 수이다.\n",
    "    게다가 최대 7자리이기 때문에 규칙으로 표현하기는 어려울 것 같다.\n",
    "    또한 찾아보면 7자리까지의 수 중 소수는 무엇이 있는지 찾을 수 있을 것 같다.\n",
    "    그것을 리스트로 가져와서 비교해볼 수 있을 듯.\n",
    "    \n",
    "    x를 x보다 작은 수로 \n",
    "\n",
    "03. 모든 소수는 2를 제외하고 홀수이다.\n",
    "\n",
    "\n",
    "\n",
    "'''\n",
    "def solution(numbers):\n",
    "    answer = 0\n",
    "    return answer"
   ]
  },
  {
   "cell_type": "code",
   "execution_count": 6,
   "id": "736fdf06",
   "metadata": {},
   "outputs": [
    {
     "data": {
      "text/plain": [
       "[1, 7]"
      ]
     },
     "execution_count": 6,
     "metadata": {},
     "output_type": "execute_result"
    }
   ],
   "source": [
    "numbers = \"17\"\n",
    "a = map(int,list(numbers))\n",
    "list(a)"
   ]
  },
  {
   "cell_type": "code",
   "execution_count": null,
   "id": "55aa9dc1",
   "metadata": {},
   "outputs": [],
   "source": [
    "def solution(numbers):\n",
    "    answer = 0\n",
    "    return answer"
   ]
  }
 ],
 "metadata": {
  "kernelspec": {
   "display_name": "Python 3",
   "language": "python",
   "name": "python3"
  },
  "language_info": {
   "codemirror_mode": {
    "name": "ipython",
    "version": 3
   },
   "file_extension": ".py",
   "mimetype": "text/x-python",
   "name": "python",
   "nbconvert_exporter": "python",
   "pygments_lexer": "ipython3",
   "version": "3.8.2"
  }
 },
 "nbformat": 4,
 "nbformat_minor": 5
}
