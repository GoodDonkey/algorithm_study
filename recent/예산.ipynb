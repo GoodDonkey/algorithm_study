{
 "cells": [
  {
   "cell_type": "code",
   "execution_count": 133,
   "id": "c0d1239d",
   "metadata": {},
   "outputs": [
    {
     "name": "stdout",
     "output_type": "stream",
     "text": [
      "time : 5.1021575927734375e-05\n"
     ]
    }
   ],
   "source": [
    "import time\n",
    "start = time.time()\n",
    "print(\"time :\", time.time() - start)"
   ]
  },
  {
   "cell_type": "markdown",
   "id": "2f5f99cf",
   "metadata": {},
   "source": [
    "# 내 답안"
   ]
  },
  {
   "cell_type": "markdown",
   "id": "ab7d7c6e",
   "metadata": {},
   "source": [
    "목표: 많은 수의 부서에 지원해주기\n",
    "\n",
    "- 신청 금액이 적은 부서부터 모두 고르면 됨."
   ]
  },
  {
   "cell_type": "markdown",
   "id": "70be7109",
   "metadata": {},
   "source": [
    "## dirty"
   ]
  },
  {
   "cell_type": "code",
   "execution_count": 32,
   "id": "cd6350b0",
   "metadata": {},
   "outputs": [],
   "source": [
    "def solution(d, budget):\n",
    "    d.sort()\n",
    "    dsum=0\n",
    "    for i in range(len(d)):\n",
    "        print(\"for: \", i)\n",
    "        dsum += d[i]\n",
    "        if dsum <= budget:\n",
    "            continue\n",
    "        else:\n",
    "            i -= 1\n",
    "            print(\"else: \", i)\n",
    "            break\n",
    "    return i+1"
   ]
  },
  {
   "cell_type": "code",
   "execution_count": 33,
   "id": "fbc95bda",
   "metadata": {},
   "outputs": [
    {
     "name": "stdout",
     "output_type": "stream",
     "text": [
      "for:  0\n",
      "for:  1\n",
      "for:  2\n",
      "for:  3\n",
      "else:  2\n"
     ]
    },
    {
     "data": {
      "text/plain": [
       "3"
      ]
     },
     "execution_count": 33,
     "metadata": {},
     "output_type": "execute_result"
    }
   ],
   "source": [
    "solution([1,3,2,5,4], 9)"
   ]
  },
  {
   "cell_type": "code",
   "execution_count": 34,
   "id": "00c33377",
   "metadata": {},
   "outputs": [
    {
     "name": "stdout",
     "output_type": "stream",
     "text": [
      "for:  0\n",
      "for:  1\n",
      "for:  2\n",
      "for:  3\n"
     ]
    },
    {
     "data": {
      "text/plain": [
       "4"
      ]
     },
     "execution_count": 34,
     "metadata": {},
     "output_type": "execute_result"
    }
   ],
   "source": [
    "solution([2,2,3,3], 10)"
   ]
  },
  {
   "cell_type": "markdown",
   "id": "cb5cb8a7",
   "metadata": {},
   "source": [
    "## Clean"
   ]
  },
  {
   "cell_type": "code",
   "execution_count": null,
   "id": "9382c75f",
   "metadata": {},
   "outputs": [],
   "source": [
    "def solution(d, budget):\n",
    "    d.sort()\n",
    "    dsum=0\n",
    "    for i in range(len(d)):\n",
    "        dsum += d[i]\n",
    "        if dsum <= budget:\n",
    "            continue\n",
    "        else:\n",
    "            i -= 1\n",
    "            break\n",
    "    return i+1"
   ]
  },
  {
   "cell_type": "code",
   "execution_count": null,
   "id": "8e4d8b81",
   "metadata": {},
   "outputs": [],
   "source": []
  },
  {
   "cell_type": "code",
   "execution_count": null,
   "id": "4abd3490",
   "metadata": {},
   "outputs": [],
   "source": []
  },
  {
   "cell_type": "code",
   "execution_count": null,
   "id": "36c07a9a",
   "metadata": {},
   "outputs": [],
   "source": []
  },
  {
   "cell_type": "code",
   "execution_count": null,
   "id": "eaa083ba",
   "metadata": {},
   "outputs": [],
   "source": []
  },
  {
   "cell_type": "markdown",
   "id": "f4f9e4e0",
   "metadata": {},
   "source": [
    "# 모범답안\n",
    "- budget보다 작아질떄까지 큰수를 뺌\n",
    "- 모든 수의 sum을 계속 연산하기 때문에 별로인듯.\n",
    "- 큰수를 인덱싱해서 차례로 빼는게 더 빠를지도??\n",
    "    - 비슷한듯"
   ]
  },
  {
   "cell_type": "code",
   "execution_count": null,
   "id": "dfb6a52e",
   "metadata": {},
   "outputs": [],
   "source": [
    "start = time.time()\n",
    "print(\"time :\", time.time() - start)"
   ]
  },
  {
   "cell_type": "code",
   "execution_count": 75,
   "id": "5bbd3a05",
   "metadata": {},
   "outputs": [],
   "source": [
    "def solution(d, budget):\n",
    "    start = time.time()\n",
    "    d.sort()\n",
    "    while budget < sum(d):\n",
    "        d.pop()\n",
    "    print(\"time :\", time.time() - start)\n",
    "    return len(d)"
   ]
  },
  {
   "cell_type": "code",
   "execution_count": 92,
   "id": "def3f188",
   "metadata": {},
   "outputs": [
    {
     "name": "stdout",
     "output_type": "stream",
     "text": [
      "time : 4.0531158447265625e-06\n"
     ]
    },
    {
     "data": {
      "text/plain": [
       "3"
      ]
     },
     "execution_count": 92,
     "metadata": {},
     "output_type": "execute_result"
    }
   ],
   "source": [
    "\n",
    "solution([1,3,2,5,4], 9)\n"
   ]
  },
  {
   "cell_type": "code",
   "execution_count": 40,
   "id": "36669434",
   "metadata": {},
   "outputs": [
    {
     "data": {
      "text/plain": [
       "4"
      ]
     },
     "execution_count": 40,
     "metadata": {},
     "output_type": "execute_result"
    }
   ],
   "source": [
    "solution([2,2,3,3], 10)"
   ]
  },
  {
   "cell_type": "code",
   "execution_count": null,
   "id": "3b10f3a6",
   "metadata": {},
   "outputs": [],
   "source": []
  },
  {
   "cell_type": "code",
   "execution_count": 93,
   "id": "8b385fb3",
   "metadata": {},
   "outputs": [],
   "source": [
    "\n",
    "def solution(d, budget):\n",
    "    start = time.time()\n",
    "    d.sort()\n",
    "    dsum=sum(d)\n",
    "    while budget < dsum:\n",
    "        dsum-=d.pop()\n",
    "    print(\"time :\", time.time() - start)\n",
    "    return len(d)\n"
   ]
  },
  {
   "cell_type": "code",
   "execution_count": 132,
   "id": "868c99bb",
   "metadata": {},
   "outputs": [
    {
     "name": "stdout",
     "output_type": "stream",
     "text": [
      "time : 4.0531158447265625e-06\n"
     ]
    },
    {
     "data": {
      "text/plain": [
       "3"
      ]
     },
     "execution_count": 132,
     "metadata": {},
     "output_type": "execute_result"
    }
   ],
   "source": [
    "solution([1,3,2,5,4], 9)"
   ]
  },
  {
   "cell_type": "code",
   "execution_count": 43,
   "id": "e3c4b43c",
   "metadata": {},
   "outputs": [
    {
     "data": {
      "text/plain": [
       "4"
      ]
     },
     "execution_count": 43,
     "metadata": {},
     "output_type": "execute_result"
    }
   ],
   "source": [
    "solution([2,2,3,3], 10)"
   ]
  },
  {
   "cell_type": "code",
   "execution_count": null,
   "id": "afc07815",
   "metadata": {},
   "outputs": [],
   "source": []
  },
  {
   "cell_type": "code",
   "execution_count": null,
   "id": "9d5354bb",
   "metadata": {},
   "outputs": [],
   "source": []
  }
 ],
 "metadata": {
  "kernelspec": {
   "display_name": "Python 3 (ipykernel)",
   "language": "python",
   "name": "python3"
  },
  "language_info": {
   "codemirror_mode": {
    "name": "ipython",
    "version": 3
   },
   "file_extension": ".py",
   "mimetype": "text/x-python",
   "name": "python",
   "nbconvert_exporter": "python",
   "pygments_lexer": "ipython3",
   "version": "3.8.11"
  },
  "toc": {
   "base_numbering": 1,
   "nav_menu": {},
   "number_sections": true,
   "sideBar": true,
   "skip_h1_title": false,
   "title_cell": "Table of Contents",
   "title_sidebar": "Contents",
   "toc_cell": false,
   "toc_position": {},
   "toc_section_display": true,
   "toc_window_display": false
  },
  "varInspector": {
   "cols": {
    "lenName": 16,
    "lenType": 16,
    "lenVar": 40
   },
   "kernels_config": {
    "python": {
     "delete_cmd_postfix": "",
     "delete_cmd_prefix": "del ",
     "library": "var_list.py",
     "varRefreshCmd": "print(var_dic_list())"
    },
    "r": {
     "delete_cmd_postfix": ") ",
     "delete_cmd_prefix": "rm(",
     "library": "var_list.r",
     "varRefreshCmd": "cat(var_dic_list()) "
    }
   },
   "types_to_exclude": [
    "module",
    "function",
    "builtin_function_or_method",
    "instance",
    "_Feature"
   ],
   "window_display": true
  }
 },
 "nbformat": 4,
 "nbformat_minor": 5
}
