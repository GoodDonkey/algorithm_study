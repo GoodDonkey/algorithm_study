{
 "cells": [
  {
   "cell_type": "markdown",
   "id": "2f5f99cf",
   "metadata": {},
   "source": [
    "# 내 답안"
   ]
  },
  {
   "cell_type": "markdown",
   "id": "d55b74fd",
   "metadata": {},
   "source": [
    "1*n==n 이어야함\n",
    "n/2가 자연수이면 안됨. n/2==int(n/2)이어야함.\n",
    "\n",
    "1과 n 사이의 수를 차례로 조회 = i\n",
    "i 가 소수인지 판별\n",
    "    1과 i사이에 수 m이 있을떄 i/m이 자연수인 경우가 있으면 안됨.\n",
    "소수인 i를 li에 넣음\n",
    "li의 개수를 리턴\n",
    "\n",
    "9이면\n",
    "1,9,2,9/2, 3, 9/3....\n",
    "10이면\n",
    "    2,\n",
    "    3 -> 2, 3/2\n",
    "    4 -> \n",
    "    5 -> 2, 5/2\n",
    "    \n",
    "14 -> 2,3,5,7,11,....12는 \n",
    "\n"
   ]
  },
  {
   "cell_type": "markdown",
   "id": "e86a7f4e",
   "metadata": {},
   "source": [
    "## 시간초과"
   ]
  },
  {
   "cell_type": "code",
   "execution_count": 54,
   "id": "a73a03ec",
   "metadata": {},
   "outputs": [],
   "source": [
    "# dirty\n",
    "def solution(n):\n",
    "    answer=0\n",
    "    li = [2]\n",
    "    for i in range(3, n+1): # 3,4,5...10\n",
    "        print(f\"i{i}\")\n",
    "        for m in range(2, i):\n",
    "            print(f\"m{m}\")\n",
    "            if i/m==int(i/m):\n",
    "                break\n",
    "            elif m==i-1:\n",
    "                print('append')\n",
    "                li.append(i)\n",
    "        continue\n",
    "    print(li)\n",
    "    return len(li)"
   ]
  },
  {
   "cell_type": "code",
   "execution_count": null,
   "id": "aab9e892",
   "metadata": {},
   "outputs": [],
   "source": [
    "# clean\n",
    "def solution(n):\n",
    "    answer=0\n",
    "    li = [2]\n",
    "    for i in range(3, n+1):\n",
    "        for m in range(2, i):\n",
    "            if i/m==int(i/m):\n",
    "                break\n",
    "            elif m==i-1:\n",
    "                li.append(i)\n",
    "        continue\n",
    "    return len(li)"
   ]
  },
  {
   "cell_type": "code",
   "execution_count": 56,
   "id": "cd6350b0",
   "metadata": {
    "scrolled": true
   },
   "outputs": [
    {
     "name": "stdout",
     "output_type": "stream",
     "text": [
      "i3\n",
      "m2\n",
      "append\n",
      "i4\n",
      "m2\n",
      "i5\n",
      "m2\n",
      "m3\n",
      "m4\n",
      "append\n",
      "i6\n",
      "m2\n",
      "i7\n",
      "m2\n",
      "m3\n",
      "m4\n",
      "m5\n",
      "m6\n",
      "append\n",
      "i8\n",
      "m2\n",
      "i9\n",
      "m2\n",
      "m3\n",
      "i10\n",
      "m2\n",
      "[2, 3, 5, 7]\n",
      "4\n"
     ]
    }
   ],
   "source": [
    "print(solution(10))\n",
    "# print(solution(5))"
   ]
  },
  {
   "cell_type": "markdown",
   "id": "7d2648cf",
   "metadata": {},
   "source": [
    "소수로 나누어서 떨어지면 무조건 아님.\n",
    "소수의 배수로는 나누지 않는다.\n",
    "    2 검사 후, n보다 작은 2의 배수를 no에 넣는다.\n",
    "    3 검사 후, n보다 작은 3의 배수를 no에 넣는다."
   ]
  },
  {
   "cell_type": "code",
   "execution_count": 152,
   "id": "00c33377",
   "metadata": {},
   "outputs": [],
   "source": [
    "def solution(n):\n",
    "    li = [2]\n",
    "    for i in range(3, n+1, 2): # n이하 수 - 홀수만 조회해도됨\n",
    "        m = 2\n",
    "        while m <= i**0.5+1: # 나눠서 나머지가 0인 경우가 있으면 소수가 아님\n",
    "            if i%m==0:\n",
    "                break\n",
    "            elif m > i**0.5:\n",
    "                li.append(i)\n",
    "                break\n",
    "            m += 1\n",
    "        print(li)\n",
    "    return len(li)"
   ]
  },
  {
   "cell_type": "code",
   "execution_count": 154,
   "id": "9382c75f",
   "metadata": {},
   "outputs": [
    {
     "name": "stdout",
     "output_type": "stream",
     "text": [
      "[2, 3]\n",
      "[2, 3, 5]\n",
      "[2, 3, 5, 7]\n",
      "[2, 3, 5, 7]\n",
      "4\n"
     ]
    }
   ],
   "source": [
    "print(solution(10))"
   ]
  },
  {
   "cell_type": "markdown",
   "id": "995d1c6e",
   "metadata": {},
   "source": [
    "## 최종 내 답안\n",
    "에라토스테네스의 체 사용\n"
   ]
  },
  {
   "cell_type": "code",
   "execution_count": 191,
   "id": "8e4d8b81",
   "metadata": {},
   "outputs": [],
   "source": [
    "def solution(n):\n",
    "    li=[]\n",
    "    no=[False, False]+[True]*(n-1)  # 소수 인지 아닌지 \n",
    "    for i in range(2, n+1):  # i번째가 True이면 소수. i를 li에 넣는다.\n",
    "        if no[i]:\n",
    "            li.append(i)\n",
    "            # i의 배수를 False로\n",
    "            for j in range(i, n+1, i):  # range(i, n+1, i)로 해야 맞을듯. no[2]도 False로 바꿔버리지만 이미 검사해서 오류는 안났음.\n",
    "                no[j]=False\n",
    "        else:\n",
    "            continue\n",
    "    return len(li)"
   ]
  },
  {
   "cell_type": "code",
   "execution_count": 192,
   "id": "a3391f17",
   "metadata": {},
   "outputs": [
    {
     "name": "stdout",
     "output_type": "stream",
     "text": [
      "9592\n"
     ]
    }
   ],
   "source": [
    "print(solution(100000))"
   ]
  },
  {
   "cell_type": "code",
   "execution_count": 193,
   "id": "eaa083ba",
   "metadata": {},
   "outputs": [],
   "source": [
    "def solution(n):\n",
    "    li=[]\n",
    "    no=[False, False]+[True]*(n-1)  # 소수 인지 아닌지 \n",
    "    for i in range(2, n+1):  # i번째가 True이면 소수. i를 li에 넣는다.\n",
    "        if no[i]:\n",
    "            li.append(i)\n",
    "            # i의 배수를 False로\n",
    "            for j in range(2*i, n+1, i):\n",
    "                no[j]=False\n",
    "        else:\n",
    "            continue\n",
    "    return len(li)"
   ]
  },
  {
   "cell_type": "code",
   "execution_count": null,
   "id": "c487ad31",
   "metadata": {},
   "outputs": [],
   "source": []
  },
  {
   "cell_type": "markdown",
   "id": "f4f9e4e0",
   "metadata": {},
   "source": [
    "# 모범답안\n",
    "range(2*i,n+1,i) 에서 i가 2일때는 빈 리스트임. 아무것도 안뺴는 거고 오류 안남."
   ]
  },
  {
   "cell_type": "code",
   "execution_count": 180,
   "id": "5bbd3a05",
   "metadata": {},
   "outputs": [],
   "source": [
    "def solution(n):\n",
    "    num=set(range(2,n+1))\n",
    "    print(f\"num: {num}\")\n",
    "\n",
    "    for i in range(2,n+1):  # 하나씩 검사한다.\n",
    "        print(f\"i: {i}\")\n",
    "        if i in num:\n",
    "            num-=set(range(2*i,n+1,i))  # 검사한 수의 모든 배수를 뺀다.\n",
    "            print(f\"num: {num}\")\n",
    "    return len(num)"
   ]
  },
  {
   "cell_type": "code",
   "execution_count": 187,
   "id": "def3f188",
   "metadata": {},
   "outputs": [
    {
     "name": "stdout",
     "output_type": "stream",
     "text": [
      "num: {2, 3, 4, 5, 6, 7, 8, 9, 10}\n",
      "i: 2\n",
      "num: {2, 3, 5, 7, 9}\n",
      "i: 3\n",
      "num: {2, 3, 5, 7}\n",
      "i: 4\n",
      "i: 5\n",
      "num: {2, 3, 5, 7}\n",
      "i: 6\n",
      "i: 7\n",
      "num: {2, 3, 5, 7}\n",
      "i: 8\n",
      "i: 9\n",
      "i: 10\n",
      "4\n"
     ]
    }
   ],
   "source": [
    "print(solution(10))"
   ]
  },
  {
   "cell_type": "code",
   "execution_count": null,
   "id": "36669434",
   "metadata": {},
   "outputs": [],
   "source": []
  },
  {
   "cell_type": "code",
   "execution_count": null,
   "id": "8b385fb3",
   "metadata": {},
   "outputs": [],
   "source": []
  },
  {
   "cell_type": "code",
   "execution_count": null,
   "id": "868c99bb",
   "metadata": {},
   "outputs": [],
   "source": []
  },
  {
   "cell_type": "code",
   "execution_count": null,
   "id": "e3c4b43c",
   "metadata": {},
   "outputs": [],
   "source": []
  },
  {
   "cell_type": "code",
   "execution_count": null,
   "id": "afc07815",
   "metadata": {},
   "outputs": [],
   "source": []
  },
  {
   "cell_type": "code",
   "execution_count": null,
   "id": "9d5354bb",
   "metadata": {},
   "outputs": [],
   "source": []
  }
 ],
 "metadata": {
  "kernelspec": {
   "display_name": "Python 3 (ipykernel)",
   "language": "python",
   "name": "python3"
  },
  "language_info": {
   "codemirror_mode": {
    "name": "ipython",
    "version": 3
   },
   "file_extension": ".py",
   "mimetype": "text/x-python",
   "name": "python",
   "nbconvert_exporter": "python",
   "pygments_lexer": "ipython3",
   "version": "3.8.11"
  },
  "toc": {
   "base_numbering": 1,
   "nav_menu": {},
   "number_sections": true,
   "sideBar": true,
   "skip_h1_title": false,
   "title_cell": "Table of Contents",
   "title_sidebar": "Contents",
   "toc_cell": false,
   "toc_position": {},
   "toc_section_display": true,
   "toc_window_display": false
  },
  "varInspector": {
   "cols": {
    "lenName": 16,
    "lenType": 16,
    "lenVar": 40
   },
   "kernels_config": {
    "python": {
     "delete_cmd_postfix": "",
     "delete_cmd_prefix": "del ",
     "library": "var_list.py",
     "varRefreshCmd": "print(var_dic_list())"
    },
    "r": {
     "delete_cmd_postfix": ") ",
     "delete_cmd_prefix": "rm(",
     "library": "var_list.r",
     "varRefreshCmd": "cat(var_dic_list()) "
    }
   },
   "types_to_exclude": [
    "module",
    "function",
    "builtin_function_or_method",
    "instance",
    "_Feature"
   ],
   "window_display": true
  }
 },
 "nbformat": 4,
 "nbformat_minor": 5
}
