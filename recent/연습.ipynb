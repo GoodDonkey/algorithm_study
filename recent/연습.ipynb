{
 "cells": [
  {
   "cell_type": "code",
   "execution_count": 1,
   "id": "b8ad72b6",
   "metadata": {},
   "outputs": [
    {
     "name": "stdout",
     "output_type": "stream",
     "text": [
      "time : 5.507469177246094e-05\n"
     ]
    }
   ],
   "source": [
    "import time\n",
    "start = time.time()\n",
    "print(\"time :\", time.time() - start)"
   ]
  },
  {
   "cell_type": "markdown",
   "id": "f4f9e4e0",
   "metadata": {},
   "source": [
    "# 모범답안"
   ]
  },
  {
   "cell_type": "markdown",
   "id": "a8506ff6",
   "metadata": {},
   "source": [
    "## 1"
   ]
  },
  {
   "cell_type": "code",
   "execution_count": 1,
   "id": "5bbd3a05",
   "metadata": {},
   "outputs": [],
   "source": [
    "def solution(numbers, target):\n",
    "    answer = 0\n",
    "    leaves = [0]\n",
    "    for num in numbers:\n",
    "        tmp = []\n",
    "        for parent in leaves:\n",
    "            tmp.append(parent + num)\n",
    "            tmp.append(parent - num)\n",
    "        leaves = tmp\n",
    "    for leaf in leaves:\n",
    "        if leaf == target:\n",
    "            answer += 1\n",
    "    return answer\n",
    "\"\"\" 모든 경우를 세는거임\n",
    "\"\"\""
   ]
  },
  {
   "cell_type": "markdown",
   "id": "dd68de1c",
   "metadata": {},
   "source": [
    "## 2"
   ]
  },
  {
   "cell_type": "code",
   "execution_count": 11,
   "id": "36669434",
   "metadata": {},
   "outputs": [],
   "source": [
    "def solution(numbers, target):\n",
    "    answer = DFS(numbers, target, 0)\n",
    "    return answer\n",
    "\n",
    "def DFS(numbers, target, depth):\n",
    "    answer = 0\n",
    "    print(\"depth\", depth)\n",
    "    if depth == len(numbers):\n",
    "        print(\"numbers\",numbers)\n",
    "        if sum(numbers) == target:\n",
    "            return 1\n",
    "        else:\n",
    "            return 0 \n",
    "    else:\n",
    "        print(\"numbers\",numbers)\n",
    "        answer += DFS(numbers, target, depth+1)\n",
    "        numbers[depth] *= -1\n",
    "        answer += DFS(numbers, target, depth+1)\n",
    "        return answer\n"
   ]
  },
  {
   "cell_type": "code",
   "execution_count": 12,
   "id": "8b385fb3",
   "metadata": {},
   "outputs": [
    {
     "name": "stdout",
     "output_type": "stream",
     "text": [
      "depth 0\n",
      "numbers [1, 1, 1, 1, 1]\n",
      "depth 1\n",
      "numbers [1, 1, 1, 1, 1]\n",
      "depth 2\n",
      "numbers [1, 1, 1, 1, 1]\n",
      "depth 3\n",
      "numbers [1, 1, 1, 1, 1]\n",
      "depth 4\n",
      "numbers [1, 1, 1, 1, 1]\n",
      "depth 5\n",
      "numbers [1, 1, 1, 1, 1]\n",
      "depth 5\n",
      "numbers [1, 1, 1, 1, -1]\n",
      "depth 4\n",
      "numbers [1, 1, 1, -1, -1]\n",
      "depth 5\n",
      "numbers [1, 1, 1, -1, -1]\n",
      "depth 5\n",
      "numbers [1, 1, 1, -1, 1]\n",
      "depth 3\n",
      "numbers [1, 1, -1, -1, 1]\n",
      "depth 4\n",
      "numbers [1, 1, -1, -1, 1]\n",
      "depth 5\n",
      "numbers [1, 1, -1, -1, 1]\n",
      "depth 5\n",
      "numbers [1, 1, -1, -1, -1]\n",
      "depth 4\n",
      "numbers [1, 1, -1, 1, -1]\n",
      "depth 5\n",
      "numbers [1, 1, -1, 1, -1]\n",
      "depth 5\n",
      "numbers [1, 1, -1, 1, 1]\n",
      "depth 2\n",
      "numbers [1, -1, -1, 1, 1]\n",
      "depth 3\n",
      "numbers [1, -1, -1, 1, 1]\n",
      "depth 4\n",
      "numbers [1, -1, -1, 1, 1]\n",
      "depth 5\n",
      "numbers [1, -1, -1, 1, 1]\n",
      "depth 5\n",
      "numbers [1, -1, -1, 1, -1]\n",
      "depth 4\n",
      "numbers [1, -1, -1, -1, -1]\n",
      "depth 5\n",
      "numbers [1, -1, -1, -1, -1]\n",
      "depth 5\n",
      "numbers [1, -1, -1, -1, 1]\n",
      "depth 3\n",
      "numbers [1, -1, 1, -1, 1]\n",
      "depth 4\n",
      "numbers [1, -1, 1, -1, 1]\n",
      "depth 5\n",
      "numbers [1, -1, 1, -1, 1]\n",
      "depth 5\n",
      "numbers [1, -1, 1, -1, -1]\n",
      "depth 4\n",
      "numbers [1, -1, 1, 1, -1]\n",
      "depth 5\n",
      "numbers [1, -1, 1, 1, -1]\n",
      "depth 5\n",
      "numbers [1, -1, 1, 1, 1]\n",
      "depth 1\n",
      "numbers [-1, -1, 1, 1, 1]\n",
      "depth 2\n",
      "numbers [-1, -1, 1, 1, 1]\n",
      "depth 3\n",
      "numbers [-1, -1, 1, 1, 1]\n",
      "depth 4\n",
      "numbers [-1, -1, 1, 1, 1]\n",
      "depth 5\n",
      "numbers [-1, -1, 1, 1, 1]\n",
      "depth 5\n",
      "numbers [-1, -1, 1, 1, -1]\n",
      "depth 4\n",
      "numbers [-1, -1, 1, -1, -1]\n",
      "depth 5\n",
      "numbers [-1, -1, 1, -1, -1]\n",
      "depth 5\n",
      "numbers [-1, -1, 1, -1, 1]\n",
      "depth 3\n",
      "numbers [-1, -1, -1, -1, 1]\n",
      "depth 4\n",
      "numbers [-1, -1, -1, -1, 1]\n",
      "depth 5\n",
      "numbers [-1, -1, -1, -1, 1]\n",
      "depth 5\n",
      "numbers [-1, -1, -1, -1, -1]\n",
      "depth 4\n",
      "numbers [-1, -1, -1, 1, -1]\n",
      "depth 5\n",
      "numbers [-1, -1, -1, 1, -1]\n",
      "depth 5\n",
      "numbers [-1, -1, -1, 1, 1]\n",
      "depth 2\n",
      "numbers [-1, 1, -1, 1, 1]\n",
      "depth 3\n",
      "numbers [-1, 1, -1, 1, 1]\n",
      "depth 4\n",
      "numbers [-1, 1, -1, 1, 1]\n",
      "depth 5\n",
      "numbers [-1, 1, -1, 1, 1]\n",
      "depth 5\n",
      "numbers [-1, 1, -1, 1, -1]\n",
      "depth 4\n",
      "numbers [-1, 1, -1, -1, -1]\n",
      "depth 5\n",
      "numbers [-1, 1, -1, -1, -1]\n",
      "depth 5\n",
      "numbers [-1, 1, -1, -1, 1]\n",
      "depth 3\n",
      "numbers [-1, 1, 1, -1, 1]\n",
      "depth 4\n",
      "numbers [-1, 1, 1, -1, 1]\n",
      "depth 5\n",
      "numbers [-1, 1, 1, -1, 1]\n",
      "depth 5\n",
      "numbers [-1, 1, 1, -1, -1]\n",
      "depth 4\n",
      "numbers [-1, 1, 1, 1, -1]\n",
      "depth 5\n",
      "numbers [-1, 1, 1, 1, -1]\n",
      "depth 5\n",
      "numbers [-1, 1, 1, 1, 1]\n"
     ]
    },
    {
     "data": {
      "text/plain": [
       "5"
      ]
     },
     "execution_count": 12,
     "metadata": {},
     "output_type": "execute_result"
    }
   ],
   "source": [
    "solution([1,1,1,1,1], 3)"
   ]
  },
  {
   "cell_type": "code",
   "execution_count": null,
   "id": "868c99bb",
   "metadata": {},
   "outputs": [],
   "source": []
  },
  {
   "cell_type": "markdown",
   "id": "40f6851d",
   "metadata": {},
   "source": [
    "# 추석 트래픽"
   ]
  },
  {
   "cell_type": "code",
   "execution_count": 45,
   "id": "afc07815",
   "metadata": {},
   "outputs": [],
   "source": [
    "def solution(lines):\n",
    "    answer = 0\n",
    "    start = []\n",
    "    end = []\n",
    "    for t in lines:\n",
    "        time = t.split(\" \")\n",
    "        print(time)\n",
    "        print(get_time(time[1]))\n",
    "        print(get_start_time(time[1], time[2]))\n",
    "        start.append(get_start_time(time[1], time[2]))\n",
    "        end.append(get_time(time[1]))\n",
    "    for i in range(len(lines)):\n",
    "        cnt=0\n",
    "        cur_end = end[i]\n",
    "        for j in range(i, len(lines)):\n",
    "            if cur_end > start[j]-1000:\n",
    "                cnt += 1\n",
    "        \n",
    "        answer = max(answer, cnt)\n",
    "    \n",
    "    return answer\n",
    "\n",
    "\n",
    "def get_time(time):\n",
    "    \"\"\" 초단위로 바꾼다음 밀리세컨드로 \"\"\"\n",
    "    hour = int(time[:2]) * 3600\n",
    "    minute = int(time[3:5]) * 60\n",
    "    second = int(time[6:8])\n",
    "    mil = int(time[9:])\n",
    "    return (hour + minute + second)* 1000 + mil\n",
    "\n",
    "def get_start_time(time, duration):\n",
    "    return get_time(time) - int(float(duration[:-1])*1000) + 1"
   ]
  },
  {
   "cell_type": "code",
   "execution_count": null,
   "id": "9d5354bb",
   "metadata": {},
   "outputs": [],
   "source": []
  },
  {
   "cell_type": "code",
   "execution_count": null,
   "id": "ee28f06b",
   "metadata": {},
   "outputs": [],
   "source": []
  },
  {
   "cell_type": "code",
   "execution_count": 27,
   "id": "ed42dcec",
   "metadata": {},
   "outputs": [
    {
     "data": {
      "text/plain": [
       "2"
      ]
     },
     "execution_count": 27,
     "metadata": {},
     "output_type": "execute_result"
    }
   ],
   "source": [
    "int(2)"
   ]
  },
  {
   "cell_type": "code",
   "execution_count": 46,
   "id": "ad2fc245",
   "metadata": {},
   "outputs": [
    {
     "name": "stdout",
     "output_type": "stream",
     "text": [
      "['2016-09-15', '01:00:04.001', '2.0s']\n",
      "3604001\n",
      "3602002\n",
      "['2016-09-15', '01:00:07.000', '2s']\n",
      "3607000\n",
      "3605001\n"
     ]
    },
    {
     "data": {
      "text/plain": [
       "1"
      ]
     },
     "execution_count": 46,
     "metadata": {},
     "output_type": "execute_result"
    }
   ],
   "source": [
    "solution([\n",
    "\"2016-09-15 01:00:04.001 2.0s\",\n",
    "\"2016-09-15 01:00:07.000 2s\"\n",
    "])"
   ]
  },
  {
   "cell_type": "code",
   "execution_count": null,
   "id": "e3331cfc",
   "metadata": {},
   "outputs": [],
   "source": []
  },
  {
   "cell_type": "code",
   "execution_count": null,
   "id": "2878ac77",
   "metadata": {},
   "outputs": [],
   "source": []
  },
  {
   "cell_type": "code",
   "execution_count": null,
   "id": "fb1900ed",
   "metadata": {},
   "outputs": [],
   "source": []
  },
  {
   "cell_type": "code",
   "execution_count": null,
   "id": "e67fa947",
   "metadata": {},
   "outputs": [],
   "source": []
  },
  {
   "cell_type": "code",
   "execution_count": null,
   "id": "e66645cd",
   "metadata": {},
   "outputs": [],
   "source": []
  }
 ],
 "metadata": {
  "kernelspec": {
   "display_name": "Python 3 (ipykernel)",
   "language": "python",
   "name": "python3"
  },
  "language_info": {
   "codemirror_mode": {
    "name": "ipython",
    "version": 3
   },
   "file_extension": ".py",
   "mimetype": "text/x-python",
   "name": "python",
   "nbconvert_exporter": "python",
   "pygments_lexer": "ipython3",
   "version": "3.8.2"
  },
  "toc": {
   "base_numbering": 1,
   "nav_menu": {},
   "number_sections": true,
   "sideBar": true,
   "skip_h1_title": false,
   "title_cell": "Table of Contents",
   "title_sidebar": "Contents",
   "toc_cell": false,
   "toc_position": {},
   "toc_section_display": true,
   "toc_window_display": false
  },
  "varInspector": {
   "cols": {
    "lenName": 16,
    "lenType": 16,
    "lenVar": 40
   },
   "kernels_config": {
    "python": {
     "delete_cmd_postfix": "",
     "delete_cmd_prefix": "del ",
     "library": "var_list.py",
     "varRefreshCmd": "print(var_dic_list())"
    },
    "r": {
     "delete_cmd_postfix": ") ",
     "delete_cmd_prefix": "rm(",
     "library": "var_list.r",
     "varRefreshCmd": "cat(var_dic_list()) "
    }
   },
   "types_to_exclude": [
    "module",
    "function",
    "builtin_function_or_method",
    "instance",
    "_Feature"
   ],
   "window_display": true
  }
 },
 "nbformat": 4,
 "nbformat_minor": 5
}
