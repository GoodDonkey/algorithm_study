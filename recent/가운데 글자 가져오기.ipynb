{
 "cells": [
  {
   "cell_type": "markdown",
   "id": "93eea3a1",
   "metadata": {},
   "source": [
    "# 내 답안"
   ]
  },
  {
   "cell_type": "code",
   "execution_count": 40,
   "id": "15dda689",
   "metadata": {},
   "outputs": [],
   "source": [
    "def solution(s):\n",
    "    if len(s)%2==0:\n",
    "        return s[int(len(s)/2)-1:int(len(s)/2)+1]\n",
    "    else:\n",
    "        return s[int(len(s)/2)]"
   ]
  },
  {
   "cell_type": "markdown",
   "id": "18db55d1",
   "metadata": {},
   "source": [
    "길이 홀수: 길이의 절반의 int, 길이 짝수: 길이의 절반과 길이의 절반-1\n",
    "길이 홀수: 마지막 인덱스의 절반 or 짝수: 마지막 인덱스의 절반의 앞뒤 정수\n",
    "정수면 그대로, 정수가 아니면 둘다 \n",
    "나누어 떨어지면 그대로"
   ]
  },
  {
   "cell_type": "code",
   "execution_count": 70,
   "id": "04d5764b",
   "metadata": {},
   "outputs": [
    {
     "data": {
      "text/plain": [
       "'b'"
      ]
     },
     "execution_count": 70,
     "metadata": {},
     "output_type": "execute_result"
    }
   ],
   "source": [
    "solution(\"abcde\")"
   ]
  },
  {
   "cell_type": "code",
   "execution_count": 61,
   "id": "e8965ed8",
   "metadata": {},
   "outputs": [
    {
     "data": {
      "text/plain": [
       "'e'"
      ]
     },
     "execution_count": 61,
     "metadata": {},
     "output_type": "execute_result"
    }
   ],
   "source": [
    "solution(\"qwer\")"
   ]
  },
  {
   "cell_type": "code",
   "execution_count": 69,
   "id": "f5b418fd",
   "metadata": {},
   "outputs": [],
   "source": [
    "def solution(s):\n",
    "    return s[[i for i in range(s) ]"
   ]
  },
  {
   "cell_type": "code",
   "execution_count": null,
   "id": "c252d303",
   "metadata": {},
   "outputs": [],
   "source": []
  },
  {
   "cell_type": "code",
   "execution_count": null,
   "id": "c93ae092",
   "metadata": {},
   "outputs": [],
   "source": []
  },
  {
   "cell_type": "code",
   "execution_count": null,
   "id": "f0642094",
   "metadata": {},
   "outputs": [],
   "source": []
  },
  {
   "cell_type": "markdown",
   "id": "5302780a",
   "metadata": {},
   "source": [
    "# 모범답안"
   ]
  },
  {
   "cell_type": "code",
   "execution_count": 72,
   "id": "98c6ef11",
   "metadata": {},
   "outputs": [],
   "source": [
    "def string_middle(str):\n",
    "    # 함수를 완성하세요\n",
    "\n",
    "    return str[(len(str)-1)//2:len(str)//2+1]"
   ]
  },
  {
   "cell_type": "code",
   "execution_count": null,
   "id": "d650789f",
   "metadata": {},
   "outputs": [],
   "source": [
    "5 -> 2 -> 4//2:5//2\n",
    "4 -> 1:2 -> 3//2:4//2"
   ]
  },
  {
   "cell_type": "code",
   "execution_count": 73,
   "id": "9034a691",
   "metadata": {},
   "outputs": [
    {
     "name": "stdout",
     "output_type": "stream",
     "text": [
      "c\n",
      "we\n"
     ]
    }
   ],
   "source": [
    "print(string_middle(\"abcde\"))\n",
    "print(string_middle(\"qwer\"))"
   ]
  },
  {
   "cell_type": "code",
   "execution_count": null,
   "id": "e2718818",
   "metadata": {},
   "outputs": [],
   "source": []
  },
  {
   "cell_type": "code",
   "execution_count": null,
   "id": "c12c1d4f",
   "metadata": {},
   "outputs": [],
   "source": []
  },
  {
   "cell_type": "code",
   "execution_count": null,
   "id": "b8f9c692",
   "metadata": {},
   "outputs": [],
   "source": []
  },
  {
   "cell_type": "code",
   "execution_count": null,
   "id": "9dae7c08",
   "metadata": {},
   "outputs": [],
   "source": []
  }
 ],
 "metadata": {
  "kernelspec": {
   "display_name": "Python 3 (ipykernel)",
   "language": "python",
   "name": "python3"
  },
  "language_info": {
   "codemirror_mode": {
    "name": "ipython",
    "version": 3
   },
   "file_extension": ".py",
   "mimetype": "text/x-python",
   "name": "python",
   "nbconvert_exporter": "python",
   "pygments_lexer": "ipython3",
   "version": "3.8.11"
  },
  "toc": {
   "base_numbering": 1,
   "nav_menu": {},
   "number_sections": true,
   "sideBar": true,
   "skip_h1_title": false,
   "title_cell": "Table of Contents",
   "title_sidebar": "Contents",
   "toc_cell": false,
   "toc_position": {},
   "toc_section_display": true,
   "toc_window_display": false
  },
  "varInspector": {
   "cols": {
    "lenName": 16,
    "lenType": 16,
    "lenVar": 40
   },
   "kernels_config": {
    "python": {
     "delete_cmd_postfix": "",
     "delete_cmd_prefix": "del ",
     "library": "var_list.py",
     "varRefreshCmd": "print(var_dic_list())"
    },
    "r": {
     "delete_cmd_postfix": ") ",
     "delete_cmd_prefix": "rm(",
     "library": "var_list.r",
     "varRefreshCmd": "cat(var_dic_list()) "
    }
   },
   "types_to_exclude": [
    "module",
    "function",
    "builtin_function_or_method",
    "instance",
    "_Feature"
   ],
   "window_display": true
  }
 },
 "nbformat": 4,
 "nbformat_minor": 5
}
