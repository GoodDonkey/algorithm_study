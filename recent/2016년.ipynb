{
 "cells": [
  {
   "cell_type": "markdown",
   "id": "2f5f99cf",
   "metadata": {},
   "source": [
    "# 내 답안"
   ]
  },
  {
   "cell_type": "markdown",
   "id": "5e000d57",
   "metadata": {},
   "source": [
    "2016년 1월 1일 금요일\n",
    "a월 b일은 ?\n",
    "datetime 모듈 사용"
   ]
  },
  {
   "cell_type": "code",
   "execution_count": 24,
   "id": "a73a03ec",
   "metadata": {},
   "outputs": [],
   "source": [
    "from datetime import datetime\n",
    "\n",
    "def solution(a, b):\n",
    "    day_diff = datetime(2016,a,b)-datetime(2016,1,1)\n",
    "    print(day_diff)\n",
    "    day_diff_by_7 = day_diff.days%7\n",
    "    print(day_diff_by_7)\n",
    "    day= ['SUN','MON','TUE','WED','THU','FRI','SAT']\n",
    "    \n",
    "    # 금요일이 0\n",
    "    answer = day[day_diff_by_7-2]\n",
    "    return answer"
   ]
  },
  {
   "cell_type": "code",
   "execution_count": 27,
   "id": "95bc4689",
   "metadata": {},
   "outputs": [
    {
     "name": "stdout",
     "output_type": "stream",
     "text": [
      "144 days, 0:00:00\n",
      "4\n",
      "TUE\n",
      "145 days, 0:00:00\n",
      "5\n",
      "WED\n",
      "146 days, 0:00:00\n",
      "6\n",
      "THU\n",
      "147 days, 0:00:00\n",
      "0\n",
      "FRI\n",
      "148 days, 0:00:00\n",
      "1\n",
      "SAT\n",
      "149 days, 0:00:00\n",
      "2\n",
      "SUN\n",
      "150 days, 0:00:00\n",
      "3\n",
      "MON\n"
     ]
    }
   ],
   "source": [
    "print(solution(5,24))\n",
    "print(solution(5,25))\n",
    "print(solution(5,26))\n",
    "print(solution(5,27))\n",
    "print(solution(5,28))\n",
    "print(solution(5,29))\n",
    "print(solution(5,30))\n"
   ]
  },
  {
   "cell_type": "code",
   "execution_count": 1,
   "id": "cd6350b0",
   "metadata": {},
   "outputs": [],
   "source": [
    "from datetime import datetime"
   ]
  },
  {
   "cell_type": "code",
   "execution_count": 21,
   "id": "fbc95bda",
   "metadata": {},
   "outputs": [
    {
     "data": {
      "text/plain": [
       "3"
      ]
     },
     "execution_count": 21,
     "metadata": {},
     "output_type": "execute_result"
    }
   ],
   "source": [
    "daydiff=datetime(2016,1,1)-datetime(2016,5,24) # 144\n",
    "daydiff.days%7"
   ]
  },
  {
   "cell_type": "code",
   "execution_count": 19,
   "id": "00c33377",
   "metadata": {},
   "outputs": [
    {
     "data": {
      "text/plain": [
       "4"
      ]
     },
     "execution_count": 19,
     "metadata": {},
     "output_type": "execute_result"
    }
   ],
   "source": [
    "144%7 # 나머지 4\n",
    "# 금요일이 0이므로 4를 더한 요일은 화요일임."
   ]
  },
  {
   "cell_type": "code",
   "execution_count": null,
   "id": "8e4d8b81",
   "metadata": {},
   "outputs": [],
   "source": []
  },
  {
   "cell_type": "code",
   "execution_count": null,
   "id": "4abd3490",
   "metadata": {},
   "outputs": [],
   "source": []
  },
  {
   "cell_type": "code",
   "execution_count": null,
   "id": "36c07a9a",
   "metadata": {},
   "outputs": [],
   "source": []
  },
  {
   "cell_type": "code",
   "execution_count": null,
   "id": "eaa083ba",
   "metadata": {},
   "outputs": [],
   "source": []
  },
  {
   "cell_type": "markdown",
   "id": "f4f9e4e0",
   "metadata": {},
   "source": [
    "# 모범답안"
   ]
  },
  {
   "cell_type": "code",
   "execution_count": null,
   "id": "5bbd3a05",
   "metadata": {},
   "outputs": [],
   "source": []
  },
  {
   "cell_type": "code",
   "execution_count": null,
   "id": "def3f188",
   "metadata": {},
   "outputs": [],
   "source": []
  },
  {
   "cell_type": "code",
   "execution_count": null,
   "id": "36669434",
   "metadata": {},
   "outputs": [],
   "source": []
  },
  {
   "cell_type": "code",
   "execution_count": null,
   "id": "8b385fb3",
   "metadata": {},
   "outputs": [],
   "source": []
  },
  {
   "cell_type": "code",
   "execution_count": null,
   "id": "868c99bb",
   "metadata": {},
   "outputs": [],
   "source": []
  },
  {
   "cell_type": "code",
   "execution_count": null,
   "id": "e3c4b43c",
   "metadata": {},
   "outputs": [],
   "source": []
  },
  {
   "cell_type": "code",
   "execution_count": null,
   "id": "afc07815",
   "metadata": {},
   "outputs": [],
   "source": []
  },
  {
   "cell_type": "code",
   "execution_count": null,
   "id": "9d5354bb",
   "metadata": {},
   "outputs": [],
   "source": []
  }
 ],
 "metadata": {
  "kernelspec": {
   "display_name": "Python 3 (ipykernel)",
   "language": "python",
   "name": "python3"
  },
  "language_info": {
   "codemirror_mode": {
    "name": "ipython",
    "version": 3
   },
   "file_extension": ".py",
   "mimetype": "text/x-python",
   "name": "python",
   "nbconvert_exporter": "python",
   "pygments_lexer": "ipython3",
   "version": "3.8.11"
  },
  "toc": {
   "base_numbering": 1,
   "nav_menu": {},
   "number_sections": true,
   "sideBar": true,
   "skip_h1_title": false,
   "title_cell": "Table of Contents",
   "title_sidebar": "Contents",
   "toc_cell": false,
   "toc_position": {},
   "toc_section_display": true,
   "toc_window_display": false
  },
  "varInspector": {
   "cols": {
    "lenName": 16,
    "lenType": 16,
    "lenVar": 40
   },
   "kernels_config": {
    "python": {
     "delete_cmd_postfix": "",
     "delete_cmd_prefix": "del ",
     "library": "var_list.py",
     "varRefreshCmd": "print(var_dic_list())"
    },
    "r": {
     "delete_cmd_postfix": ") ",
     "delete_cmd_prefix": "rm(",
     "library": "var_list.r",
     "varRefreshCmd": "cat(var_dic_list()) "
    }
   },
   "types_to_exclude": [
    "module",
    "function",
    "builtin_function_or_method",
    "instance",
    "_Feature"
   ],
   "window_display": true
  }
 },
 "nbformat": 4,
 "nbformat_minor": 5
}
