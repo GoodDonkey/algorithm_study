{
 "cells": [
  {
   "cell_type": "code",
   "execution_count": 6,
   "id": "48ce1e76",
   "metadata": {},
   "outputs": [],
   "source": [
    "def solution(n):\n",
    "    answer = ''\n",
    "    string = '수박'\n",
    "    # n이 홀수 -> '수', n이 짝수 -> '박'\n",
    "    if n%2==0:\n",
    "        answer = '수박' * int(n/2)\n",
    "    else:\n",
    "        answer = '수박' * int(n/2) + '수'\n",
    "    return answer"
   ]
  },
  {
   "cell_type": "code",
   "execution_count": 7,
   "id": "4c2a680d",
   "metadata": {},
   "outputs": [
    {
     "data": {
      "text/plain": [
       "'수박수박'"
      ]
     },
     "execution_count": 7,
     "metadata": {},
     "output_type": "execute_result"
    }
   ],
   "source": [
    "solution(4)"
   ]
  },
  {
   "cell_type": "code",
   "execution_count": 39,
   "id": "c2e49ed7",
   "metadata": {},
   "outputs": [],
   "source": [
    "def solution(n):\n",
    "    answer = 0\n",
    "    li = []\n",
    "    for i in range(1, n+1):\n",
    "        if n/i == round(n/i):\n",
    "            li.append(i)\n",
    "    answer = sum(li)\n",
    "    print(li)\n",
    "    return answer"
   ]
  },
  {
   "cell_type": "code",
   "execution_count": 42,
   "id": "f9a484e5",
   "metadata": {
    "scrolled": true
   },
   "outputs": [
    {
     "name": "stdout",
     "output_type": "stream",
     "text": [
      "[1, 3, 9]\n"
     ]
    },
    {
     "data": {
      "text/plain": [
       "13"
      ]
     },
     "execution_count": 42,
     "metadata": {},
     "output_type": "execute_result"
    }
   ],
   "source": [
    "solution(9)"
   ]
  },
  {
   "cell_type": "code",
   "execution_count": 28,
   "id": "6e1ab67d",
   "metadata": {},
   "outputs": [
    {
     "data": {
      "text/plain": [
       "False"
      ]
     },
     "execution_count": 28,
     "metadata": {},
     "output_type": "execute_result"
    }
   ],
   "source": [
    "10/3 == round(10/3)"
   ]
  }
 ],
 "metadata": {
  "kernelspec": {
   "display_name": "Python 3 (ipykernel)",
   "language": "python",
   "name": "python3"
  },
  "language_info": {
   "codemirror_mode": {
    "name": "ipython",
    "version": 3
   },
   "file_extension": ".py",
   "mimetype": "text/x-python",
   "name": "python",
   "nbconvert_exporter": "python",
   "pygments_lexer": "ipython3",
   "version": "3.8.11"
  },
  "toc": {
   "base_numbering": 1,
   "nav_menu": {},
   "number_sections": true,
   "sideBar": true,
   "skip_h1_title": false,
   "title_cell": "Table of Contents",
   "title_sidebar": "Contents",
   "toc_cell": false,
   "toc_position": {},
   "toc_section_display": true,
   "toc_window_display": false
  },
  "varInspector": {
   "cols": {
    "lenName": 16,
    "lenType": 16,
    "lenVar": 40
   },
   "kernels_config": {
    "python": {
     "delete_cmd_postfix": "",
     "delete_cmd_prefix": "del ",
     "library": "var_list.py",
     "varRefreshCmd": "print(var_dic_list())"
    },
    "r": {
     "delete_cmd_postfix": ") ",
     "delete_cmd_prefix": "rm(",
     "library": "var_list.r",
     "varRefreshCmd": "cat(var_dic_list()) "
    }
   },
   "types_to_exclude": [
    "module",
    "function",
    "builtin_function_or_method",
    "instance",
    "_Feature"
   ],
   "window_display": true
  }
 },
 "nbformat": 4,
 "nbformat_minor": 5
}
