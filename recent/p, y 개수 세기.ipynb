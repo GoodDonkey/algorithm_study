{
 "cells": [
  {
   "cell_type": "markdown",
   "id": "3b1a35ef",
   "metadata": {},
   "source": [
    "# 내 답안"
   ]
  },
  {
   "cell_type": "markdown",
   "id": "cf28b3d8",
   "metadata": {},
   "source": [
    "p, y를 찾아 개수가 같으면 True"
   ]
  },
  {
   "cell_type": "code",
   "execution_count": 31,
   "id": "347c4706",
   "metadata": {},
   "outputs": [],
   "source": [
    "def solution(s):\n",
    "    ycnt = 0\n",
    "    pcnt = 0\n",
    "    for i in s:\n",
    "        if i == \"p\" or i == \"P\":\n",
    "            pcnt += 1\n",
    "        elif i == \"y\" or i == \"Y\":\n",
    "            ycnt += 1\n",
    "    return pcnt==ycnt"
   ]
  },
  {
   "cell_type": "code",
   "execution_count": 32,
   "id": "585aa5af",
   "metadata": {},
   "outputs": [
    {
     "data": {
      "text/plain": [
       "True"
      ]
     },
     "execution_count": 32,
     "metadata": {},
     "output_type": "execute_result"
    }
   ],
   "source": [
    "s = \"pPoooyY\"\n",
    "solution(s)"
   ]
  },
  {
   "cell_type": "markdown",
   "id": "2d98d857",
   "metadata": {},
   "source": [
    "s를 모두 소문자로 만들고 -> p의 개수를 샌다"
   ]
  },
  {
   "cell_type": "markdown",
   "id": "e441f03a",
   "metadata": {},
   "source": [
    "# 모범답안"
   ]
  },
  {
   "cell_type": "code",
   "execution_count": null,
   "id": "7c384838",
   "metadata": {},
   "outputs": [],
   "source": [
    "def numPY(s):\n",
    "    # 함수를 완성하세요\n",
    "    return s.lower().count('p') == s.lower().count('y')"
   ]
  },
  {
   "cell_type": "code",
   "execution_count": null,
   "id": "ef48a1e8",
   "metadata": {},
   "outputs": [],
   "source": [
    "from collections import Counter\n",
    "def numPY(s):\n",
    "    # 함수를 완성하세요\n",
    "    c = Counter(s.lower())\n",
    "    return c['y'] == c['p'] "
   ]
  }
 ],
 "metadata": {
  "kernelspec": {
   "display_name": "Python 3 (ipykernel)",
   "language": "python",
   "name": "python3"
  },
  "language_info": {
   "codemirror_mode": {
    "name": "ipython",
    "version": 3
   },
   "file_extension": ".py",
   "mimetype": "text/x-python",
   "name": "python",
   "nbconvert_exporter": "python",
   "pygments_lexer": "ipython3",
   "version": "3.8.11"
  },
  "toc": {
   "base_numbering": 1,
   "nav_menu": {},
   "number_sections": true,
   "sideBar": true,
   "skip_h1_title": false,
   "title_cell": "Table of Contents",
   "title_sidebar": "Contents",
   "toc_cell": false,
   "toc_position": {},
   "toc_section_display": true,
   "toc_window_display": false
  },
  "varInspector": {
   "cols": {
    "lenName": 16,
    "lenType": 16,
    "lenVar": 40
   },
   "kernels_config": {
    "python": {
     "delete_cmd_postfix": "",
     "delete_cmd_prefix": "del ",
     "library": "var_list.py",
     "varRefreshCmd": "print(var_dic_list())"
    },
    "r": {
     "delete_cmd_postfix": ") ",
     "delete_cmd_prefix": "rm(",
     "library": "var_list.r",
     "varRefreshCmd": "cat(var_dic_list()) "
    }
   },
   "types_to_exclude": [
    "module",
    "function",
    "builtin_function_or_method",
    "instance",
    "_Feature"
   ],
   "window_display": true
  }
 },
 "nbformat": 4,
 "nbformat_minor": 5
}
