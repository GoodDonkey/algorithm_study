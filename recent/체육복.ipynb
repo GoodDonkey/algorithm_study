{
 "cells": [
  {
   "cell_type": "code",
   "execution_count": 1,
   "id": "b8ad72b6",
   "metadata": {},
   "outputs": [
    {
     "name": "stdout",
     "output_type": "stream",
     "text": [
      "time : 5.507469177246094e-05\n"
     ]
    }
   ],
   "source": [
    "import time\n",
    "start = time.time()\n",
    "print(\"time :\", time.time() - start)"
   ]
  },
  {
   "cell_type": "markdown",
   "id": "2f5f99cf",
   "metadata": {},
   "source": [
    "# 내 답안"
   ]
  },
  {
   "cell_type": "markdown",
   "id": "f90ca3a8",
   "metadata": {},
   "source": [
    "모두 뒤로, 모두 앞으로는 최대값을 찾지 못함.\n",
    "lost인데 reserve이면 n에 영향 x\n",
    "\n",
    "최대 수업학생 수는 \n",
    "n - len(lost) + 커버(len(lost)이하)\n"
   ]
  },
  {
   "cell_type": "markdown",
   "id": "b7cbec4e",
   "metadata": {},
   "source": [
    "## 12,13,18 틀림"
   ]
  },
  {
   "cell_type": "code",
   "execution_count": 75,
   "id": "3606cc77",
   "metadata": {},
   "outputs": [],
   "source": [
    "def solution(n, lost, reserve):\n",
    "    answer = 0\n",
    "    for i in reserve:\n",
    "        for j in lost:\n",
    "            if i==j:\n",
    "                lost.remove(j)\n",
    "                break\n",
    "            elif i-1==j:\n",
    "                lost.remove(j)\n",
    "                break\n",
    "            elif i+1==j:\n",
    "                lost.remove(j)\n",
    "                break\n",
    "    answer = n-len(lost)\n",
    "    return answer"
   ]
  },
  {
   "cell_type": "markdown",
   "id": "ff4cea5a",
   "metadata": {},
   "source": [
    "## 5, 12 틀림"
   ]
  },
  {
   "cell_type": "code",
   "execution_count": 145,
   "id": "cd6350b0",
   "metadata": {},
   "outputs": [],
   "source": [
    "def solution(n, lost, reserve):\n",
    "    lost.sort()\n",
    "    reserve.sort()\n",
    "    answer = 0\n",
    "    for i in reserve:\n",
    "        for j in lost:\n",
    "            if i==j:\n",
    "                lost.remove(j)\n",
    "                break\n",
    "            elif i-1==j:\n",
    "                lost.remove(j)\n",
    "                break\n",
    "            elif i+1==j:\n",
    "                lost.remove(j)\n",
    "                break\n",
    "    answer = n-len(lost)\n",
    "    return answer"
   ]
  },
  {
   "cell_type": "code",
   "execution_count": 146,
   "id": "9382c75f",
   "metadata": {
    "scrolled": true
   },
   "outputs": [
    {
     "name": "stdout",
     "output_type": "stream",
     "text": [
      "5\n",
      "2\n",
      "2\n",
      "3\n"
     ]
    }
   ],
   "source": [
    "print(solution(5, [2,4], [1,3,5]))\n",
    "print(solution(5, [1,4,7,8], [3,5,10]))\n",
    "print(solution(3, [3], [1]))\n",
    "print(solution(3,[1,2],[2,3]))"
   ]
  },
  {
   "cell_type": "code",
   "execution_count": 132,
   "id": "09fbea21",
   "metadata": {},
   "outputs": [
    {
     "name": "stdout",
     "output_type": "stream",
     "text": [
      "[3, 4, 5]\n"
     ]
    }
   ],
   "source": [
    "l = [1,2,3,4,5]\n",
    "i = [1,2]\n",
    "[l.remove(j) for j in i]\n",
    "print(l)"
   ]
  },
  {
   "cell_type": "code",
   "execution_count": 143,
   "id": "12147b62",
   "metadata": {},
   "outputs": [],
   "source": [
    "def solution(n, lost, reserve):\n",
    "    lost.sort()\n",
    "    reserve.sort()\n",
    "    answer = 0\n",
    "    llost = []\n",
    "    for i in reserve:\n",
    "        for j in lost:\n",
    "            if i==j:\n",
    "                llost.append(j)\n",
    "                break\n",
    "    [lost.remove(k) for k in llost]\n",
    "    [reserve.remove(k) for k in llost]\n",
    "    print(lost)\n",
    "    llost=[]\n",
    "    \n",
    "    for i in reserve:\n",
    "        for j in lost:\n",
    "            if i-1==j:\n",
    "                llost.append(j)\n",
    "                break\n",
    "            elif i+1==j:\n",
    "                llost.append(j)\n",
    "                break\n",
    "    [lost.remove(k) for k in llost]\n",
    "    print(lost)\n",
    "    answer = n-len(lost)\n",
    "    return answer"
   ]
  },
  {
   "cell_type": "code",
   "execution_count": 144,
   "id": "1f2c295d",
   "metadata": {},
   "outputs": [
    {
     "name": "stdout",
     "output_type": "stream",
     "text": [
      "[2, 3]\n",
      "[2, 3]\n",
      "1\n",
      "[2, 4]\n"
     ]
    },
    {
     "ename": "ValueError",
     "evalue": "list.remove(x): x not in list",
     "output_type": "error",
     "traceback": [
      "\u001b[0;31m---------------------------------------------------------------------------\u001b[0m",
      "\u001b[0;31mValueError\u001b[0m                                Traceback (most recent call last)",
      "\u001b[0;32m/var/folders/8k/35h4wcjj4rn12hqgyh1fwr7m0000gn/T/ipykernel_1265/3156433846.py\u001b[0m in \u001b[0;36m<module>\u001b[0;34m\u001b[0m\n\u001b[1;32m      1\u001b[0m \u001b[0mprint\u001b[0m\u001b[0;34m(\u001b[0m\u001b[0msolution\u001b[0m\u001b[0;34m(\u001b[0m\u001b[0;36m3\u001b[0m\u001b[0;34m,\u001b[0m \u001b[0;34m[\u001b[0m\u001b[0;36m1\u001b[0m\u001b[0;34m,\u001b[0m\u001b[0;36m2\u001b[0m\u001b[0;34m,\u001b[0m\u001b[0;36m3\u001b[0m\u001b[0;34m]\u001b[0m\u001b[0;34m,\u001b[0m \u001b[0;34m[\u001b[0m\u001b[0;36m1\u001b[0m\u001b[0;34m]\u001b[0m\u001b[0;34m)\u001b[0m\u001b[0;34m)\u001b[0m \u001b[0;31m# 2\u001b[0m\u001b[0;34m\u001b[0m\u001b[0;34m\u001b[0m\u001b[0m\n\u001b[0;32m----> 2\u001b[0;31m \u001b[0mprint\u001b[0m\u001b[0;34m(\u001b[0m\u001b[0msolution\u001b[0m\u001b[0;34m(\u001b[0m\u001b[0;36m5\u001b[0m\u001b[0;34m,\u001b[0m \u001b[0;34m[\u001b[0m\u001b[0;36m2\u001b[0m\u001b[0;34m,\u001b[0m\u001b[0;36m4\u001b[0m\u001b[0;34m]\u001b[0m\u001b[0;34m,\u001b[0m \u001b[0;34m[\u001b[0m\u001b[0;36m1\u001b[0m\u001b[0;34m,\u001b[0m\u001b[0;36m3\u001b[0m\u001b[0;34m,\u001b[0m\u001b[0;36m5\u001b[0m\u001b[0;34m]\u001b[0m\u001b[0;34m)\u001b[0m\u001b[0;34m)\u001b[0m \u001b[0;31m# 5\u001b[0m\u001b[0;34m\u001b[0m\u001b[0;34m\u001b[0m\u001b[0m\n\u001b[0m\u001b[1;32m      3\u001b[0m \u001b[0mprint\u001b[0m\u001b[0;34m(\u001b[0m\u001b[0msolution\u001b[0m\u001b[0;34m(\u001b[0m\u001b[0;36m5\u001b[0m\u001b[0;34m,\u001b[0m \u001b[0;34m[\u001b[0m\u001b[0;36m1\u001b[0m\u001b[0;34m,\u001b[0m\u001b[0;36m4\u001b[0m\u001b[0;34m,\u001b[0m\u001b[0;36m7\u001b[0m\u001b[0;34m,\u001b[0m\u001b[0;36m8\u001b[0m\u001b[0;34m]\u001b[0m\u001b[0;34m,\u001b[0m \u001b[0;34m[\u001b[0m\u001b[0;36m3\u001b[0m\u001b[0;34m,\u001b[0m\u001b[0;36m5\u001b[0m\u001b[0;34m,\u001b[0m\u001b[0;36m10\u001b[0m\u001b[0;34m]\u001b[0m\u001b[0;34m)\u001b[0m\u001b[0;34m)\u001b[0m \u001b[0;31m# 2\u001b[0m\u001b[0;34m\u001b[0m\u001b[0;34m\u001b[0m\u001b[0m\n\u001b[1;32m      4\u001b[0m \u001b[0mprint\u001b[0m\u001b[0;34m(\u001b[0m\u001b[0msolution\u001b[0m\u001b[0;34m(\u001b[0m\u001b[0;36m3\u001b[0m\u001b[0;34m,\u001b[0m \u001b[0;34m[\u001b[0m\u001b[0;36m3\u001b[0m\u001b[0;34m]\u001b[0m\u001b[0;34m,\u001b[0m \u001b[0;34m[\u001b[0m\u001b[0;36m1\u001b[0m\u001b[0;34m]\u001b[0m\u001b[0;34m)\u001b[0m\u001b[0;34m)\u001b[0m \u001b[0;31m# 2\u001b[0m\u001b[0;34m\u001b[0m\u001b[0;34m\u001b[0m\u001b[0m\n\u001b[1;32m      5\u001b[0m \u001b[0mprint\u001b[0m\u001b[0;34m(\u001b[0m\u001b[0msolution\u001b[0m\u001b[0;34m(\u001b[0m\u001b[0;36m3\u001b[0m\u001b[0;34m,\u001b[0m\u001b[0;34m[\u001b[0m\u001b[0;36m1\u001b[0m\u001b[0;34m,\u001b[0m\u001b[0;36m2\u001b[0m\u001b[0;34m]\u001b[0m\u001b[0;34m,\u001b[0m\u001b[0;34m[\u001b[0m\u001b[0;36m2\u001b[0m\u001b[0;34m,\u001b[0m\u001b[0;36m3\u001b[0m\u001b[0;34m]\u001b[0m\u001b[0;34m)\u001b[0m\u001b[0;34m)\u001b[0m \u001b[0;31m# 3\u001b[0m\u001b[0;34m\u001b[0m\u001b[0;34m\u001b[0m\u001b[0m\n",
      "\u001b[0;32m/var/folders/8k/35h4wcjj4rn12hqgyh1fwr7m0000gn/T/ipykernel_1265/3594655156.py\u001b[0m in \u001b[0;36msolution\u001b[0;34m(n, lost, reserve)\u001b[0m\n\u001b[1;32m     22\u001b[0m                 \u001b[0mllost\u001b[0m\u001b[0;34m.\u001b[0m\u001b[0mappend\u001b[0m\u001b[0;34m(\u001b[0m\u001b[0mj\u001b[0m\u001b[0;34m)\u001b[0m\u001b[0;34m\u001b[0m\u001b[0;34m\u001b[0m\u001b[0m\n\u001b[1;32m     23\u001b[0m                 \u001b[0;32mbreak\u001b[0m\u001b[0;34m\u001b[0m\u001b[0;34m\u001b[0m\u001b[0m\n\u001b[0;32m---> 24\u001b[0;31m     \u001b[0;34m[\u001b[0m\u001b[0mlost\u001b[0m\u001b[0;34m.\u001b[0m\u001b[0mremove\u001b[0m\u001b[0;34m(\u001b[0m\u001b[0mk\u001b[0m\u001b[0;34m)\u001b[0m \u001b[0;32mfor\u001b[0m \u001b[0mk\u001b[0m \u001b[0;32min\u001b[0m \u001b[0mllost\u001b[0m\u001b[0;34m]\u001b[0m\u001b[0;34m\u001b[0m\u001b[0;34m\u001b[0m\u001b[0m\n\u001b[0m\u001b[1;32m     25\u001b[0m     \u001b[0mprint\u001b[0m\u001b[0;34m(\u001b[0m\u001b[0mlost\u001b[0m\u001b[0;34m)\u001b[0m\u001b[0;34m\u001b[0m\u001b[0;34m\u001b[0m\u001b[0m\n\u001b[1;32m     26\u001b[0m     \u001b[0manswer\u001b[0m \u001b[0;34m=\u001b[0m \u001b[0mn\u001b[0m\u001b[0;34m-\u001b[0m\u001b[0mlen\u001b[0m\u001b[0;34m(\u001b[0m\u001b[0mlost\u001b[0m\u001b[0;34m)\u001b[0m\u001b[0;34m\u001b[0m\u001b[0;34m\u001b[0m\u001b[0m\n",
      "\u001b[0;32m/var/folders/8k/35h4wcjj4rn12hqgyh1fwr7m0000gn/T/ipykernel_1265/3594655156.py\u001b[0m in \u001b[0;36m<listcomp>\u001b[0;34m(.0)\u001b[0m\n\u001b[1;32m     22\u001b[0m                 \u001b[0mllost\u001b[0m\u001b[0;34m.\u001b[0m\u001b[0mappend\u001b[0m\u001b[0;34m(\u001b[0m\u001b[0mj\u001b[0m\u001b[0;34m)\u001b[0m\u001b[0;34m\u001b[0m\u001b[0;34m\u001b[0m\u001b[0m\n\u001b[1;32m     23\u001b[0m                 \u001b[0;32mbreak\u001b[0m\u001b[0;34m\u001b[0m\u001b[0;34m\u001b[0m\u001b[0m\n\u001b[0;32m---> 24\u001b[0;31m     \u001b[0;34m[\u001b[0m\u001b[0mlost\u001b[0m\u001b[0;34m.\u001b[0m\u001b[0mremove\u001b[0m\u001b[0;34m(\u001b[0m\u001b[0mk\u001b[0m\u001b[0;34m)\u001b[0m \u001b[0;32mfor\u001b[0m \u001b[0mk\u001b[0m \u001b[0;32min\u001b[0m \u001b[0mllost\u001b[0m\u001b[0;34m]\u001b[0m\u001b[0;34m\u001b[0m\u001b[0;34m\u001b[0m\u001b[0m\n\u001b[0m\u001b[1;32m     25\u001b[0m     \u001b[0mprint\u001b[0m\u001b[0;34m(\u001b[0m\u001b[0mlost\u001b[0m\u001b[0;34m)\u001b[0m\u001b[0;34m\u001b[0m\u001b[0;34m\u001b[0m\u001b[0m\n\u001b[1;32m     26\u001b[0m     \u001b[0manswer\u001b[0m \u001b[0;34m=\u001b[0m \u001b[0mn\u001b[0m\u001b[0;34m-\u001b[0m\u001b[0mlen\u001b[0m\u001b[0;34m(\u001b[0m\u001b[0mlost\u001b[0m\u001b[0;34m)\u001b[0m\u001b[0;34m\u001b[0m\u001b[0;34m\u001b[0m\u001b[0m\n",
      "\u001b[0;31mValueError\u001b[0m: list.remove(x): x not in list"
     ]
    }
   ],
   "source": [
    "print(solution(3, [1,2,3], [1])) # 1\n",
    "print(solution(5, [2,4], [1,3,5])) # 5\n",
    "print(solution(5, [1,4,7,8], [3,5,10])) # 2\n",
    "print(solution(3, [3], [1])) # 2\n",
    "print(solution(3,[1,2],[2,3])) # 3"
   ]
  },
  {
   "cell_type": "markdown",
   "id": "ac736270",
   "metadata": {},
   "source": [
    "## 13, 18 실패  -> 성공"
   ]
  },
  {
   "cell_type": "markdown",
   "id": "0fc3c345",
   "metadata": {},
   "source": [
    "for 도는 도중에 remove를 하면 for문 나머지를 안돈다.  \n",
    "그래서 따로 리스트를 만듬\n",
    "\n",
    "- 성공\n",
    "sort()추가하니 성공"
   ]
  },
  {
   "cell_type": "code",
   "execution_count": null,
   "id": "056aad86",
   "metadata": {},
   "outputs": [],
   "source": [
    "def solution(n, lost, reserve):\n",
    "    lost.sort()\n",
    "    reserve.sort()\n",
    "    answer = 0\n",
    "    llost = []\n",
    "    lreserve = []\n",
    "    \n",
    "    for j in lost:\n",
    "        for i in reserve:\n",
    "            if i==j:\n",
    "                llost.append(j)\n",
    "                lreserve.append(i)\n",
    "                break\n",
    "\n",
    "    [lost.remove(k) for k in llost]\n",
    "    [reserve.remove(k) for k in lreserve]\n",
    "    \n",
    "    llost=[]\n",
    "    lreserve = []\n",
    "    \n",
    "    for j in lost: \n",
    "        for i in reserve:\n",
    "            if i-1==j:\n",
    "                llost.append(j)\n",
    "                lreserve.append(i)\n",
    "                break\n",
    "            elif i+1==j:\n",
    "                llost.append(j)\n",
    "                lreserve.append(i)\n",
    "                break\n",
    "\n",
    "        [reserve.remove(k) for k in lreserve]\n",
    "        lreserve=[]\n",
    "\n",
    "    [lost.remove(k) for k in llost]\n",
    "    \n",
    "    answer = n-len(lost)\n",
    "    return answer"
   ]
  },
  {
   "cell_type": "code",
   "execution_count": 252,
   "id": "36c07a9a",
   "metadata": {},
   "outputs": [],
   "source": [
    "def solution(n, lost, reserve):\n",
    "    answer = 0\n",
    "    llost = []\n",
    "    lreserve = []\n",
    "    for j in lost:\n",
    "        for i in reserve:\n",
    "            if i==j:\n",
    "                llost.append(j)\n",
    "                lreserve.append(i)\n",
    "#                 lost.remove(j)\n",
    "#                 reserve.remove(j)\n",
    "                break\n",
    "    \n",
    "    print(\"llost: \", llost)\n",
    "    [lost.remove(k) for k in llost]\n",
    "    [reserve.remove(k) for k in lreserve]\n",
    "    \n",
    "    llost=[]\n",
    "    lreserve = []\n",
    "    for j in lost: \n",
    "        for i in reserve:\n",
    "            print(\"j, i: \", j, i)\n",
    "            if i-1==j:\n",
    "                llost.append(j)\n",
    "                lreserve.append(i)\n",
    "#                 lost.remove(j)\n",
    "#                 reserve.remove(i)\n",
    "                break\n",
    "            elif i+1==j:\n",
    "                llost.append(j)\n",
    "                lreserve.append(i)\n",
    "#                 lost.remove(j)\n",
    "#                 reserve.remove(i)\n",
    "                break\n",
    "        print(\"lreserve: \", lreserve)\n",
    "        [reserve.remove(k) for k in lreserve]\n",
    "        lreserve=[]\n",
    "    print(\"llost: \", llost)\n",
    "    [lost.remove(k) for k in llost]\n",
    "    print(lost)\n",
    "    answer = n-len(lost)\n",
    "    return answer"
   ]
  },
  {
   "cell_type": "code",
   "execution_count": 253,
   "id": "eaa083ba",
   "metadata": {},
   "outputs": [
    {
     "name": "stdout",
     "output_type": "stream",
     "text": [
      "llost:  [1]\n",
      "lreserve:  []\n",
      "lreserve:  []\n",
      "llost:  []\n",
      "[2, 3]\n",
      "1\n",
      "llost:  []\n",
      "j, i:  2 1\n",
      "lreserve:  [1]\n",
      "j, i:  4 3\n",
      "lreserve:  [3]\n",
      "llost:  [2, 4]\n",
      "[]\n",
      "5\n",
      "llost:  []\n",
      "j, i:  2 3\n",
      "lreserve:  [3]\n",
      "lreserve:  []\n",
      "llost:  [2]\n",
      "[4]\n",
      "4\n"
     ]
    }
   ],
   "source": [
    "print(solution(3, [1,2,3], [1])) # 1\n",
    "print(solution(5, [2,4], [1,3,5])) # 5\n",
    "# print(solution(5, [1,4,7,8], [3,5,10])) # 2\n",
    "# print(solution(3, [3], [1])) # 2\n",
    "print(solution(5, [2,4], [3])) # 4\n",
    "# print(solution(3,[1,2],[2,3])) # 2"
   ]
  },
  {
   "cell_type": "markdown",
   "id": "f4f9e4e0",
   "metadata": {},
   "source": [
    "# 모범답안"
   ]
  },
  {
   "cell_type": "code",
   "execution_count": null,
   "id": "5bbd3a05",
   "metadata": {},
   "outputs": [],
   "source": [
    "def solution(n, lost, reserve):\n",
    "    reserved = 0\n",
    "    lostN = list(set(lost) - set(reserve))\n",
    "    reserveN = list(set(reserve) - set(lost))\n",
    "    lostN.sort()\n",
    "    for l in lostN:\n",
    "        for x in range(l-1, l+2):\n",
    "            if x in reserveN:\n",
    "                reserveN.remove(x)\n",
    "                reserved += 1\n",
    "                break\n",
    "    return n - len(lostN) + reserved"
   ]
  },
  {
   "cell_type": "code",
   "execution_count": null,
   "id": "def3f188",
   "metadata": {},
   "outputs": [],
   "source": []
  },
  {
   "cell_type": "markdown",
   "id": "9002691f",
   "metadata": {},
   "source": [
    "### set은 중복x 순서x -> 집합개념\n",
    "- 인덱싱 불가\n",
    "- 합집합(|), 차집합(-), 교집합(&) 연산 가능\n",
    "- 값추가 1개(add), 여러개(update)"
   ]
  },
  {
   "cell_type": "code",
   "execution_count": 255,
   "id": "36669434",
   "metadata": {},
   "outputs": [],
   "source": [
    "def solution(n, lost, reserve):\n",
    "    lost = set(lost)\n",
    "    num_lost = len(lost)\n",
    "    reserved = set(reserve) - set(lost)\n",
    "    print(\"reserved\", reserved)\n",
    "    losted = set(lost) - set(reserve)\n",
    "    print(\"losted\", losted)\n",
    "    \n",
    "    \n",
    "\n",
    "    for r in sorted(reserved):\n",
    "        if r - 1 in losted:\n",
    "            losted = losted - {r - 1}\n",
    "\n",
    "        elif r + 1 in losted:\n",
    "            losted = losted - {r + 1}\n",
    "\n",
    "    return n - len(losted)"
   ]
  },
  {
   "cell_type": "code",
   "execution_count": 256,
   "id": "8b385fb3",
   "metadata": {},
   "outputs": [
    {
     "name": "stdout",
     "output_type": "stream",
     "text": [
      "reserved set()\n",
      "losted {2, 3}\n",
      "1\n",
      "reserved {1, 3, 5}\n",
      "losted {2, 4}\n",
      "5\n",
      "reserved {10, 3, 5}\n",
      "losted {8, 1, 4, 7}\n",
      "2\n",
      "reserved {1}\n",
      "losted {3}\n",
      "2\n",
      "reserved {3}\n",
      "losted {2, 4}\n",
      "4\n",
      "reserved {3}\n",
      "losted {1}\n",
      "2\n"
     ]
    }
   ],
   "source": [
    "print(solution(3, [1,2,3], [1])) # 1\n",
    "print(solution(5, [2,4], [1,3,5])) # 5\n",
    "print(solution(5, [1,4,7,8], [3,5,10])) # 2\n",
    "print(solution(3, [3], [1])) # 2\n",
    "print(solution(5, [2,4], [3])) # 4\n",
    "print(solution(3,[1,2],[2,3])) # 2"
   ]
  },
  {
   "cell_type": "code",
   "execution_count": null,
   "id": "868c99bb",
   "metadata": {},
   "outputs": [],
   "source": []
  },
  {
   "cell_type": "code",
   "execution_count": null,
   "id": "e3c4b43c",
   "metadata": {},
   "outputs": [],
   "source": []
  },
  {
   "cell_type": "code",
   "execution_count": null,
   "id": "afc07815",
   "metadata": {},
   "outputs": [],
   "source": []
  },
  {
   "cell_type": "code",
   "execution_count": null,
   "id": "9d5354bb",
   "metadata": {},
   "outputs": [],
   "source": []
  }
 ],
 "metadata": {
  "kernelspec": {
   "display_name": "Python 3 (ipykernel)",
   "language": "python",
   "name": "python3"
  },
  "language_info": {
   "codemirror_mode": {
    "name": "ipython",
    "version": 3
   },
   "file_extension": ".py",
   "mimetype": "text/x-python",
   "name": "python",
   "nbconvert_exporter": "python",
   "pygments_lexer": "ipython3",
   "version": "3.8.11"
  },
  "toc": {
   "base_numbering": 1,
   "nav_menu": {},
   "number_sections": true,
   "sideBar": true,
   "skip_h1_title": false,
   "title_cell": "Table of Contents",
   "title_sidebar": "Contents",
   "toc_cell": false,
   "toc_position": {},
   "toc_section_display": true,
   "toc_window_display": false
  },
  "varInspector": {
   "cols": {
    "lenName": 16,
    "lenType": 16,
    "lenVar": 40
   },
   "kernels_config": {
    "python": {
     "delete_cmd_postfix": "",
     "delete_cmd_prefix": "del ",
     "library": "var_list.py",
     "varRefreshCmd": "print(var_dic_list())"
    },
    "r": {
     "delete_cmd_postfix": ") ",
     "delete_cmd_prefix": "rm(",
     "library": "var_list.r",
     "varRefreshCmd": "cat(var_dic_list()) "
    }
   },
   "types_to_exclude": [
    "module",
    "function",
    "builtin_function_or_method",
    "instance",
    "_Feature"
   ],
   "window_display": true
  }
 },
 "nbformat": 4,
 "nbformat_minor": 5
}
