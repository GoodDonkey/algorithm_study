{
 "cells": [
  {
   "cell_type": "markdown",
   "id": "2f5f99cf",
   "metadata": {},
   "source": [
    "# 내 답안"
   ]
  },
  {
   "cell_type": "code",
   "execution_count": 35,
   "id": "a73a03ec",
   "metadata": {},
   "outputs": [],
   "source": [
    "# 효율성 통과 못함.\n",
    "def solution(participant, completion):\n",
    "    for i in completion:\n",
    "        participant.remove(i)\n",
    "    return participant[0]"
   ]
  },
  {
   "cell_type": "code",
   "execution_count": 43,
   "id": "cd6350b0",
   "metadata": {},
   "outputs": [
    {
     "name": "stdout",
     "output_type": "stream",
     "text": [
      "leo\n"
     ]
    }
   ],
   "source": [
    "participant = [\"leo\", \"kiki\", \"eden\"]\n",
    "completion = [\"eden\", \"kiki\"]\n",
    "print(solution(participant, completion))"
   ]
  },
  {
   "cell_type": "code",
   "execution_count": 168,
   "id": "fbc95bda",
   "metadata": {},
   "outputs": [],
   "source": [
    "# 해시 써서 해봤으나 동명이인 있으면 틀림\n",
    "def solution(participant, completion):\n",
    "    \n",
    "    p_hash = list(map(hash, participant))\n",
    "    c_hash = list(map(hash, completion))\n",
    "    \n",
    "    for h in p_hash:\n",
    "        if h not in c_hash:\n",
    "            return participant[p_hash.index(h)]"
   ]
  },
  {
   "cell_type": "code",
   "execution_count": 169,
   "id": "669ea4f6",
   "metadata": {},
   "outputs": [
    {
     "name": "stdout",
     "output_type": "stream",
     "text": [
      "leo\n"
     ]
    }
   ],
   "source": [
    "participant = [\"leo\", \"kiki\", \"eden\"]\n",
    "completion = [\"eden\", \"kiki\"]\n",
    "print(solution(participant, completion))\n"
   ]
  },
  {
   "cell_type": "code",
   "execution_count": 183,
   "id": "8e4d8b81",
   "metadata": {},
   "outputs": [],
   "source": [
    "def solution(participant, completion):\n",
    "    \n",
    "    participant.sort()\n",
    "    completion.sort()\n",
    "    \n",
    "    for p, c in zip(participant, completion):\n",
    "        print(p, c)\n",
    "        if p != c:  # 같지않은게 있으면 그걸 리턴\n",
    "            return p\n",
    "    return participant.pop()  # 마지막이면 pop"
   ]
  },
  {
   "cell_type": "code",
   "execution_count": 184,
   "id": "4abd3490",
   "metadata": {},
   "outputs": [
    {
     "name": "stdout",
     "output_type": "stream",
     "text": [
      "eden eden\n",
      "kiki kiki\n",
      "leo\n"
     ]
    }
   ],
   "source": [
    "participant = [\"leo\", \"kiki\", \"eden\"]\n",
    "completion = [\"eden\", \"kiki\"]\n",
    "print(solution(participant, completion))"
   ]
  },
  {
   "cell_type": "code",
   "execution_count": 185,
   "id": "36c07a9a",
   "metadata": {},
   "outputs": [
    {
     "name": "stdout",
     "output_type": "stream",
     "text": [
      "ana ana\n",
      "mislav mislav\n",
      "mislav stanko\n",
      "mislav\n"
     ]
    }
   ],
   "source": [
    "print(solution([\"mislav\", \"stanko\", \"mislav\", \"ana\"], [\"stanko\", \"ana\", \"mislav\"]))"
   ]
  },
  {
   "cell_type": "code",
   "execution_count": null,
   "id": "eaa083ba",
   "metadata": {},
   "outputs": [],
   "source": []
  },
  {
   "cell_type": "markdown",
   "id": "f4f9e4e0",
   "metadata": {},
   "source": [
    "# 모범답안"
   ]
  },
  {
   "cell_type": "code",
   "execution_count": 194,
   "id": "5bbd3a05",
   "metadata": {},
   "outputs": [],
   "source": [
    "import collections\n",
    "\n",
    "\n",
    "def solution(participant, completion):\n",
    "    answer = collections.Counter(participant) - collections.Counter(completion)\n",
    "    return list(answer.keys())[0]"
   ]
  },
  {
   "cell_type": "code",
   "execution_count": 193,
   "id": "def3f188",
   "metadata": {},
   "outputs": [
    {
     "name": "stdout",
     "output_type": "stream",
     "text": [
      "Counter({'mislav': 1})\n",
      "mislav\n"
     ]
    }
   ],
   "source": [
    "print(solution([\"mislav\", \"stanko\", \"mislav\", \"ana\"], [\"stanko\", \"ana\", \"mislav\"]))"
   ]
  },
  {
   "cell_type": "markdown",
   "id": "32df8870",
   "metadata": {},
   "source": [
    "## collections.Counter\n",
    "- 각 원소의 개수를 세어줌.\n",
    "- Counter 객체는 뺄셈이 가능함."
   ]
  },
  {
   "cell_type": "code",
   "execution_count": 195,
   "id": "08c35775",
   "metadata": {},
   "outputs": [],
   "source": [
    "def solution(participant, completion):\n",
    "    answer = collections.Counter(participant) - collections.Counter(completion)\n",
    "    print(answer)\n",
    "    return list(answer.keys())[0]"
   ]
  },
  {
   "cell_type": "code",
   "execution_count": 196,
   "id": "89405fdf",
   "metadata": {},
   "outputs": [
    {
     "name": "stdout",
     "output_type": "stream",
     "text": [
      "Counter({'mislav': 1})\n",
      "mislav\n"
     ]
    }
   ],
   "source": [
    "print(solution([\"mislav\", \"stanko\", \"mislav\", \"ana\"], [\"stanko\", \"ana\", \"mislav\"]))"
   ]
  },
  {
   "cell_type": "code",
   "execution_count": 197,
   "id": "36669434",
   "metadata": {},
   "outputs": [],
   "source": [
    "participant = [\"leo\", \"kiki\", \"eden\"]\n",
    "completion = [\"eden\", \"kiki\"]"
   ]
  },
  {
   "cell_type": "code",
   "execution_count": 198,
   "id": "8b385fb3",
   "metadata": {},
   "outputs": [
    {
     "data": {
      "text/plain": [
       "Counter({'leo': 1, 'kiki': 1, 'eden': 1})"
      ]
     },
     "execution_count": 198,
     "metadata": {},
     "output_type": "execute_result"
    }
   ],
   "source": [
    "collections.Counter(participant)"
   ]
  },
  {
   "cell_type": "code",
   "execution_count": null,
   "id": "868c99bb",
   "metadata": {},
   "outputs": [],
   "source": []
  },
  {
   "cell_type": "markdown",
   "id": "6199da56",
   "metadata": {},
   "source": [
    "## 해시 사용\n",
    "\n",
    "- 모든 해시는 다르게 나옴.\n",
    "- 숫자로 취급해서 계속 더해가고, completion의 해시 숫자를 모두 빼면,\n",
    "- 남는 해시값이 곧 답이 된다."
   ]
  },
  {
   "cell_type": "code",
   "execution_count": 201,
   "id": "afc07815",
   "metadata": {},
   "outputs": [],
   "source": [
    "def solution(participant, completion):\n",
    "    answer = ''\n",
    "    temp = 0\n",
    "    dic = {}\n",
    "    for part in participant:\n",
    "        dic[hash(part)] = part\n",
    "        temp += int(hash(part))\n",
    "        print(temp)\n",
    "    for com in completion:\n",
    "        temp -= hash(com)\n",
    "        print(temp)\n",
    "    answer = dic[temp]\n",
    "\n",
    "    return answer"
   ]
  },
  {
   "cell_type": "code",
   "execution_count": 202,
   "id": "b5e38127",
   "metadata": {},
   "outputs": [
    {
     "name": "stdout",
     "output_type": "stream",
     "text": [
      "4662612287192861671\n",
      "7466815193824723270\n",
      "12129427481017584941\n",
      "9559638598804731725\n",
      "6755435692172870126\n",
      "9325224574385723342\n",
      "4662612287192861671\n",
      "mislav\n"
     ]
    }
   ],
   "source": [
    "print(solution([\"mislav\", \"stanko\", \"mislav\", \"ana\"], [\"stanko\", \"ana\", \"mislav\"]))"
   ]
  },
  {
   "cell_type": "code",
   "execution_count": null,
   "id": "6b1f3009",
   "metadata": {},
   "outputs": [],
   "source": []
  },
  {
   "cell_type": "code",
   "execution_count": null,
   "id": "950752df",
   "metadata": {},
   "outputs": [],
   "source": []
  },
  {
   "cell_type": "code",
   "execution_count": null,
   "id": "e6c62787",
   "metadata": {},
   "outputs": [],
   "source": []
  },
  {
   "cell_type": "code",
   "execution_count": null,
   "id": "95ec316c",
   "metadata": {},
   "outputs": [],
   "source": []
  },
  {
   "cell_type": "code",
   "execution_count": null,
   "id": "9d5354bb",
   "metadata": {},
   "outputs": [],
   "source": []
  }
 ],
 "metadata": {
  "kernelspec": {
   "display_name": "Python 3 (ipykernel)",
   "language": "python",
   "name": "python3"
  },
  "language_info": {
   "codemirror_mode": {
    "name": "ipython",
    "version": 3
   },
   "file_extension": ".py",
   "mimetype": "text/x-python",
   "name": "python",
   "nbconvert_exporter": "python",
   "pygments_lexer": "ipython3",
   "version": "3.8.11"
  },
  "toc": {
   "base_numbering": 1,
   "nav_menu": {},
   "number_sections": true,
   "sideBar": true,
   "skip_h1_title": false,
   "title_cell": "Table of Contents",
   "title_sidebar": "Contents",
   "toc_cell": false,
   "toc_position": {},
   "toc_section_display": true,
   "toc_window_display": false
  },
  "varInspector": {
   "cols": {
    "lenName": 16,
    "lenType": 16,
    "lenVar": 40
   },
   "kernels_config": {
    "python": {
     "delete_cmd_postfix": "",
     "delete_cmd_prefix": "del ",
     "library": "var_list.py",
     "varRefreshCmd": "print(var_dic_list())"
    },
    "r": {
     "delete_cmd_postfix": ") ",
     "delete_cmd_prefix": "rm(",
     "library": "var_list.r",
     "varRefreshCmd": "cat(var_dic_list()) "
    }
   },
   "types_to_exclude": [
    "module",
    "function",
    "builtin_function_or_method",
    "instance",
    "_Feature"
   ],
   "window_display": true
  }
 },
 "nbformat": 4,
 "nbformat_minor": 5
}
