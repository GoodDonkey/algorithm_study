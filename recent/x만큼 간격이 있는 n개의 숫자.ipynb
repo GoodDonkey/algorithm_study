{
 "cells": [
  {
   "cell_type": "markdown",
   "id": "4be0deed",
   "metadata": {},
   "source": [
    "문제 설명\n",
    "함수 solution은 정수 x와 자연수 n을 입력 받아, x부터 시작해 x씩 증가하는 숫자를 n개 지니는 리스트를 리턴해야 합니다. 다음 제한 조건을 보고, 조건을 만족하는 함수, solution을 완성해주세요.\n",
    "\n",
    "제한 조건\n",
    "x는 -10000000 이상, 10000000 이하인 정수입니다.\n",
    "n은 1000 이하인 자연수입니다.\n",
    "입출력 예\n",
    "x\tn\tanswer\n",
    "2\t5\t[2,4,6,8,10]\n",
    "4\t3\t[4,8,12]\n",
    "-4\t2\t[-4, -8]"
   ]
  },
  {
   "cell_type": "markdown",
   "id": "2f5f99cf",
   "metadata": {},
   "source": [
    "# 내 답안"
   ]
  },
  {
   "cell_type": "code",
   "execution_count": 21,
   "id": "a73a03ec",
   "metadata": {},
   "outputs": [],
   "source": [
    "# 런타임 에러\n",
    "def solution(x, n):\n",
    "    if x > 0:\n",
    "        answer = list(range(x, x*(n+1), x ))\n",
    "    else:\n",
    "        answer = list(range(x, x*n-1, x ))\n",
    "    return answer"
   ]
  },
  {
   "cell_type": "code",
   "execution_count": 30,
   "id": "fc535ab3",
   "metadata": {},
   "outputs": [],
   "source": [
    "# 런타임 에러\n",
    "def solution(x, n):\n",
    "    return list(range(x, x*n+1, x)) if x>0 else list(range(x, x*n-1, x ))"
   ]
  },
  {
   "cell_type": "code",
   "execution_count": 39,
   "id": "ed55db29",
   "metadata": {},
   "outputs": [],
   "source": [
    "# 런타임 에러\n",
    "def solution(x, n):\n",
    "    return list(range(x, x*(n+1), x ))"
   ]
  },
  {
   "cell_type": "code",
   "execution_count": 33,
   "id": "e59c51c0",
   "metadata": {},
   "outputs": [],
   "source": [
    "# 정답  -  x = 0일때를 해결해야 했다.\n",
    "def solution(x, n):\n",
    "    return list(range(x, x*(n+1), x )) if x!=0 else [0]*n"
   ]
  },
  {
   "cell_type": "code",
   "execution_count": 38,
   "id": "b81adea5",
   "metadata": {},
   "outputs": [
    {
     "data": {
      "text/plain": [
       "[0, 0, 0]"
      ]
     },
     "execution_count": 38,
     "metadata": {},
     "output_type": "execute_result"
    }
   ],
   "source": [
    "[0]*3"
   ]
  },
  {
   "cell_type": "code",
   "execution_count": 40,
   "id": "cd6350b0",
   "metadata": {},
   "outputs": [
    {
     "data": {
      "text/plain": [
       "[2, 4, 6, 8, 10]"
      ]
     },
     "execution_count": 40,
     "metadata": {},
     "output_type": "execute_result"
    }
   ],
   "source": [
    "solution(2,5)"
   ]
  },
  {
   "cell_type": "code",
   "execution_count": 41,
   "id": "fbc95bda",
   "metadata": {},
   "outputs": [
    {
     "data": {
      "text/plain": [
       "[-4, -8]"
      ]
     },
     "execution_count": 41,
     "metadata": {},
     "output_type": "execute_result"
    }
   ],
   "source": [
    "solution(-4,2)"
   ]
  },
  {
   "cell_type": "code",
   "execution_count": null,
   "id": "8e4d8b81",
   "metadata": {},
   "outputs": [],
   "source": []
  },
  {
   "cell_type": "code",
   "execution_count": null,
   "id": "4abd3490",
   "metadata": {},
   "outputs": [],
   "source": []
  },
  {
   "cell_type": "code",
   "execution_count": null,
   "id": "36c07a9a",
   "metadata": {},
   "outputs": [],
   "source": []
  },
  {
   "cell_type": "code",
   "execution_count": null,
   "id": "eaa083ba",
   "metadata": {},
   "outputs": [],
   "source": []
  },
  {
   "cell_type": "markdown",
   "id": "f4f9e4e0",
   "metadata": {},
   "source": [
    "# 모범답안"
   ]
  },
  {
   "cell_type": "markdown",
   "id": "b68f0770",
   "metadata": {},
   "source": [
    "답안들이 다 런타임에러를 해결못하는 답안임."
   ]
  },
  {
   "cell_type": "code",
   "execution_count": null,
   "id": "def3f188",
   "metadata": {},
   "outputs": [],
   "source": []
  },
  {
   "cell_type": "code",
   "execution_count": null,
   "id": "36669434",
   "metadata": {},
   "outputs": [],
   "source": []
  },
  {
   "cell_type": "code",
   "execution_count": null,
   "id": "8b385fb3",
   "metadata": {},
   "outputs": [],
   "source": []
  },
  {
   "cell_type": "code",
   "execution_count": null,
   "id": "868c99bb",
   "metadata": {},
   "outputs": [],
   "source": []
  },
  {
   "cell_type": "code",
   "execution_count": null,
   "id": "e3c4b43c",
   "metadata": {},
   "outputs": [],
   "source": []
  },
  {
   "cell_type": "code",
   "execution_count": null,
   "id": "afc07815",
   "metadata": {},
   "outputs": [],
   "source": []
  },
  {
   "cell_type": "code",
   "execution_count": null,
   "id": "9d5354bb",
   "metadata": {},
   "outputs": [],
   "source": []
  }
 ],
 "metadata": {
  "kernelspec": {
   "display_name": "Python 3 (ipykernel)",
   "language": "python",
   "name": "python3"
  },
  "language_info": {
   "codemirror_mode": {
    "name": "ipython",
    "version": 3
   },
   "file_extension": ".py",
   "mimetype": "text/x-python",
   "name": "python",
   "nbconvert_exporter": "python",
   "pygments_lexer": "ipython3",
   "version": "3.8.11"
  },
  "toc": {
   "base_numbering": 1,
   "nav_menu": {},
   "number_sections": true,
   "sideBar": true,
   "skip_h1_title": false,
   "title_cell": "Table of Contents",
   "title_sidebar": "Contents",
   "toc_cell": false,
   "toc_position": {},
   "toc_section_display": true,
   "toc_window_display": false
  },
  "varInspector": {
   "cols": {
    "lenName": 16,
    "lenType": 16,
    "lenVar": 40
   },
   "kernels_config": {
    "python": {
     "delete_cmd_postfix": "",
     "delete_cmd_prefix": "del ",
     "library": "var_list.py",
     "varRefreshCmd": "print(var_dic_list())"
    },
    "r": {
     "delete_cmd_postfix": ") ",
     "delete_cmd_prefix": "rm(",
     "library": "var_list.r",
     "varRefreshCmd": "cat(var_dic_list()) "
    }
   },
   "types_to_exclude": [
    "module",
    "function",
    "builtin_function_or_method",
    "instance",
    "_Feature"
   ],
   "window_display": false
  }
 },
 "nbformat": 4,
 "nbformat_minor": 5
}
